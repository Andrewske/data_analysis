{
 "cells": [
  {
   "cell_type": "code",
   "execution_count": null,
   "metadata": {},
   "outputs": [],
   "source": [
    "import pandas as pd\n",
    "import numpy as np\n"
   ]
  },
  {
   "cell_type": "markdown",
   "metadata": {},
   "source": [
    "Collect a sample of sellers who created their account in 2018:\n",
    "    - booth_ids_2018 = Booth.where(\"created_at >= ? and created_at < ?\", '2018-01-01', '2019-01-01').limit(10000).order(\"RAND()\").pluck(:id)\n",
    "    - booths_2018_samp1 = Booth.select(\"id, seller_id, created_at, committed, canceled\").where(id: booth_ids_2018).group(1).all\n",
    "    - RecordExporter.export_to_csv(booths_2018_samp1, to: \"bonanzakevin\", title: \"booths_2018_samp1\")\n"
   ]
  },
  {
   "cell_type": "code",
   "execution_count": null,
   "metadata": {},
   "outputs": [],
   "source": [
    "df = pd.read_csv('booths_2018_samp1')"
   ]
  }
 ],
 "metadata": {
  "kernelspec": {
   "display_name": "Python 3",
   "language": "python",
   "name": "python3"
  },
  "language_info": {
   "codemirror_mode": {
    "name": "ipython",
    "version": 3
   },
   "file_extension": ".py",
   "mimetype": "text/x-python",
   "name": "python",
   "nbconvert_exporter": "python",
   "pygments_lexer": "ipython3",
   "version": "3.7.1"
  }
 },
 "nbformat": 4,
 "nbformat_minor": 2
}
