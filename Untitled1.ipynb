{
 "cells": [
  {
   "cell_type": "code",
   "execution_count": 28,
   "metadata": {},
   "outputs": [
    {
     "name": "stdout",
     "output_type": "stream",
     "text": [
      "id                      float64\n",
      "featured_category_id     object\n",
      "profit_estimate         float64\n",
      "value_em                 object\n",
      "created_at               object\n",
      "first_sale               object\n",
      "days_to_sale            float64\n",
      "days_as_user            float64\n",
      "profit_per_day          float64\n",
      "orders                  float64\n",
      "d_per_order             float64\n",
      "source_em               float64\n",
      "city                     object\n",
      "state                    object\n",
      "country                  object\n",
      "items_for_sale          float64\n",
      "view_count              float64\n",
      "offers                  float64\n",
      "conversion_rate          object\n",
      "membership_level        float64\n",
      "feedback                float64\n",
      "rate                    float64\n",
      "rating                  float64\n",
      "dtype: object\n"
     ]
    }
   ],
   "source": [
    "import os\n",
    "import pandas as pd\n",
    "from matplotlib import pyplot as plt\n",
    "import numpy as np\n",
    "import seaborn as sns\n",
    "import cufflinks as cf\n",
    "import dateutil\n",
    "\n",
    "\n",
    "import plotly.plotly as py\n",
    "import plotly.tools as tls\n",
    "import plotly.graph_objs as go\n",
    "\n",
    "\n",
    "df = pd.read_csv(\"downloads/winning_booths_data.csv\")\n",
    "\n",
    "print(df.dtypes)"
   ]
  },
  {
   "cell_type": "code",
   "execution_count": 75,
   "metadata": {},
   "outputs": [
    {
     "name": "stdout",
     "output_type": "stream",
     "text": [
      "<pandas.core.groupby.DataFrameGroupBy object at 0x1a18d7ef60>\n",
      "Index(['MINNOW', 'DOLPHIN', 'SEA_BASS', 'WHALE'], dtype='object')\n"
     ]
    }
   ],
   "source": [
    "grouped = df.groupby(['value_em','featured_category_id'])\n",
    "\n",
    "print(grouped)\n",
    "\n",
    "\n",
    "x = y.keys()\n",
    "print(x)\n",
    "\n"
   ]
  },
  {
   "cell_type": "code",
   "execution_count": 64,
   "metadata": {},
   "outputs": [],
   "source": [
    "category_names = df.featured_category_id\n",
    "\n",
    "whale = df[df.value_em == 'WHALE']\n",
    "minnow = df[df.value_em == 'MINNOW']\n",
    "sea_bass = df[df.value_em == 'SEA_BASS']\n",
    "dolphin = df[df.value_em == 'DOLPHIN']\n",
    "\n",
    "no_category = df[df.featured_category_id == 'No Category']\n",
    "fashion = df[df.featured_category_id == 'Fashion']\n",
    "home_garden = df[df.featured_category_id == 'Home & Garden']\n",
    "parts_access = df[df.featured_category_id == 'Parts & Accessories']\n",
    "health_beauty = df[df.featured_category_id == 'Health & Beauty']\n",
    "jewelry_watch = df[df.featured_category_id == 'Jewelry & Watches']\n",
    "\n",
    "\n"
   ]
  },
  {
   "cell_type": "code",
   "execution_count": 22,
   "metadata": {},
   "outputs": [
    {
     "ename": "TypeError",
     "evalue": "'DataFrame' object is not callable",
     "output_type": "error",
     "traceback": [
      "\u001b[0;31m---------------------------------------------------------------------------\u001b[0m",
      "\u001b[0;31mTypeError\u001b[0m                                 Traceback (most recent call last)",
      "\u001b[0;32m<ipython-input-22-c15e3e1afc74>\u001b[0m in \u001b[0;36m<module>\u001b[0;34m()\u001b[0m\n\u001b[1;32m      2\u001b[0m \u001b[0;34m\u001b[0m\u001b[0m\n\u001b[1;32m      3\u001b[0m \u001b[0;34m\u001b[0m\u001b[0m\n\u001b[0;32m----> 4\u001b[0;31m \u001b[0mx\u001b[0m \u001b[0;34m=\u001b[0m \u001b[0mgrouped\u001b[0m\u001b[0;34m(\u001b[0m\u001b[0;34m'featured_category_id'\u001b[0m\u001b[0;34m)\u001b[0m\u001b[0;34m\u001b[0m\u001b[0m\n\u001b[0m\u001b[1;32m      5\u001b[0m \u001b[0mprint\u001b[0m\u001b[0;34m(\u001b[0m\u001b[0mx\u001b[0m\u001b[0;34m)\u001b[0m\u001b[0;34m\u001b[0m\u001b[0m\n",
      "\u001b[0;31mTypeError\u001b[0m: 'DataFrame' object is not callable"
     ]
    }
   ],
   "source": []
  },
  {
   "cell_type": "code",
   "execution_count": 54,
   "metadata": {},
   "outputs": [
    {
     "data": {
      "text/html": [
       "<iframe id=\"igraph\" scrolling=\"no\" style=\"border:none;\" seamless=\"seamless\" src=\"https://plot.ly/~kevinbigfoot/4.embed\" height=\"525px\" width=\"100%\"></iframe>"
      ],
      "text/plain": [
       "<plotly.tools.PlotlyDisplay object>"
      ]
     },
     "execution_count": 54,
     "metadata": {},
     "output_type": "execute_result"
    }
   ],
   "source": [
    "data = [go.Bar(\n",
    "            x=list(x),\n",
    "            y=list(y)\n",
    "    )]\n",
    "\n",
    "py.iplot(data, filename='basic-bar')"
   ]
  },
  {
   "cell_type": "code",
   "execution_count": null,
   "metadata": {},
   "outputs": [],
   "source": []
  }
 ],
 "metadata": {
  "kernelspec": {
   "display_name": "Python 3",
   "language": "python",
   "name": "python3"
  },
  "language_info": {
   "codemirror_mode": {
    "name": "ipython",
    "version": 3
   },
   "file_extension": ".py",
   "mimetype": "text/x-python",
   "name": "python",
   "nbconvert_exporter": "python",
   "pygments_lexer": "ipython3",
   "version": "3.6.4"
  }
 },
 "nbformat": 4,
 "nbformat_minor": 2
}
