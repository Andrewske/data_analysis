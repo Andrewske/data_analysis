{
 "cells": [
  {
   "cell_type": "code",
   "execution_count": 1,
   "metadata": {},
   "outputs": [],
   "source": [
    "import pandas as pd\n",
    "from matplotlib import pyplot as plt\n",
    "import numpy as np\n",
    "import seaborn as sns\n",
    "import cufflinks as cf\n",
    "\n",
    "import plotly.plotly as py\n",
    "import plotly.tools as tls\n",
    "import plotly.graph_objs as go\n",
    "import plotly.offline as po\n",
    "\n",
    "orig_df = pd.read_csv(\"winning_booths_data.csv\")\n",
    "\n",
    "top_categories = ['No Category', 'Fashion', 'Home & Garden', 'Health & Beauty', 'Parts & Accessories', 'Jewelry & Watches']\n",
    "df = orig_df[orig_df.featured_category_id.isin(top_categories)]\n"
   ]
  },
  {
   "cell_type": "code",
   "execution_count": 2,
   "metadata": {},
   "outputs": [],
   "source": [
    "no_category = df.profit_estimate[df.featured_category_id == 'No Category']\n",
    "fashion = df.profit_estimate[df.featured_category_id == 'Fashion']\n",
    "home_garden = df.profit_estimate[df.featured_category_id == 'Home & Garden']\n",
    "health_beauty = df.profit_estimate[df.featured_category_id == 'Health & Beauty']\n",
    "parts_accessories = df.profit_estimate[df.featured_category_id == 'Parts & Accessories']\n",
    "jewelry_watches = df.profit_estimate[df.featured_category_id == 'Jewelry & Watches']\n",
    "categories = [no_category, fashion, home_garden, health_beauty, parts_accessories, jewelry_watches]"
   ]
  },
  {
   "cell_type": "code",
   "execution_count": 3,
   "metadata": {},
   "outputs": [
    {
     "name": "stdout",
     "output_type": "stream",
     "text": [
      "418\n"
     ]
    }
   ],
   "source": [
    "size = len(df)\n",
    "for category in categories:\n",
    "    if len(category) < size:\n",
    "        size = len(category)\n",
    "print(size)"
   ]
  },
  {
   "cell_type": "code",
   "execution_count": 4,
   "metadata": {},
   "outputs": [],
   "source": [
    "no_category = no_category.sample(size)\n",
    "fashion = fashion.sample(size)\n",
    "home_garden = home_garden.sample(size)\n",
    "health_beauty = health_beauty.sample(size)\n",
    "parts_accessories = parts_accessories.sample(size)\n",
    "jewelry_watches = jewelry_watches.sample(size)"
   ]
  },
  {
   "cell_type": "code",
   "execution_count": 5,
   "metadata": {},
   "outputs": [],
   "source": [
    "x_data = top_categories\n",
    "y_data = categories"
   ]
  },
  {
   "cell_type": "code",
   "execution_count": 6,
   "metadata": {},
   "outputs": [],
   "source": [
    "traces = []\n",
    "colors = ['blue', 'orange', 'green', 'red', 'purple', 'yellow']\n",
    "for xd, yd, cls in zip(x_data, y_data, colors):\n",
    "        traces.append(go.Box(\n",
    "            y=yd,\n",
    "            name=xd,\n",
    "            boxmean=True,\n",
    "            boxpoints = 'suspectedoutliers',\n",
    "        ))"
   ]
  },
  {
   "cell_type": "code",
   "execution_count": 7,
   "metadata": {},
   "outputs": [],
   "source": [
    "layout = go.Layout(\n",
    "    title='Profit Distribution by Category',\n",
    "    yaxis=dict(\n",
    "        autorange=True,\n",
    "        showgrid=True,\n",
    "        zeroline=True,\n",
    "        gridcolor='rgb(255, 255, 255)',\n",
    "        gridwidth=1,\n",
    "        zerolinecolor='rgb(255, 255, 255)',\n",
    "        zerolinewidth=2,\n",
    "    ),\n",
    "    margin=dict(\n",
    "        l=40,\n",
    "        r=30,\n",
    "        b=80,\n",
    "        t=100,\n",
    "    ),\n",
    "    paper_bgcolor='rgb(243, 243, 243)',\n",
    "    plot_bgcolor='rgb(243, 243, 243)',\n",
    "    showlegend=False\n",
    ")\n",
    "fig = go.Figure(data=traces, layout=layout)"
   ]
  },
  {
   "cell_type": "code",
   "execution_count": 8,
   "metadata": {},
   "outputs": [
    {
     "data": {
      "text/plain": [
       "'file:///Users/kevin/data_analysis/temp-plot.html'"
      ]
     },
     "execution_count": 8,
     "metadata": {},
     "output_type": "execute_result"
    }
   ],
   "source": [
    "po.plot(fig)"
   ]
  },
  {
   "cell_type": "code",
   "execution_count": 40,
   "metadata": {},
   "outputs": [],
   "source": [
    "opt = []\n",
    "opts = []\n",
    "for i in range(0, len(colors)):\n",
    "    opt = dict(\n",
    "        target = df.featured_category_id.unique()[i], value = dict(marker = dict(color = colors[i]))\n",
    "    )\n",
    "    opts.append(opt)"
   ]
  },
  {
   "cell_type": "code",
   "execution_count": 3,
   "metadata": {},
   "outputs": [],
   "source": [
    "data = [dict(\n",
    "  type = 'scatter',\n",
    "  mode = 'markers',\n",
    "  x = df['days_as_user'],\n",
    "  y = df['profit_estimate'],\n",
    "  text = (df['id']),\n",
    "  hovermode='closest',  \n",
    "  hoverinfo = 'text',\n",
    "  opacity = 0.8,\n",
    "  marker = dict(\n",
    "      size = df['orders'],\n",
    "      sizemode = 'area',\n",
    "      sizeref = 2.*max(df['orders'])/(100.**2),\n",
    "  ),\n",
    "  transforms = [\n",
    "      dict(\n",
    "        type = 'groupby',\n",
    "        groups = df['featured_category_id'],\n",
    "        styles = opts\n",
    "    )]\n",
    ")]"
   ]
  },
  {
   "cell_type": "code",
   "execution_count": 4,
   "metadata": {},
   "outputs": [],
   "source": [
    "layout = dict(\n",
    "    yaxis = dict(\n",
    "        \n",
    "    )\n",
    ")"
   ]
  },
  {
   "cell_type": "code",
   "execution_count": 5,
   "metadata": {},
   "outputs": [
    {
     "data": {
      "text/plain": [
       "'file:///Users/bonanza/data_analysis/temp-plot.html'"
      ]
     },
     "execution_count": 5,
     "metadata": {},
     "output_type": "execute_result"
    }
   ],
   "source": [
    "po.plot({'data': data, 'layout': layout}, validate=False)"
   ]
  },
  {
   "cell_type": "code",
   "execution_count": null,
   "metadata": {},
   "outputs": [],
   "source": []
  }
 ],
 "metadata": {
  "kernelspec": {
   "display_name": "Python 3",
   "language": "python",
   "name": "python3"
  },
  "language_info": {
   "codemirror_mode": {
    "name": "ipython",
    "version": 3
   },
   "file_extension": ".py",
   "mimetype": "text/x-python",
   "name": "python",
   "nbconvert_exporter": "python",
   "pygments_lexer": "ipython3",
   "version": "3.6.4"
  }
 },
 "nbformat": 4,
 "nbformat_minor": 2
}
