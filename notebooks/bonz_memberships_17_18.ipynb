{
 "cells": [
  {
   "cell_type": "code",
   "execution_count": 33,
   "metadata": {},
   "outputs": [],
   "source": [
    "import pandas as pd\n",
    "import numpy as np\n",
    "from matplotlib import pyplot as plt\n",
    "\n",
    "import plotly.plotly as py\n",
    "import plotly.tools as tls\n",
    "import plotly.graph_objs as go\n",
    "import plotly.offline as po\n",
    "\n",
    "df_18 = pd.read_csv('../csv/memberships_2018.csv')\n",
    "df_17 = pd.read_csv('../csv/memberships_2017.csv')\n",
    "\n",
    "\n",
    "#Drop Columns\n",
    "columns_to_remove = ['id', 'user_id', 'type','record_id','notes','gco_order_number','paypal_order_number', 'status', \n",
    "                     'updated_at', 'state', 'parent_id', 'credits_remaining', 'credits_pregrant', 'burn_user_id',\n",
    "                     'free_trial', 'refund_date', 'processor_em', 'admin_granted', 'turbo_traffic_optimize_em', 'pricing_table_em']\n"
   ]
  },
  {
   "cell_type": "code",
   "execution_count": 3,
   "metadata": {},
   "outputs": [
    {
     "name": "stdout",
     "output_type": "stream",
     "text": [
      "Monthly Count 2018: 21169\n",
      "Annual Count 2018: 1952\n",
      "Monthly Count 2017: 26138\n",
      "Annual Count 2017: 2086\n",
      "State Refunded 2018: 1299\n",
      "State Refunded 2017: 1758\n",
      "Admin Granted 2018: 650\n",
      "Admin Granted 2017: 492\n",
      "Is First Payment 2018: 9034\n",
      "Is First Payment 2017: 11819\n"
     ]
    }
   ],
   "source": [
    "print('Monthly Count 2018: ' + str(round(df_18.amount[df_18.subscription_term_length == 1].count())))\n",
    "print('Annual Count 2018: ' + str(round(df_18.amount[df_18.subscription_term_length == 12].count())))\n",
    "\n",
    "print('Monthly Count 2017: ' + str(round(df_17.amount[df_17.subscription_term_length == 1].count())))\n",
    "print('Annual Count 2017: ' + str(round(df_17.amount[df_17.subscription_term_length == 12].count())))\n",
    "\n",
    "print('State Refunded 2018: ' + str(round(df_18.amount[df_18.state == 'refunded'].count())))\n",
    "print('State Refunded 2017: ' + str(round(df_17.amount[df_17.state == 'refunded'].count())))\n",
    "\n",
    "print('Admin Granted 2018: ' + str(round(df_18.amount[df_18.admin_granted == True].count())))\n",
    "print('Admin Granted 2017: ' + str(round(df_17.amount[df_17.admin_granted == True].count())))\n",
    "\n",
    "print('Is First Payment 2018: ' + str(round(df_18.amount[df_18.is_first_payment == True].count())))\n",
    "print('Is First Payment 2017: ' + str(round(df_17.amount[df_17.is_first_payment == True].count())))"
   ]
  },
  {
   "cell_type": "code",
   "execution_count": 34,
   "metadata": {},
   "outputs": [],
   "source": [
    "df_18 = df_18[df_18['state'] == 'complete']\n",
    "df_18 = df_18[df_18['admin_granted'] != True]\n",
    "#df_18 = df_18[df_18['is_first_payment'] == True]\n",
    "df_18['paid_date'] = pd.to_datetime(df_18.paid_date,infer_datetime_format=True)\n",
    "df_18_jan_may = df_18[df_18.paid_date < '2018-06-01']\n",
    "\n",
    "df_17 = df_17[df_17['state'] == 'complete']\n",
    "df_17 = df_17[df_17['admin_granted'] != True]\n",
    "#df_17 = df_17[df_17['is_first_payment'] == True]\n",
    "df_17['paid_date'] = pd.to_datetime(df_17.paid_date,infer_datetime_format=True)\n",
    "df_17_jan_may = df_17[df_17.paid_date < '2017-06-01']\n",
    "\n",
    "df_18.drop(columns_to_remove, axis=1, inplace=True)\n",
    "df_17.drop(columns_to_remove, axis=1, inplace=True)\n",
    "\n"
   ]
  },
  {
   "cell_type": "code",
   "execution_count": 5,
   "metadata": {},
   "outputs": [
    {
     "name": "stdout",
     "output_type": "stream",
     "text": [
      "Annual GMV Average 2018 (with Sale): 1064260.0\n",
      "Annual GMV Average 2017 (with Sale): 1249156.0\n",
      "Annual GMV Average 2018 (without Sale): 1114484.0\n",
      "Annual GMV Average 2017 (without Sale): 1216088.0\n",
      "Difference 2018 :-50224.0\n",
      "Difference 2017 :33068.0\n"
     ]
    }
   ],
   "source": [
    "sum_with_sale_2018 = round(df_18.amount[df_18.subscription_term_length == 1].sum())\n",
    "sum_with_sale_2017 = round(df_17.amount[df_17.subscription_term_length == 1].sum())\n",
    "print('Annual GMV Average 2018 (with Sale): ' + str(round(df_18.amount[df_18.subscription_term_length == 1].sum())))\n",
    "print('Annual GMV Average 2017 (with Sale): ' + str(round(df_17.amount[df_17.subscription_term_length == 1].sum())))\n",
    "sum_without_sale_2018 = round(12*(df_18_jan_may.amount[df_18_jan_may.subscription_term_length == 1].sum()/5))\n",
    "sum_without_sale_2017 = round(12*(df_17_jan_may.amount[df_17_jan_may.subscription_term_length == 1].sum()/5))\n",
    "print('Annual GMV Average 2018 (without Sale): ' + str(round(12*(df_18_jan_may.amount[df_18_jan_may.subscription_term_length == 1].sum()/5))))\n",
    "print('Annual GMV Average 2017 (without Sale): ' + str(round(12*(df_17_jan_may.amount[df_17_jan_may.subscription_term_length == 1].sum()/5))))\n",
    "\n",
    "print('Difference 2018 :' + str(sum_with_sale_2018 - sum_without_sale_2018))\n",
    "print('Difference 2017 :' + str(sum_with_sale_2017 - sum_without_sale_2017))"
   ]
  },
  {
   "cell_type": "code",
   "execution_count": 6,
   "metadata": {},
   "outputs": [],
   "source": [
    "annual_18 = df_18.loc[df_18.subscription_term_length == 12]\n",
    "annual_count_18 = annual_18.set_index('paid_date').groupby(pd.Grouper(freq='M')).count().reset_index()['amount']\n",
    "annual_sum_18 = annual_18.set_index('paid_date').groupby(pd.Grouper(freq='M')).sum().reset_index()['amount']\n",
    "monthly_18 = df_18.loc[df_18.subscription_term_length == 1]\n",
    "monthly_count_18= monthly_18.set_index('paid_date').groupby(pd.Grouper(freq='M')).count().reset_index()['amount']\n",
    "monthly_sum_18= monthly_18.set_index('paid_date').groupby(pd.Grouper(freq='M')).sum().reset_index()['amount']\n"
   ]
  },
  {
   "cell_type": "code",
   "execution_count": 7,
   "metadata": {},
   "outputs": [],
   "source": [
    "annual_17 = df_17.loc[df_17.subscription_term_length == 12]\n",
    "annual_count_17 = annual_17.set_index('paid_date').groupby(pd.Grouper(freq='M')).count().reset_index()['amount']\n",
    "annual_sum_17 = annual_17.set_index('paid_date').groupby(pd.Grouper(freq='M')).sum().reset_index()['amount']\n",
    "monthly_17 = df_17.loc[df_17.subscription_term_length == 1]\n",
    "monthly_count_17= monthly_17.set_index('paid_date').groupby(pd.Grouper(freq='M')).count().reset_index()['amount']\n",
    "monthly_sum_17= monthly_17.set_index('paid_date').groupby(pd.Grouper(freq='M')).sum().reset_index()['amount']"
   ]
  },
  {
   "cell_type": "code",
   "execution_count": 8,
   "metadata": {},
   "outputs": [
    {
     "data": {
      "application/vnd.plotly.v1+json": {
       "config": {
        "linkText": "Export to plot.ly",
        "plotlyServerURL": "https://plot.ly",
        "showLink": false
       },
       "data": [
        {
         "line": {
          "color": "rgb(205, 12, 24)",
          "width": 1
         },
         "name": "2018 Monthly Sum",
         "type": "scatter",
         "uid": "ef7be6ff-18dc-45b0-8e34-b674c18c3bb8",
         "x": [
          "January",
          "February",
          "March",
          "April",
          "May",
          "June",
          "July",
          "August",
          "September",
          "October",
          "November",
          "December"
         ],
         "y": [
          95588.74999999996,
          87922.89999999995,
          98704.94999999997,
          92700.94999999995,
          89450.94999999997,
          76926.69999999995,
          81935.84999999996,
          85330.84999999996,
          82025.19999999997,
          92019.74999999996,
          91332.69999999995,
          90320.49999999994
         ]
        },
        {
         "line": {
          "color": "rgb(22, 96, 167)",
          "width": 4
         },
         "name": "2018 Annual Sum",
         "type": "scatter",
         "uid": "8d0e7c51-5ff3-4179-bfe0-6f212e7b52a4",
         "x": [
          "January",
          "February",
          "March",
          "April",
          "May",
          "June",
          "July",
          "August",
          "September",
          "October",
          "November",
          "December"
         ],
         "y": [
          61005,
          48945,
          51135,
          43625,
          37385,
          101201,
          73565,
          24070,
          31505,
          34185,
          32430,
          30340
         ]
        },
        {
         "line": {
          "color": "rgb(205, 12, 24)",
          "dash": "dot",
          "width": 1
         },
         "name": "2017 Monthly Sum",
         "type": "scatter",
         "uid": "1ab57535-4e88-46bc-aefc-3b109a7335d3",
         "x": [
          "January",
          "February",
          "March",
          "April",
          "May",
          "June",
          "July",
          "August",
          "September",
          "October",
          "November",
          "December"
         ],
         "y": [
          93843.44999999978,
          80396.89999999986,
          106848.84999999983,
          111287.59999999982,
          114326.64999999988,
          104501.44999999991,
          108815.5499999999,
          111603.84999999992,
          105927.99999999993,
          105267.24999999994,
          104740.39999999995,
          101596.49999999996
         ]
        },
        {
         "line": {
          "color": "rgb(22, 96, 167)",
          "dash": "dot",
          "width": 4
         },
         "name": "2017 Annual Sum",
         "type": "scatter",
         "uid": "f48a1335-c584-49a5-a5ba-57c7a7909b1d",
         "x": [
          "January",
          "February",
          "March",
          "April",
          "May",
          "June",
          "July",
          "August",
          "September",
          "October",
          "November",
          "December"
         ],
         "y": [
          54735,
          51100,
          31125,
          45730,
          39045,
          90546,
          61359,
          34533,
          25215,
          46410,
          41060,
          38035
         ]
        }
       ],
       "layout": {
        "title": {
         "text": "<b>Total Membership Sum Per Month</b><br>less admin_granted and refunded"
        },
        "xaxis": {
         "title": {
          "text": "Month"
         }
        },
        "yaxis": {
         "title": {
          "text": "Sum"
         }
        }
       }
      }
     },
     "metadata": {},
     "output_type": "display_data"
    }
   ],
   "source": [
    "month = ['January', 'February', 'March', 'April', 'May', 'June', 'July',\n",
    "         'August', 'September', 'October', 'November', 'December']\n",
    "\n",
    "trace0 = go.Scatter(\n",
    "    x = month,\n",
    "    y = monthly_sum_18,\n",
    "    name = '2018 Monthly Sum',\n",
    "    line = dict(\n",
    "        color = ('rgb(205, 12, 24)'),\n",
    "        width = 1)\n",
    ")\n",
    "trace1 = go.Scatter(\n",
    "    x = month,\n",
    "    y = annual_sum_18,\n",
    "    name = '2018 Annual Sum',\n",
    "    line = dict(\n",
    "        color = ('rgb(22, 96, 167)'),\n",
    "        width = 4)\n",
    ")\n",
    "trace2 = go.Scatter(\n",
    "    x = month,\n",
    "    y = monthly_sum_17,\n",
    "    name = '2017 Monthly Sum',\n",
    "    line = dict(\n",
    "        color = ('rgb(205, 12, 24)'),\n",
    "        width = 1,\n",
    "        dash = 'dot')\n",
    ")\n",
    "trace3 = go.Scatter(\n",
    "    x = month,\n",
    "    y = annual_sum_17,\n",
    "    name = '2017 Annual Sum',\n",
    "    line = dict(\n",
    "        color = ('rgb(22, 96, 167)'),\n",
    "        width = 4,\n",
    "        dash = 'dot')\n",
    ")\n",
    "\n",
    "data = [trace0, trace1, trace2, trace3]\n",
    "\n",
    "# Edit the layout\n",
    "layout = dict(title = '<b>Total Membership Sum Per Month</b><br>less admin_granted and refunded',\n",
    "              xaxis = dict(title = 'Month'),\n",
    "              yaxis = dict(title = 'Sum'),\n",
    "              )\n",
    "\n",
    "fig = dict(data=data, layout=layout)\n",
    "po.iplot(fig, filename='Membership_Sum_Per_Month_Total')\n",
    "\n"
   ]
  },
  {
   "cell_type": "code",
   "execution_count": 116,
   "metadata": {},
   "outputs": [],
   "source": [
    "#What do first_payments look like vs repeat_payments for annual memberships?\n",
    "annual_first_18 = annual_18[annual_18['is_first_payment'] == True]\n",
    "annual_not_first_18 = annual_18[annual_18['is_first_payment'] != True]\n",
    "annual_first_17 = annual_17[annual_17['is_first_payment'] == True]\n",
    "annual_not_first_17 = annual_17[annual_17['is_first_payment'] != True]\n",
    "\n",
    "annual_first_count_18 = annual_first_18.set_index('paid_date').groupby(pd.Grouper(freq='M')).count().reset_index()['amount']\n",
    "annual_not_first_count_18 = annual_not_first_18.set_index('paid_date').groupby(pd.Grouper(freq='M')).count().reset_index()['amount']\n",
    "\n",
    "annual_first_count_17 = annual_first_17.set_index('paid_date').groupby(pd.Grouper(freq='M')).count().reset_index()['amount']\n",
    "annual_not_first_count_17 = annual_not_first_17.set_index('paid_date').groupby(pd.Grouper(freq='M')).count().reset_index()['amount']\n",
    "\n"
   ]
  },
  {
   "cell_type": "code",
   "execution_count": 124,
   "metadata": {},
   "outputs": [
    {
     "data": {
      "application/vnd.plotly.v1+json": {
       "config": {
        "linkText": "Export to plot.ly",
        "plotlyServerURL": "https://plot.ly",
        "showLink": false
       },
       "data": [
        {
         "line": {
          "color": "rgb(205, 12, 24)",
          "width": 2
         },
         "name": "2018 First Payment",
         "type": "scatter",
         "uid": "06a36ee4-c018-4905-aea2-5b3390786e03",
         "x": [
          "January",
          "February",
          "March",
          "April",
          "May",
          "June",
          "July",
          "August",
          "September",
          "October",
          "November",
          "December"
         ],
         "y": [
          85,
          69,
          75,
          67,
          54,
          101,
          53,
          48,
          33,
          31,
          35,
          34
         ]
        },
        {
         "line": {
          "color": "rgb(205, 12, 24)",
          "dash": "dot",
          "width": 1
         },
         "name": "2018 Repeat Payment",
         "type": "scatter",
         "uid": "cc3ad3c9-0bf9-40a0-b179-3b93b3e1e6a1",
         "x": [
          "January",
          "February",
          "March",
          "April",
          "May",
          "June",
          "July",
          "August",
          "September",
          "October",
          "November",
          "December"
         ],
         "y": [
          77,
          67,
          59,
          62,
          65,
          153,
          102,
          30,
          46,
          64,
          64,
          58
         ]
        },
        {
         "line": {
          "color": "rgb(22, 96, 167)",
          "width": 2
         },
         "name": "2017 First Payment",
         "type": "scatter",
         "uid": "11e4b3a1-00b0-403a-a7fc-7b7922098bac",
         "x": [
          "January",
          "February",
          "March",
          "April",
          "May",
          "June",
          "July",
          "August",
          "September",
          "October",
          "November",
          "December"
         ],
         "y": [
          101,
          94,
          54,
          47,
          65,
          112,
          49,
          36,
          32,
          70,
          70,
          65
         ]
        },
        {
         "line": {
          "color": "rgb(22, 96, 167)",
          "dash": "dot",
          "width": 1
         },
         "name": "2017 Repeat Payment",
         "type": "scatter",
         "uid": "0c38b2ad-2f6f-4a3e-a0b5-cb61da82d6f4",
         "x": [
          "January",
          "February",
          "March",
          "April",
          "May",
          "June",
          "July",
          "August",
          "September",
          "October",
          "November",
          "December"
         ],
         "y": [
          68,
          55,
          49,
          65,
          67,
          137,
          96,
          43,
          40,
          60,
          62,
          46
         ]
        }
       ],
       "layout": {
        "autosize": true,
        "title": {
         "text": "<b>Annual Payments</b><br>First VS Repeat"
        },
        "xaxis": {
         "autorange": false,
         "range": [
          4.020238095238096,
          11.117857142857144
         ],
         "title": {
          "text": "Month"
         },
         "type": "category"
        },
        "yaxis": {
         "autorange": false,
         "range": [
          20.99044585987261,
          159.9203821656051
         ],
         "title": {
          "text": "# of Annual Memberships"
         },
         "type": "linear"
        }
       }
      },
      "image/png": "[encoded data removed]"
     },
     "metadata": {},
     "output_type": "display_data"
    }
   ],
   "source": [
    "trace0 = go.Scatter(\n",
    "    x = month,\n",
    "    y = annual_first_count_18,\n",
    "    name = '2018 First Payment',\n",
    "    line = dict(\n",
    "        color = ('rgb(205, 12, 24)'),\n",
    "        width = 2)\n",
    ")\n",
    "trace1 = go.Scatter(\n",
    "    x = month,\n",
    "    y = annual_not_first_count_18,\n",
    "    name = '2018 Repeat Payment',\n",
    "    line = dict(\n",
    "        color = ('rgb(205, 12, 24)'),\n",
    "        width = 1,\n",
    "        dash = 'dot')\n",
    ")\n",
    "trace2 = go.Scatter(\n",
    "    x = month,\n",
    "    y = annual_first_count_17,\n",
    "    name = '2017 First Payment',\n",
    "    line = dict(\n",
    "        color = ('rgb(22, 96, 167)'),\n",
    "        width = 2,\n",
    "        )\n",
    ")\n",
    "trace3 = go.Scatter(\n",
    "    x = month,\n",
    "    y = annual_not_first_count_17,\n",
    "    name = '2017 Repeat Payment',\n",
    "    line = dict(\n",
    "        color = ('rgb(22, 96, 167)'),\n",
    "        width = 1,\n",
    "        dash = 'dot')\n",
    ")\n",
    "\n",
    "data = [trace0, trace1, trace2, trace3]\n",
    "\n",
    "# Edit the layout\n",
    "layout = dict(title = '<b>Annual Payments</b><br>First VS Repeat',\n",
    "              xaxis = dict(title = 'Month'),\n",
    "              yaxis = dict(title = '# of Annual Memberships'),\n",
    "              )\n",
    "\n",
    "fig = dict(data=data, layout=layout)\n",
    "po.iplot(fig, filename='Membership_Sum_Per_Month_Total')\n"
   ]
  },
  {
   "cell_type": "code",
   "execution_count": null,
   "metadata": {},
   "outputs": [],
   "source": [
    "#For how many users was the first_payment the last_payment?\n",
    "\n",
    "\n",
    "#How many memberships during anniversary week were refunded?"
   ]
  },
  {
   "cell_type": "code",
   "execution_count": 47,
   "metadata": {},
   "outputs": [
    {
     "name": "stdout",
     "output_type": "stream",
     "text": [
      "Anniversary Week Stats:\n",
      "Total Memberships: 605\n",
      "Membership Revenue: $90,639.65\n",
      "\n",
      "Total Annual Memberships: 177\n",
      "Total Annual Revenue: $69,530.00\n",
      "\n",
      "Total Monthly Memberships: 428\n",
      "Total Monthly Revenue: $21,109.65\n",
      "\n",
      "                paid_date  amount    created_at  subscription_term_length  \\\n",
      "11112 2018-06-17 00:22:00    70.0  6/17/18 0:22                         1   \n",
      "11113 2018-06-17 00:22:00  1494.0  6/17/18 0:22                        12   \n",
      "11114 2018-06-17 00:22:00   140.0  6/17/18 0:22                        12   \n",
      "11115 2018-06-17 00:22:00    40.0  6/17/18 0:22                         1   \n",
      "11116 2018-06-17 00:22:00    70.0  6/17/18 0:22                         1   \n",
      "\n",
      "       is_first_payment is_last_payment  membership_level  \n",
      "11112             False             NaN               3.0  \n",
      "11113             False            True               4.0  \n",
      "11114             False             NaN               1.0  \n",
      "11115             False             NaN               2.0  \n",
      "11116             False             NaN               3.0  \n"
     ]
    }
   ],
   "source": [
    "#Find Stats for just Anniversary Week\n",
    "anniversary_week = df_18.loc[(df_18['paid_date'] >= '2018-06-17') & (df_18['paid_date'] < '2018-06-27')]\n",
    "\n",
    "anniversary_week_count = anniversary_week.amount.count()\n",
    "anniversary_week_sum = anniversary_week.amount.sum()\n",
    "\n",
    "anniversary_annual_count = anniversary_week.amount[anniversary_week.subscription_term_length == 12].count()\n",
    "anniversary_annual_sum = anniversary_week.amount[anniversary_week.subscription_term_length == 12].sum()\n",
    "\n",
    "anniversary_monthly_count = anniversary_week.amount[anniversary_week.subscription_term_length == 1].count()\n",
    "anniversary_monthly_sum = anniversary_week.amount[anniversary_week.subscription_term_length == 1].sum()\n",
    "\n",
    "\n",
    "print('Anniversary Week Stats:\\n'\n",
    "     + 'Total Memberships: ' + str(anniversary_week_count) + '\\n'\n",
    "     + 'Membership Revenue: ' + str('${:,.2f}'.format(anniversary_week_sum)) + '\\n'\n",
    "     + '\\n' \n",
    "     + 'Total Annual Memberships: ' + str(anniversary_annual_count) + '\\n'\n",
    "     + 'Total Annual Revenue: ' + str('${:,.2f}'.format(anniversary_annual_sum)) + '\\n'\n",
    "     + '\\n'\n",
    "     + 'Total Monthly Memberships: ' + str(anniversary_monthly_count) + '\\n'\n",
    "     + 'Total Monthly Revenue: ' + str('${:,.2f}'.format(anniversary_monthly_sum)) + '\\n')\n",
    "\n",
    "print(anniversary_week.head())"
   ]
  },
  {
   "cell_type": "code",
   "execution_count": 59,
   "metadata": {},
   "outputs": [
    {
     "name": "stdout",
     "output_type": "stream",
     "text": [
      "   paid_date    amount  subscription_term_length  is_first_payment  \\\n",
      "0 2018-06-17   4277.00                       107              13.0   \n",
      "1 2018-06-18   6599.00                       228              19.0   \n",
      "2 2018-06-19   7778.95                       175              19.0   \n",
      "3 2018-06-20   7644.00                       230              18.0   \n",
      "4 2018-06-21  16881.90                       426              24.0   \n",
      "5 2018-06-22  14633.90                       421              28.0   \n",
      "6 2018-06-23  11162.00                       356              26.0   \n",
      "7 2018-06-24   7563.95                       266              13.0   \n",
      "8 2018-06-25   9146.95                       191              19.0   \n",
      "9 2018-06-26   4952.00                       152              20.0   \n",
      "\n",
      "   membership_level  \n",
      "0              77.0  \n",
      "1             133.0  \n",
      "2             114.0  \n",
      "3             122.0  \n",
      "4             171.0  \n",
      "5             190.0  \n",
      "6             149.0  \n",
      "7             118.0  \n",
      "8             127.0  \n",
      "9             113.0  \n"
     ]
    }
   ],
   "source": [
    "#Group By Day\n",
    "anniversary_days = anniversary_week.set_index('paid_date').groupby(pd.Grouper(freq='D')).sum().copy().reset_index()\n",
    "date_amount = df_18.set_index('paid_date').groupby(pd.Grouper(freq='D')).count().reset_index()\n",
    "date_amount = date_amount[['paid_date','amount']]\n",
    "print(anniversary_days)"
   ]
  },
  {
   "cell_type": "code",
   "execution_count": 58,
   "metadata": {},
   "outputs": [
    {
     "data": {
      "application/vnd.plotly.v1+json": {
       "config": {
        "linkText": "Export to plot.ly",
        "plotlyServerURL": "https://plot.ly",
        "showLink": false
       },
       "data": [
        {
         "hovertemplate": "paid_date=%{x}<br>amount=%{y}<extra></extra>",
         "legendgroup": "",
         "marker": {
          "color": "#636efa",
          "symbol": "circle"
         },
         "mode": "markers",
         "name": "",
         "showlegend": false,
         "type": "scatter",
         "uid": "e7af3c5a-56da-4c2b-aa7d-3ab445e8561a",
         "x": [
          "2018-06-17",
          "2018-06-17 01:00:00",
          "2018-06-17 02:00:00",
          "2018-06-17 03:00:00",
          "2018-06-17 04:00:00",
          "2018-06-17 05:00:00",
          "2018-06-17 06:00:00",
          "2018-06-17 07:00:00",
          "2018-06-17 08:00:00",
          "2018-06-17 09:00:00",
          "2018-06-17 10:00:00",
          "2018-06-17 11:00:00",
          "2018-06-17 12:00:00",
          "2018-06-17 13:00:00",
          "2018-06-17 14:00:00",
          "2018-06-17 15:00:00",
          "2018-06-17 16:00:00",
          "2018-06-17 17:00:00",
          "2018-06-17 18:00:00",
          "2018-06-17 19:00:00",
          "2018-06-17 20:00:00",
          "2018-06-17 21:00:00",
          "2018-06-17 22:00:00",
          "2018-06-17 23:00:00",
          "2018-06-18",
          "2018-06-18 01:00:00",
          "2018-06-18 02:00:00",
          "2018-06-18 03:00:00",
          "2018-06-18 04:00:00",
          "2018-06-18 05:00:00",
          "2018-06-18 06:00:00",
          "2018-06-18 07:00:00",
          "2018-06-18 08:00:00",
          "2018-06-18 09:00:00",
          "2018-06-18 10:00:00",
          "2018-06-18 11:00:00",
          "2018-06-18 12:00:00",
          "2018-06-18 13:00:00",
          "2018-06-18 14:00:00",
          "2018-06-18 15:00:00",
          "2018-06-18 16:00:00",
          "2018-06-18 17:00:00",
          "2018-06-18 18:00:00",
          "2018-06-18 19:00:00",
          "2018-06-18 20:00:00",
          "2018-06-18 21:00:00",
          "2018-06-18 22:00:00",
          "2018-06-18 23:00:00",
          "2018-06-19",
          "2018-06-19 01:00:00",
          "2018-06-19 02:00:00",
          "2018-06-19 03:00:00",
          "2018-06-19 04:00:00",
          "2018-06-19 05:00:00",
          "2018-06-19 06:00:00",
          "2018-06-19 07:00:00",
          "2018-06-19 08:00:00",
          "2018-06-19 09:00:00",
          "2018-06-19 10:00:00",
          "2018-06-19 11:00:00",
          "2018-06-19 12:00:00",
          "2018-06-19 13:00:00",
          "2018-06-19 14:00:00",
          "2018-06-19 15:00:00",
          "2018-06-19 16:00:00",
          "2018-06-19 17:00:00",
          "2018-06-19 18:00:00",
          "2018-06-19 19:00:00",
          "2018-06-19 20:00:00",
          "2018-06-19 21:00:00",
          "2018-06-19 22:00:00",
          "2018-06-19 23:00:00",
          "2018-06-20",
          "2018-06-20 01:00:00",
          "2018-06-20 02:00:00",
          "2018-06-20 03:00:00",
          "2018-06-20 04:00:00",
          "2018-06-20 05:00:00",
          "2018-06-20 06:00:00",
          "2018-06-20 07:00:00",
          "2018-06-20 08:00:00",
          "2018-06-20 09:00:00",
          "2018-06-20 10:00:00",
          "2018-06-20 11:00:00",
          "2018-06-20 12:00:00",
          "2018-06-20 13:00:00",
          "2018-06-20 14:00:00",
          "2018-06-20 15:00:00",
          "2018-06-20 16:00:00",
          "2018-06-20 17:00:00",
          "2018-06-20 18:00:00",
          "2018-06-20 19:00:00",
          "2018-06-20 20:00:00",
          "2018-06-20 21:00:00",
          "2018-06-20 22:00:00",
          "2018-06-20 23:00:00",
          "2018-06-21",
          "2018-06-21 01:00:00",
          "2018-06-21 02:00:00",
          "2018-06-21 03:00:00",
          "2018-06-21 04:00:00",
          "2018-06-21 05:00:00",
          "2018-06-21 06:00:00",
          "2018-06-21 07:00:00",
          "2018-06-21 08:00:00",
          "2018-06-21 09:00:00",
          "2018-06-21 10:00:00",
          "2018-06-21 11:00:00",
          "2018-06-21 12:00:00",
          "2018-06-21 13:00:00",
          "2018-06-21 14:00:00",
          "2018-06-21 15:00:00",
          "2018-06-21 16:00:00",
          "2018-06-21 17:00:00",
          "2018-06-21 18:00:00",
          "2018-06-21 19:00:00",
          "2018-06-21 20:00:00",
          "2018-06-21 21:00:00",
          "2018-06-21 22:00:00",
          "2018-06-21 23:00:00",
          "2018-06-22",
          "2018-06-22 01:00:00",
          "2018-06-22 02:00:00",
          "2018-06-22 03:00:00",
          "2018-06-22 04:00:00",
          "2018-06-22 05:00:00",
          "2018-06-22 06:00:00",
          "2018-06-22 07:00:00",
          "2018-06-22 08:00:00",
          "2018-06-22 09:00:00",
          "2018-06-22 10:00:00",
          "2018-06-22 11:00:00",
          "2018-06-22 12:00:00",
          "2018-06-22 13:00:00",
          "2018-06-22 14:00:00",
          "2018-06-22 15:00:00",
          "2018-06-22 16:00:00",
          "2018-06-22 17:00:00",
          "2018-06-22 18:00:00",
          "2018-06-22 19:00:00",
          "2018-06-22 20:00:00",
          "2018-06-22 21:00:00",
          "2018-06-22 22:00:00",
          "2018-06-22 23:00:00",
          "2018-06-23",
          "2018-06-23 01:00:00",
          "2018-06-23 02:00:00",
          "2018-06-23 03:00:00",
          "2018-06-23 04:00:00",
          "2018-06-23 05:00:00",
          "2018-06-23 06:00:00",
          "2018-06-23 07:00:00",
          "2018-06-23 08:00:00",
          "2018-06-23 09:00:00",
          "2018-06-23 10:00:00",
          "2018-06-23 11:00:00",
          "2018-06-23 12:00:00",
          "2018-06-23 13:00:00",
          "2018-06-23 14:00:00",
          "2018-06-23 15:00:00",
          "2018-06-23 16:00:00",
          "2018-06-23 17:00:00",
          "2018-06-23 18:00:00",
          "2018-06-23 19:00:00",
          "2018-06-23 20:00:00",
          "2018-06-23 21:00:00",
          "2018-06-23 22:00:00",
          "2018-06-23 23:00:00",
          "2018-06-24",
          "2018-06-24 01:00:00",
          "2018-06-24 02:00:00",
          "2018-06-24 03:00:00",
          "2018-06-24 04:00:00",
          "2018-06-24 05:00:00",
          "2018-06-24 06:00:00",
          "2018-06-24 07:00:00",
          "2018-06-24 08:00:00",
          "2018-06-24 09:00:00",
          "2018-06-24 10:00:00",
          "2018-06-24 11:00:00",
          "2018-06-24 12:00:00",
          "2018-06-24 13:00:00",
          "2018-06-24 14:00:00",
          "2018-06-24 15:00:00",
          "2018-06-24 16:00:00",
          "2018-06-24 17:00:00",
          "2018-06-24 18:00:00",
          "2018-06-24 19:00:00",
          "2018-06-24 20:00:00",
          "2018-06-24 21:00:00",
          "2018-06-24 22:00:00",
          "2018-06-24 23:00:00",
          "2018-06-25",
          "2018-06-25 01:00:00",
          "2018-06-25 02:00:00",
          "2018-06-25 03:00:00",
          "2018-06-25 04:00:00",
          "2018-06-25 05:00:00",
          "2018-06-25 06:00:00",
          "2018-06-25 07:00:00",
          "2018-06-25 08:00:00",
          "2018-06-25 09:00:00",
          "2018-06-25 10:00:00",
          "2018-06-25 11:00:00",
          "2018-06-25 12:00:00",
          "2018-06-25 13:00:00",
          "2018-06-25 14:00:00",
          "2018-06-25 15:00:00",
          "2018-06-25 16:00:00",
          "2018-06-25 17:00:00",
          "2018-06-25 18:00:00",
          "2018-06-25 19:00:00",
          "2018-06-25 20:00:00",
          "2018-06-25 21:00:00",
          "2018-06-25 22:00:00",
          "2018-06-25 23:00:00",
          "2018-06-26",
          "2018-06-26 01:00:00",
          "2018-06-26 02:00:00",
          "2018-06-26 03:00:00",
          "2018-06-26 04:00:00",
          "2018-06-26 05:00:00",
          "2018-06-26 06:00:00",
          "2018-06-26 07:00:00",
          "2018-06-26 08:00:00",
          "2018-06-26 09:00:00",
          "2018-06-26 10:00:00",
          "2018-06-26 11:00:00",
          "2018-06-26 12:00:00",
          "2018-06-26 13:00:00",
          "2018-06-26 14:00:00",
          "2018-06-26 15:00:00",
          "2018-06-26 16:00:00",
          "2018-06-26 17:00:00",
          "2018-06-26 18:00:00",
          "2018-06-26 19:00:00",
          "2018-06-26 20:00:00",
          "2018-06-26 21:00:00",
          "2018-06-26 22:00:00"
         ],
         "xaxis": "x",
         "y": [
          2484,
          0,
          0,
          368,
          20,
          24,
          585,
          366,
          20,
          0,
          0,
          0,
          40,
          20,
          20,
          290,
          40,
          0,
          0,
          0,
          0,
          0,
          0,
          0,
          2827,
          0,
          0,
          130,
          110,
          60,
          60,
          140,
          216,
          276,
          296,
          256,
          532,
          492,
          748,
          20,
          40,
          0,
          0,
          180,
          216,
          0,
          0,
          0,
          1606.95,
          20,
          0,
          80,
          512,
          20,
          80,
          130,
          80,
          40,
          20,
          0,
          40,
          0,
          0,
          1926,
          2988,
          20,
          0,
          0,
          0,
          0,
          0,
          216,
          2486,
          0,
          216,
          0,
          502,
          296,
          492,
          110,
          0,
          256,
          216,
          296,
          0,
          40,
          1574,
          20,
          0,
          0,
          0,
          216,
          216,
          216,
          0,
          492,
          7629.9,
          216,
          492,
          0,
          492,
          652,
          818,
          1926,
          280,
          0,
          2458,
          216,
          216,
          216,
          0,
          0,
          216,
          778,
          216,
          40,
          0,
          0,
          20,
          0,
          5681.9,
          0,
          0,
          226,
          286,
          1310,
          502,
          748,
          622,
          356,
          1280,
          582,
          708,
          432,
          1534,
          0,
          70,
          0,
          216,
          80,
          0,
          0,
          0,
          0,
          4780,
          20,
          216,
          256,
          326,
          728,
          748,
          1730,
          80,
          306,
          0,
          216,
          0,
          708,
          276,
          200,
          40,
          0,
          0,
          0,
          492,
          40,
          0,
          0,
          4457.95,
          0,
          216,
          70,
          20,
          346,
          180,
          502,
          572,
          0,
          0,
          0,
          0,
          0,
          216,
          492,
          0,
          60,
          0,
          432,
          0,
          0,
          0,
          0,
          6066.95,
          110,
          0,
          0,
          386,
          602,
          0,
          672,
          80,
          20,
          0,
          80,
          80,
          330,
          40,
          0,
          290,
          40,
          290,
          0,
          0,
          60,
          0,
          0,
          2350,
          0,
          20,
          130,
          120,
          20,
          216,
          150,
          566,
          80,
          80,
          40,
          40,
          0,
          40,
          290,
          40,
          70,
          20,
          350,
          0,
          290,
          40
         ],
         "yaxis": "y"
        }
       ],
       "layout": {
        "grid": {
         "xaxes": [
          "x"
         ],
         "xgap": 0.1,
         "xside": "bottom",
         "yaxes": [
          "y"
         ],
         "ygap": 0.1,
         "yside": "left"
        },
        "height": 600,
        "legend": {
         "tracegroupgap": 0
        },
        "margin": {
         "t": 60
        },
        "template": {
         "data": {
          "bar": [
           {
            "marker": {
             "line": {
              "color": "#E5ECF6",
              "width": 0.5
             }
            },
            "type": "bar"
           }
          ],
          "barpolar": [
           {
            "marker": {
             "line": {
              "color": "#E5ECF6",
              "width": 0.5
             }
            },
            "type": "barpolar"
           }
          ],
          "carpet": [
           {
            "aaxis": {
             "endlinecolor": "#2a3f5f",
             "gridcolor": "white",
             "linecolor": "white",
             "minorgridcolor": "white",
             "startlinecolor": "#2a3f5f"
            },
            "baxis": {
             "endlinecolor": "#2a3f5f",
             "gridcolor": "white",
             "linecolor": "white",
             "minorgridcolor": "white",
             "startlinecolor": "#2a3f5f"
            },
            "type": "carpet"
           }
          ],
          "choropleth": [
           {
            "colorbar": {
             "outlinewidth": 0,
             "ticks": ""
            },
            "type": "choropleth"
           }
          ],
          "contour": [
           {
            "autocolorscale": true,
            "colorbar": {
             "outlinewidth": 0,
             "ticks": ""
            },
            "type": "contour"
           }
          ],
          "contourcarpet": [
           {
            "colorbar": {
             "outlinewidth": 0,
             "ticks": ""
            },
            "type": "contourcarpet"
           }
          ],
          "heatmap": [
           {
            "autocolorscale": true,
            "colorbar": {
             "outlinewidth": 0,
             "ticks": ""
            },
            "type": "heatmap"
           }
          ],
          "heatmapgl": [
           {
            "colorbar": {
             "outlinewidth": 0,
             "ticks": ""
            },
            "type": "heatmapgl"
           }
          ],
          "histogram": [
           {
            "marker": {
             "colorbar": {
              "outlinewidth": 0,
              "ticks": ""
             }
            },
            "type": "histogram"
           }
          ],
          "histogram2d": [
           {
            "autocolorscale": true,
            "colorbar": {
             "outlinewidth": 0,
             "ticks": ""
            },
            "type": "histogram2d"
           }
          ],
          "histogram2dcontour": [
           {
            "autocolorscale": true,
            "colorbar": {
             "outlinewidth": 0,
             "ticks": ""
            },
            "type": "histogram2dcontour"
           }
          ],
          "mesh3d": [
           {
            "colorbar": {
             "outlinewidth": 0,
             "ticks": ""
            },
            "type": "mesh3d"
           }
          ],
          "parcoords": [
           {
            "line": {
             "colorbar": {
              "outlinewidth": 0,
              "ticks": ""
             }
            },
            "type": "parcoords"
           }
          ],
          "scatter": [
           {
            "marker": {
             "colorbar": {
              "outlinewidth": 0,
              "ticks": ""
             }
            },
            "type": "scatter"
           }
          ],
          "scatter3d": [
           {
            "marker": {
             "colorbar": {
              "outlinewidth": 0,
              "ticks": ""
             }
            },
            "type": "scatter3d"
           }
          ],
          "scattercarpet": [
           {
            "marker": {
             "colorbar": {
              "outlinewidth": 0,
              "ticks": ""
             }
            },
            "type": "scattercarpet"
           }
          ],
          "scattergeo": [
           {
            "marker": {
             "colorbar": {
              "outlinewidth": 0,
              "ticks": ""
             }
            },
            "type": "scattergeo"
           }
          ],
          "scattergl": [
           {
            "marker": {
             "colorbar": {
              "outlinewidth": 0,
              "ticks": ""
             }
            },
            "type": "scattergl"
           }
          ],
          "scattermapbox": [
           {
            "marker": {
             "colorbar": {
              "outlinewidth": 0,
              "ticks": ""
             }
            },
            "type": "scattermapbox"
           }
          ],
          "scatterpolar": [
           {
            "marker": {
             "colorbar": {
              "outlinewidth": 0,
              "ticks": ""
             }
            },
            "type": "scatterpolar"
           }
          ],
          "scatterpolargl": [
           {
            "marker": {
             "colorbar": {
              "outlinewidth": 0,
              "ticks": ""
             }
            },
            "type": "scatterpolargl"
           }
          ],
          "scatterternary": [
           {
            "marker": {
             "colorbar": {
              "outlinewidth": 0,
              "ticks": ""
             }
            },
            "type": "scatterternary"
           }
          ],
          "surface": [
           {
            "colorbar": {
             "outlinewidth": 0,
             "ticks": ""
            },
            "type": "surface"
           }
          ],
          "table": [
           {
            "cells": {
             "fill": {
              "color": "#EBF0F8"
             },
             "line": {
              "color": "white"
             }
            },
            "header": {
             "fill": {
              "color": "#C8D4E3"
             },
             "line": {
              "color": "white"
             }
            },
            "type": "table"
           }
          ]
         },
         "layout": {
          "annotationdefaults": {
           "arrowcolor": "#506784",
           "arrowhead": 0,
           "arrowwidth": 1
          },
          "colorscale": {
           "diverging": [
            [
             0,
             "#8e0152"
            ],
            [
             0.1,
             "#c51b7d"
            ],
            [
             0.2,
             "#de77ae"
            ],
            [
             0.3,
             "#f1b6da"
            ],
            [
             0.4,
             "#fde0ef"
            ],
            [
             0.5,
             "#f7f7f7"
            ],
            [
             0.6,
             "#e6f5d0"
            ],
            [
             0.7,
             "#b8e186"
            ],
            [
             0.8,
             "#7fbc41"
            ],
            [
             0.9,
             "#4d9221"
            ],
            [
             1,
             "#276419"
            ]
           ],
           "sequential": [
            [
             0,
             "#0508b8"
            ],
            [
             0.0893854748603352,
             "#1910d8"
            ],
            [
             0.1787709497206704,
             "#3c19f0"
            ],
            [
             0.2681564245810056,
             "#6b1cfb"
            ],
            [
             0.3575418994413408,
             "#981cfd"
            ],
            [
             0.44692737430167595,
             "#bf1cfd"
            ],
            [
             0.5363128491620112,
             "#dd2bfd"
            ],
            [
             0.6256983240223464,
             "#f246fe"
            ],
            [
             0.7150837988826816,
             "#fc67fd"
            ],
            [
             0.8044692737430168,
             "#fe88fc"
            ],
            [
             0.8938547486033519,
             "#fea5fd"
            ],
            [
             0.9832402234636871,
             "#febefe"
            ],
            [
             1,
             "#fec3fe"
            ]
           ],
           "sequentialminus": [
            [
             0,
             "#0508b8"
            ],
            [
             0.0893854748603352,
             "#1910d8"
            ],
            [
             0.1787709497206704,
             "#3c19f0"
            ],
            [
             0.2681564245810056,
             "#6b1cfb"
            ],
            [
             0.3575418994413408,
             "#981cfd"
            ],
            [
             0.44692737430167595,
             "#bf1cfd"
            ],
            [
             0.5363128491620112,
             "#dd2bfd"
            ],
            [
             0.6256983240223464,
             "#f246fe"
            ],
            [
             0.7150837988826816,
             "#fc67fd"
            ],
            [
             0.8044692737430168,
             "#fe88fc"
            ],
            [
             0.8938547486033519,
             "#fea5fd"
            ],
            [
             0.9832402234636871,
             "#febefe"
            ],
            [
             1,
             "#fec3fe"
            ]
           ]
          },
          "colorway": [
           "#636efa",
           "#EF553B",
           "#00cc96",
           "#ab63fa",
           "#19d3f3",
           "#e763fa",
           "#FECB52",
           "#FFA15A",
           "#FF6692",
           "#B6E880"
          ],
          "font": {
           "color": "#2a3f5f"
          },
          "geo": {
           "bgcolor": "white",
           "lakecolor": "white",
           "landcolor": "#E5ECF6",
           "showlakes": true,
           "showland": true,
           "subunitcolor": "white"
          },
          "hovermode": "closest",
          "mapbox": {
           "style": "light"
          },
          "paper_bgcolor": "white",
          "plot_bgcolor": "#E5ECF6",
          "polar": {
           "angularaxis": {
            "gridcolor": "white",
            "linecolor": "white",
            "ticks": ""
           },
           "bgcolor": "#E5ECF6",
           "radialaxis": {
            "gridcolor": "white",
            "linecolor": "white",
            "ticks": ""
           }
          },
          "scene": {
           "xaxis": {
            "backgroundcolor": "#E5ECF6",
            "gridcolor": "white",
            "gridwidth": 2,
            "linecolor": "white",
            "showbackground": true,
            "ticks": "",
            "zerolinecolor": "white"
           },
           "yaxis": {
            "backgroundcolor": "#E5ECF6",
            "gridcolor": "white",
            "gridwidth": 2,
            "linecolor": "white",
            "showbackground": true,
            "ticks": "",
            "zerolinecolor": "white"
           },
           "zaxis": {
            "backgroundcolor": "#E5ECF6",
            "gridcolor": "white",
            "gridwidth": 2,
            "linecolor": "white",
            "showbackground": true,
            "ticks": "",
            "zerolinecolor": "white"
           }
          },
          "shapedefaults": {
           "fillcolor": "#506784",
           "line": {
            "width": 0
           },
           "opacity": 0.4
          },
          "ternary": {
           "aaxis": {
            "gridcolor": "white",
            "linecolor": "white",
            "ticks": ""
           },
           "baxis": {
            "gridcolor": "white",
            "linecolor": "white",
            "ticks": ""
           },
           "bgcolor": "#E5ECF6",
           "caxis": {
            "gridcolor": "white",
            "linecolor": "white",
            "ticks": ""
           }
          },
          "title": {
           "x": 0.05
          },
          "xaxis": {
           "automargin": true,
           "gridcolor": "white",
           "linecolor": "white",
           "ticks": "",
           "zerolinecolor": "white",
           "zerolinewidth": 2
          },
          "yaxis": {
           "automargin": true,
           "gridcolor": "white",
           "linecolor": "white",
           "ticks": "",
           "zerolinecolor": "white",
           "zerolinewidth": 2
          }
         }
        },
        "xaxis": {
         "title": {
          "text": "paid_date"
         }
        },
        "yaxis": {
         "title": {
          "text": "amount"
         }
        }
       }
      },
      "text/html": [
       "<div id=\"0c2d6ba8-9beb-4ced-8037-22d7e4d8cbcc\" style=\"height: 600px; width: 100%;\" class=\"plotly-graph-div\"></div><script type=\"text/javascript\">require([\"plotly\"], function(Plotly) { window.PLOTLYENV=window.PLOTLYENV || {};window.PLOTLYENV.BASE_URL=\"https://plot.ly\";\n",
       "if (document.getElementById(\"0c2d6ba8-9beb-4ced-8037-22d7e4d8cbcc\")) {\n",
       "    Plotly.newPlot(\"0c2d6ba8-9beb-4ced-8037-22d7e4d8cbcc\", [{\"hovertemplate\": \"paid_date=%{x}<br>amount=%{y}<extra></extra>\", \"legendgroup\": \"\", \"marker\": {\"color\": \"#636efa\", \"symbol\": \"circle\"}, \"mode\": \"markers\", \"name\": \"\", \"showlegend\": false, \"x\": [\"2018-06-17\", \"2018-06-17 01:00:00\", \"2018-06-17 02:00:00\", \"2018-06-17 03:00:00\", \"2018-06-17 04:00:00\", \"2018-06-17 05:00:00\", \"2018-06-17 06:00:00\", \"2018-06-17 07:00:00\", \"2018-06-17 08:00:00\", \"2018-06-17 09:00:00\", \"2018-06-17 10:00:00\", \"2018-06-17 11:00:00\", \"2018-06-17 12:00:00\", \"2018-06-17 13:00:00\", \"2018-06-17 14:00:00\", \"2018-06-17 15:00:00\", \"2018-06-17 16:00:00\", \"2018-06-17 17:00:00\", \"2018-06-17 18:00:00\", \"2018-06-17 19:00:00\", \"2018-06-17 20:00:00\", \"2018-06-17 21:00:00\", \"2018-06-17 22:00:00\", \"2018-06-17 23:00:00\", \"2018-06-18\", \"2018-06-18 01:00:00\", \"2018-06-18 02:00:00\", \"2018-06-18 03:00:00\", \"2018-06-18 04:00:00\", \"2018-06-18 05:00:00\", \"2018-06-18 06:00:00\", \"2018-06-18 07:00:00\", \"2018-06-18 08:00:00\", \"2018-06-18 09:00:00\", \"2018-06-18 10:00:00\", \"2018-06-18 11:00:00\", \"2018-06-18 12:00:00\", \"2018-06-18 13:00:00\", \"2018-06-18 14:00:00\", \"2018-06-18 15:00:00\", \"2018-06-18 16:00:00\", \"2018-06-18 17:00:00\", \"2018-06-18 18:00:00\", \"2018-06-18 19:00:00\", \"2018-06-18 20:00:00\", \"2018-06-18 21:00:00\", \"2018-06-18 22:00:00\", \"2018-06-18 23:00:00\", \"2018-06-19\", \"2018-06-19 01:00:00\", \"2018-06-19 02:00:00\", \"2018-06-19 03:00:00\", \"2018-06-19 04:00:00\", \"2018-06-19 05:00:00\", \"2018-06-19 06:00:00\", \"2018-06-19 07:00:00\", \"2018-06-19 08:00:00\", \"2018-06-19 09:00:00\", \"2018-06-19 10:00:00\", \"2018-06-19 11:00:00\", \"2018-06-19 12:00:00\", \"2018-06-19 13:00:00\", \"2018-06-19 14:00:00\", \"2018-06-19 15:00:00\", \"2018-06-19 16:00:00\", \"2018-06-19 17:00:00\", \"2018-06-19 18:00:00\", \"2018-06-19 19:00:00\", \"2018-06-19 20:00:00\", \"2018-06-19 21:00:00\", \"2018-06-19 22:00:00\", \"2018-06-19 23:00:00\", \"2018-06-20\", \"2018-06-20 01:00:00\", \"2018-06-20 02:00:00\", \"2018-06-20 03:00:00\", \"2018-06-20 04:00:00\", \"2018-06-20 05:00:00\", \"2018-06-20 06:00:00\", \"2018-06-20 07:00:00\", \"2018-06-20 08:00:00\", \"2018-06-20 09:00:00\", \"2018-06-20 10:00:00\", \"2018-06-20 11:00:00\", \"2018-06-20 12:00:00\", \"2018-06-20 13:00:00\", \"2018-06-20 14:00:00\", \"2018-06-20 15:00:00\", \"2018-06-20 16:00:00\", \"2018-06-20 17:00:00\", \"2018-06-20 18:00:00\", \"2018-06-20 19:00:00\", \"2018-06-20 20:00:00\", \"2018-06-20 21:00:00\", \"2018-06-20 22:00:00\", \"2018-06-20 23:00:00\", \"2018-06-21\", \"2018-06-21 01:00:00\", \"2018-06-21 02:00:00\", \"2018-06-21 03:00:00\", \"2018-06-21 04:00:00\", \"2018-06-21 05:00:00\", \"2018-06-21 06:00:00\", \"2018-06-21 07:00:00\", \"2018-06-21 08:00:00\", \"2018-06-21 09:00:00\", \"2018-06-21 10:00:00\", \"2018-06-21 11:00:00\", \"2018-06-21 12:00:00\", \"2018-06-21 13:00:00\", \"2018-06-21 14:00:00\", \"2018-06-21 15:00:00\", \"2018-06-21 16:00:00\", \"2018-06-21 17:00:00\", \"2018-06-21 18:00:00\", \"2018-06-21 19:00:00\", \"2018-06-21 20:00:00\", \"2018-06-21 21:00:00\", \"2018-06-21 22:00:00\", \"2018-06-21 23:00:00\", \"2018-06-22\", \"2018-06-22 01:00:00\", \"2018-06-22 02:00:00\", \"2018-06-22 03:00:00\", \"2018-06-22 04:00:00\", \"2018-06-22 05:00:00\", \"2018-06-22 06:00:00\", \"2018-06-22 07:00:00\", \"2018-06-22 08:00:00\", \"2018-06-22 09:00:00\", \"2018-06-22 10:00:00\", \"2018-06-22 11:00:00\", \"2018-06-22 12:00:00\", \"2018-06-22 13:00:00\", \"2018-06-22 14:00:00\", \"2018-06-22 15:00:00\", \"2018-06-22 16:00:00\", \"2018-06-22 17:00:00\", \"2018-06-22 18:00:00\", \"2018-06-22 19:00:00\", \"2018-06-22 20:00:00\", \"2018-06-22 21:00:00\", \"2018-06-22 22:00:00\", \"2018-06-22 23:00:00\", \"2018-06-23\", \"2018-06-23 01:00:00\", \"2018-06-23 02:00:00\", \"2018-06-23 03:00:00\", \"2018-06-23 04:00:00\", \"2018-06-23 05:00:00\", \"2018-06-23 06:00:00\", \"2018-06-23 07:00:00\", \"2018-06-23 08:00:00\", \"2018-06-23 09:00:00\", \"2018-06-23 10:00:00\", \"2018-06-23 11:00:00\", \"2018-06-23 12:00:00\", \"2018-06-23 13:00:00\", \"2018-06-23 14:00:00\", \"2018-06-23 15:00:00\", \"2018-06-23 16:00:00\", \"2018-06-23 17:00:00\", \"2018-06-23 18:00:00\", \"2018-06-23 19:00:00\", \"2018-06-23 20:00:00\", \"2018-06-23 21:00:00\", \"2018-06-23 22:00:00\", \"2018-06-23 23:00:00\", \"2018-06-24\", \"2018-06-24 01:00:00\", \"2018-06-24 02:00:00\", \"2018-06-24 03:00:00\", \"2018-06-24 04:00:00\", \"2018-06-24 05:00:00\", \"2018-06-24 06:00:00\", \"2018-06-24 07:00:00\", \"2018-06-24 08:00:00\", \"2018-06-24 09:00:00\", \"2018-06-24 10:00:00\", \"2018-06-24 11:00:00\", \"2018-06-24 12:00:00\", \"2018-06-24 13:00:00\", \"2018-06-24 14:00:00\", \"2018-06-24 15:00:00\", \"2018-06-24 16:00:00\", \"2018-06-24 17:00:00\", \"2018-06-24 18:00:00\", \"2018-06-24 19:00:00\", \"2018-06-24 20:00:00\", \"2018-06-24 21:00:00\", \"2018-06-24 22:00:00\", \"2018-06-24 23:00:00\", \"2018-06-25\", \"2018-06-25 01:00:00\", \"2018-06-25 02:00:00\", \"2018-06-25 03:00:00\", \"2018-06-25 04:00:00\", \"2018-06-25 05:00:00\", \"2018-06-25 06:00:00\", \"2018-06-25 07:00:00\", \"2018-06-25 08:00:00\", \"2018-06-25 09:00:00\", \"2018-06-25 10:00:00\", \"2018-06-25 11:00:00\", \"2018-06-25 12:00:00\", \"2018-06-25 13:00:00\", \"2018-06-25 14:00:00\", \"2018-06-25 15:00:00\", \"2018-06-25 16:00:00\", \"2018-06-25 17:00:00\", \"2018-06-25 18:00:00\", \"2018-06-25 19:00:00\", \"2018-06-25 20:00:00\", \"2018-06-25 21:00:00\", \"2018-06-25 22:00:00\", \"2018-06-25 23:00:00\", \"2018-06-26\", \"2018-06-26 01:00:00\", \"2018-06-26 02:00:00\", \"2018-06-26 03:00:00\", \"2018-06-26 04:00:00\", \"2018-06-26 05:00:00\", \"2018-06-26 06:00:00\", \"2018-06-26 07:00:00\", \"2018-06-26 08:00:00\", \"2018-06-26 09:00:00\", \"2018-06-26 10:00:00\", \"2018-06-26 11:00:00\", \"2018-06-26 12:00:00\", \"2018-06-26 13:00:00\", \"2018-06-26 14:00:00\", \"2018-06-26 15:00:00\", \"2018-06-26 16:00:00\", \"2018-06-26 17:00:00\", \"2018-06-26 18:00:00\", \"2018-06-26 19:00:00\", \"2018-06-26 20:00:00\", \"2018-06-26 21:00:00\", \"2018-06-26 22:00:00\"], \"xaxis\": \"x\", \"y\": [2484.0, 0.0, 0.0, 368.0, 20.0, 24.0, 585.0, 366.0, 20.0, 0.0, 0.0, 0.0, 40.0, 20.0, 20.0, 290.0, 40.0, 0.0, 0.0, 0.0, 0.0, 0.0, 0.0, 0.0, 2827.0, 0.0, 0.0, 130.0, 110.0, 60.0, 60.0, 140.0, 216.0, 276.0, 296.0, 256.0, 532.0, 492.0, 748.0, 20.0, 40.0, 0.0, 0.0, 180.0, 216.0, 0.0, 0.0, 0.0, 1606.95, 20.0, 0.0, 80.0, 512.0, 20.0, 80.0, 130.0, 80.0, 40.0, 20.0, 0.0, 40.0, 0.0, 0.0, 1926.0, 2988.0, 20.0, 0.0, 0.0, 0.0, 0.0, 0.0, 216.0, 2486.0, 0.0, 216.0, 0.0, 502.0, 296.0, 492.0, 110.0, 0.0, 256.0, 216.0, 296.0, 0.0, 40.0, 1574.0, 20.0, 0.0, 0.0, 0.0, 216.0, 216.0, 216.0, 0.0, 492.0, 7629.9, 216.0, 492.0, 0.0, 492.0, 652.0, 818.0, 1926.0, 280.0, 0.0, 2458.0, 216.0, 216.0, 216.0, 0.0, 0.0, 216.0, 778.0, 216.0, 40.0, 0.0, 0.0, 20.0, 0.0, 5681.9, 0.0, 0.0, 226.0, 286.0, 1310.0, 502.0, 748.0, 622.0, 356.0, 1280.0, 582.0, 708.0, 432.0, 1534.0, 0.0, 70.0, 0.0, 216.0, 80.0, 0.0, 0.0, 0.0, 0.0, 4780.0, 20.0, 216.0, 256.0, 326.0, 728.0, 748.0, 1730.0, 80.0, 306.0, 0.0, 216.0, 0.0, 708.0, 276.0, 200.0, 40.0, 0.0, 0.0, 0.0, 492.0, 40.0, 0.0, 0.0, 4457.95, 0.0, 216.0, 70.0, 20.0, 346.0, 180.0, 502.0, 572.0, 0.0, 0.0, 0.0, 0.0, 0.0, 216.0, 492.0, 0.0, 60.0, 0.0, 432.0, 0.0, 0.0, 0.0, 0.0, 6066.95, 110.0, 0.0, 0.0, 386.0, 602.0, 0.0, 672.0, 80.0, 20.0, 0.0, 80.0, 80.0, 330.0, 40.0, 0.0, 290.0, 40.0, 290.0, 0.0, 0.0, 60.0, 0.0, 0.0, 2350.0, 0.0, 20.0, 130.0, 120.0, 20.0, 216.0, 150.0, 566.0, 80.0, 80.0, 40.0, 40.0, 0.0, 40.0, 290.0, 40.0, 70.0, 20.0, 350.0, 0.0, 290.0, 40.0], \"yaxis\": \"y\", \"type\": \"scatter\", \"uid\": \"e7af3c5a-56da-4c2b-aa7d-3ab445e8561a\"}], {\"height\": 600, \"legend\": {\"tracegroupgap\": 0}, \"margin\": {\"t\": 60}, \"template\": {\"data\": {\"barpolar\": [{\"marker\": {\"line\": {\"color\": \"#E5ECF6\", \"width\": 0.5}}, \"type\": \"barpolar\"}], \"bar\": [{\"marker\": {\"line\": {\"color\": \"#E5ECF6\", \"width\": 0.5}}, \"type\": \"bar\"}], \"carpet\": [{\"aaxis\": {\"endlinecolor\": \"#2a3f5f\", \"gridcolor\": \"white\", \"linecolor\": \"white\", \"minorgridcolor\": \"white\", \"startlinecolor\": \"#2a3f5f\"}, \"baxis\": {\"endlinecolor\": \"#2a3f5f\", \"gridcolor\": \"white\", \"linecolor\": \"white\", \"minorgridcolor\": \"white\", \"startlinecolor\": \"#2a3f5f\"}, \"type\": \"carpet\"}], \"choropleth\": [{\"colorbar\": {\"outlinewidth\": 0, \"ticks\": \"\"}, \"type\": \"choropleth\"}], \"contourcarpet\": [{\"colorbar\": {\"outlinewidth\": 0, \"ticks\": \"\"}, \"type\": \"contourcarpet\"}], \"contour\": [{\"autocolorscale\": true, \"colorbar\": {\"outlinewidth\": 0, \"ticks\": \"\"}, \"type\": \"contour\"}], \"heatmapgl\": [{\"colorbar\": {\"outlinewidth\": 0, \"ticks\": \"\"}, \"type\": \"heatmapgl\"}], \"heatmap\": [{\"autocolorscale\": true, \"colorbar\": {\"outlinewidth\": 0, \"ticks\": \"\"}, \"type\": \"heatmap\"}], \"histogram2dcontour\": [{\"autocolorscale\": true, \"colorbar\": {\"outlinewidth\": 0, \"ticks\": \"\"}, \"type\": \"histogram2dcontour\"}], \"histogram2d\": [{\"autocolorscale\": true, \"colorbar\": {\"outlinewidth\": 0, \"ticks\": \"\"}, \"type\": \"histogram2d\"}], \"histogram\": [{\"marker\": {\"colorbar\": {\"outlinewidth\": 0, \"ticks\": \"\"}}, \"type\": \"histogram\"}], \"mesh3d\": [{\"colorbar\": {\"outlinewidth\": 0, \"ticks\": \"\"}, \"type\": \"mesh3d\"}], \"parcoords\": [{\"line\": {\"colorbar\": {\"outlinewidth\": 0, \"ticks\": \"\"}}, \"type\": \"parcoords\"}], \"scatter3d\": [{\"marker\": {\"colorbar\": {\"outlinewidth\": 0, \"ticks\": \"\"}}, \"type\": \"scatter3d\"}], \"scattercarpet\": [{\"marker\": {\"colorbar\": {\"outlinewidth\": 0, \"ticks\": \"\"}}, \"type\": \"scattercarpet\"}], \"scattergeo\": [{\"marker\": {\"colorbar\": {\"outlinewidth\": 0, \"ticks\": \"\"}}, \"type\": \"scattergeo\"}], \"scattergl\": [{\"marker\": {\"colorbar\": {\"outlinewidth\": 0, \"ticks\": \"\"}}, \"type\": \"scattergl\"}], \"scattermapbox\": [{\"marker\": {\"colorbar\": {\"outlinewidth\": 0, \"ticks\": \"\"}}, \"type\": \"scattermapbox\"}], \"scatterpolargl\": [{\"marker\": {\"colorbar\": {\"outlinewidth\": 0, \"ticks\": \"\"}}, \"type\": \"scatterpolargl\"}], \"scatterpolar\": [{\"marker\": {\"colorbar\": {\"outlinewidth\": 0, \"ticks\": \"\"}}, \"type\": \"scatterpolar\"}], \"scatter\": [{\"marker\": {\"colorbar\": {\"outlinewidth\": 0, \"ticks\": \"\"}}, \"type\": \"scatter\"}], \"scatterternary\": [{\"marker\": {\"colorbar\": {\"outlinewidth\": 0, \"ticks\": \"\"}}, \"type\": \"scatterternary\"}], \"surface\": [{\"colorbar\": {\"outlinewidth\": 0, \"ticks\": \"\"}, \"type\": \"surface\"}], \"table\": [{\"cells\": {\"fill\": {\"color\": \"#EBF0F8\"}, \"line\": {\"color\": \"white\"}}, \"header\": {\"fill\": {\"color\": \"#C8D4E3\"}, \"line\": {\"color\": \"white\"}}, \"type\": \"table\"}]}, \"layout\": {\"annotationdefaults\": {\"arrowcolor\": \"#506784\", \"arrowhead\": 0, \"arrowwidth\": 1}, \"colorscale\": {\"diverging\": [[0, \"#8e0152\"], [0.1, \"#c51b7d\"], [0.2, \"#de77ae\"], [0.3, \"#f1b6da\"], [0.4, \"#fde0ef\"], [0.5, \"#f7f7f7\"], [0.6, \"#e6f5d0\"], [0.7, \"#b8e186\"], [0.8, \"#7fbc41\"], [0.9, \"#4d9221\"], [1, \"#276419\"]], \"sequential\": [[0.0, \"#0508b8\"], [0.0893854748603352, \"#1910d8\"], [0.1787709497206704, \"#3c19f0\"], [0.2681564245810056, \"#6b1cfb\"], [0.3575418994413408, \"#981cfd\"], [0.44692737430167595, \"#bf1cfd\"], [0.5363128491620112, \"#dd2bfd\"], [0.6256983240223464, \"#f246fe\"], [0.7150837988826816, \"#fc67fd\"], [0.8044692737430168, \"#fe88fc\"], [0.8938547486033519, \"#fea5fd\"], [0.9832402234636871, \"#febefe\"], [1.0, \"#fec3fe\"]], \"sequentialminus\": [[0.0, \"#0508b8\"], [0.0893854748603352, \"#1910d8\"], [0.1787709497206704, \"#3c19f0\"], [0.2681564245810056, \"#6b1cfb\"], [0.3575418994413408, \"#981cfd\"], [0.44692737430167595, \"#bf1cfd\"], [0.5363128491620112, \"#dd2bfd\"], [0.6256983240223464, \"#f246fe\"], [0.7150837988826816, \"#fc67fd\"], [0.8044692737430168, \"#fe88fc\"], [0.8938547486033519, \"#fea5fd\"], [0.9832402234636871, \"#febefe\"], [1.0, \"#fec3fe\"]]}, \"colorway\": [\"#636efa\", \"#EF553B\", \"#00cc96\", \"#ab63fa\", \"#19d3f3\", \"#e763fa\", \"#FECB52\", \"#FFA15A\", \"#FF6692\", \"#B6E880\"], \"font\": {\"color\": \"#2a3f5f\"}, \"geo\": {\"bgcolor\": \"white\", \"lakecolor\": \"white\", \"landcolor\": \"#E5ECF6\", \"showlakes\": true, \"showland\": true, \"subunitcolor\": \"white\"}, \"hovermode\": \"closest\", \"mapbox\": {\"style\": \"light\"}, \"paper_bgcolor\": \"white\", \"plot_bgcolor\": \"#E5ECF6\", \"polar\": {\"angularaxis\": {\"gridcolor\": \"white\", \"linecolor\": \"white\", \"ticks\": \"\"}, \"bgcolor\": \"#E5ECF6\", \"radialaxis\": {\"gridcolor\": \"white\", \"linecolor\": \"white\", \"ticks\": \"\"}}, \"scene\": {\"xaxis\": {\"backgroundcolor\": \"#E5ECF6\", \"gridcolor\": \"white\", \"gridwidth\": 2, \"linecolor\": \"white\", \"showbackground\": true, \"ticks\": \"\", \"zerolinecolor\": \"white\"}, \"yaxis\": {\"backgroundcolor\": \"#E5ECF6\", \"gridcolor\": \"white\", \"gridwidth\": 2, \"linecolor\": \"white\", \"showbackground\": true, \"ticks\": \"\", \"zerolinecolor\": \"white\"}, \"zaxis\": {\"backgroundcolor\": \"#E5ECF6\", \"gridcolor\": \"white\", \"gridwidth\": 2, \"linecolor\": \"white\", \"showbackground\": true, \"ticks\": \"\", \"zerolinecolor\": \"white\"}}, \"shapedefaults\": {\"fillcolor\": \"#506784\", \"line\": {\"width\": 0}, \"opacity\": 0.4}, \"ternary\": {\"aaxis\": {\"gridcolor\": \"white\", \"linecolor\": \"white\", \"ticks\": \"\"}, \"baxis\": {\"gridcolor\": \"white\", \"linecolor\": \"white\", \"ticks\": \"\"}, \"bgcolor\": \"#E5ECF6\", \"caxis\": {\"gridcolor\": \"white\", \"linecolor\": \"white\", \"ticks\": \"\"}}, \"title\": {\"x\": 0.05}, \"xaxis\": {\"automargin\": true, \"gridcolor\": \"white\", \"linecolor\": \"white\", \"ticks\": \"\", \"zerolinecolor\": \"white\", \"zerolinewidth\": 2}, \"yaxis\": {\"automargin\": true, \"gridcolor\": \"white\", \"linecolor\": \"white\", \"ticks\": \"\", \"zerolinecolor\": \"white\", \"zerolinewidth\": 2}}}, \"grid\": {\"xaxes\": [\"x\"], \"yaxes\": [\"y\"], \"xgap\": 0.1, \"ygap\": 0.1, \"xside\": \"bottom\", \"yside\": \"left\"}, \"xaxis\": {\"title\": {\"text\": \"paid_date\"}}, \"yaxis\": {\"title\": {\"text\": \"amount\"}}}, {\"showLink\": false, \"linkText\": \"Export to plot.ly\", \"plotlyServerURL\": \"https://plot.ly\"}); \n",
       "}\n",
       "});</script><script type=\"text/javascript\">window.addEventListener(\"resize\", function(){if (document.getElementById(\"0c2d6ba8-9beb-4ced-8037-22d7e4d8cbcc\")) {window._Plotly.Plots.resize(document.getElementById(\"0c2d6ba8-9beb-4ced-8037-22d7e4d8cbcc\"));};})</script>"
      ],
      "text/vnd.plotly.v1+html": [
       "<div id=\"0c2d6ba8-9beb-4ced-8037-22d7e4d8cbcc\" style=\"height: 600px; width: 100%;\" class=\"plotly-graph-div\"></div><script type=\"text/javascript\">require([\"plotly\"], function(Plotly) { window.PLOTLYENV=window.PLOTLYENV || {};window.PLOTLYENV.BASE_URL=\"https://plot.ly\";\n",
       "if (document.getElementById(\"0c2d6ba8-9beb-4ced-8037-22d7e4d8cbcc\")) {\n",
       "    Plotly.newPlot(\"0c2d6ba8-9beb-4ced-8037-22d7e4d8cbcc\", [{\"hovertemplate\": \"paid_date=%{x}<br>amount=%{y}<extra></extra>\", \"legendgroup\": \"\", \"marker\": {\"color\": \"#636efa\", \"symbol\": \"circle\"}, \"mode\": \"markers\", \"name\": \"\", \"showlegend\": false, \"x\": [\"2018-06-17\", \"2018-06-17 01:00:00\", \"2018-06-17 02:00:00\", \"2018-06-17 03:00:00\", \"2018-06-17 04:00:00\", \"2018-06-17 05:00:00\", \"2018-06-17 06:00:00\", \"2018-06-17 07:00:00\", \"2018-06-17 08:00:00\", \"2018-06-17 09:00:00\", \"2018-06-17 10:00:00\", \"2018-06-17 11:00:00\", \"2018-06-17 12:00:00\", \"2018-06-17 13:00:00\", \"2018-06-17 14:00:00\", \"2018-06-17 15:00:00\", \"2018-06-17 16:00:00\", \"2018-06-17 17:00:00\", \"2018-06-17 18:00:00\", \"2018-06-17 19:00:00\", \"2018-06-17 20:00:00\", \"2018-06-17 21:00:00\", \"2018-06-17 22:00:00\", \"2018-06-17 23:00:00\", \"2018-06-18\", \"2018-06-18 01:00:00\", \"2018-06-18 02:00:00\", \"2018-06-18 03:00:00\", \"2018-06-18 04:00:00\", \"2018-06-18 05:00:00\", \"2018-06-18 06:00:00\", \"2018-06-18 07:00:00\", \"2018-06-18 08:00:00\", \"2018-06-18 09:00:00\", \"2018-06-18 10:00:00\", \"2018-06-18 11:00:00\", \"2018-06-18 12:00:00\", \"2018-06-18 13:00:00\", \"2018-06-18 14:00:00\", \"2018-06-18 15:00:00\", \"2018-06-18 16:00:00\", \"2018-06-18 17:00:00\", \"2018-06-18 18:00:00\", \"2018-06-18 19:00:00\", \"2018-06-18 20:00:00\", \"2018-06-18 21:00:00\", \"2018-06-18 22:00:00\", \"2018-06-18 23:00:00\", \"2018-06-19\", \"2018-06-19 01:00:00\", \"2018-06-19 02:00:00\", \"2018-06-19 03:00:00\", \"2018-06-19 04:00:00\", \"2018-06-19 05:00:00\", \"2018-06-19 06:00:00\", \"2018-06-19 07:00:00\", \"2018-06-19 08:00:00\", \"2018-06-19 09:00:00\", \"2018-06-19 10:00:00\", \"2018-06-19 11:00:00\", \"2018-06-19 12:00:00\", \"2018-06-19 13:00:00\", \"2018-06-19 14:00:00\", \"2018-06-19 15:00:00\", \"2018-06-19 16:00:00\", \"2018-06-19 17:00:00\", \"2018-06-19 18:00:00\", \"2018-06-19 19:00:00\", \"2018-06-19 20:00:00\", \"2018-06-19 21:00:00\", \"2018-06-19 22:00:00\", \"2018-06-19 23:00:00\", \"2018-06-20\", \"2018-06-20 01:00:00\", \"2018-06-20 02:00:00\", \"2018-06-20 03:00:00\", \"2018-06-20 04:00:00\", \"2018-06-20 05:00:00\", \"2018-06-20 06:00:00\", \"2018-06-20 07:00:00\", \"2018-06-20 08:00:00\", \"2018-06-20 09:00:00\", \"2018-06-20 10:00:00\", \"2018-06-20 11:00:00\", \"2018-06-20 12:00:00\", \"2018-06-20 13:00:00\", \"2018-06-20 14:00:00\", \"2018-06-20 15:00:00\", \"2018-06-20 16:00:00\", \"2018-06-20 17:00:00\", \"2018-06-20 18:00:00\", \"2018-06-20 19:00:00\", \"2018-06-20 20:00:00\", \"2018-06-20 21:00:00\", \"2018-06-20 22:00:00\", \"2018-06-20 23:00:00\", \"2018-06-21\", \"2018-06-21 01:00:00\", \"2018-06-21 02:00:00\", \"2018-06-21 03:00:00\", \"2018-06-21 04:00:00\", \"2018-06-21 05:00:00\", \"2018-06-21 06:00:00\", \"2018-06-21 07:00:00\", \"2018-06-21 08:00:00\", \"2018-06-21 09:00:00\", \"2018-06-21 10:00:00\", \"2018-06-21 11:00:00\", \"2018-06-21 12:00:00\", \"2018-06-21 13:00:00\", \"2018-06-21 14:00:00\", \"2018-06-21 15:00:00\", \"2018-06-21 16:00:00\", \"2018-06-21 17:00:00\", \"2018-06-21 18:00:00\", \"2018-06-21 19:00:00\", \"2018-06-21 20:00:00\", \"2018-06-21 21:00:00\", \"2018-06-21 22:00:00\", \"2018-06-21 23:00:00\", \"2018-06-22\", \"2018-06-22 01:00:00\", \"2018-06-22 02:00:00\", \"2018-06-22 03:00:00\", \"2018-06-22 04:00:00\", \"2018-06-22 05:00:00\", \"2018-06-22 06:00:00\", \"2018-06-22 07:00:00\", \"2018-06-22 08:00:00\", \"2018-06-22 09:00:00\", \"2018-06-22 10:00:00\", \"2018-06-22 11:00:00\", \"2018-06-22 12:00:00\", \"2018-06-22 13:00:00\", \"2018-06-22 14:00:00\", \"2018-06-22 15:00:00\", \"2018-06-22 16:00:00\", \"2018-06-22 17:00:00\", \"2018-06-22 18:00:00\", \"2018-06-22 19:00:00\", \"2018-06-22 20:00:00\", \"2018-06-22 21:00:00\", \"2018-06-22 22:00:00\", \"2018-06-22 23:00:00\", \"2018-06-23\", \"2018-06-23 01:00:00\", \"2018-06-23 02:00:00\", \"2018-06-23 03:00:00\", \"2018-06-23 04:00:00\", \"2018-06-23 05:00:00\", \"2018-06-23 06:00:00\", \"2018-06-23 07:00:00\", \"2018-06-23 08:00:00\", \"2018-06-23 09:00:00\", \"2018-06-23 10:00:00\", \"2018-06-23 11:00:00\", \"2018-06-23 12:00:00\", \"2018-06-23 13:00:00\", \"2018-06-23 14:00:00\", \"2018-06-23 15:00:00\", \"2018-06-23 16:00:00\", \"2018-06-23 17:00:00\", \"2018-06-23 18:00:00\", \"2018-06-23 19:00:00\", \"2018-06-23 20:00:00\", \"2018-06-23 21:00:00\", \"2018-06-23 22:00:00\", \"2018-06-23 23:00:00\", \"2018-06-24\", \"2018-06-24 01:00:00\", \"2018-06-24 02:00:00\", \"2018-06-24 03:00:00\", \"2018-06-24 04:00:00\", \"2018-06-24 05:00:00\", \"2018-06-24 06:00:00\", \"2018-06-24 07:00:00\", \"2018-06-24 08:00:00\", \"2018-06-24 09:00:00\", \"2018-06-24 10:00:00\", \"2018-06-24 11:00:00\", \"2018-06-24 12:00:00\", \"2018-06-24 13:00:00\", \"2018-06-24 14:00:00\", \"2018-06-24 15:00:00\", \"2018-06-24 16:00:00\", \"2018-06-24 17:00:00\", \"2018-06-24 18:00:00\", \"2018-06-24 19:00:00\", \"2018-06-24 20:00:00\", \"2018-06-24 21:00:00\", \"2018-06-24 22:00:00\", \"2018-06-24 23:00:00\", \"2018-06-25\", \"2018-06-25 01:00:00\", \"2018-06-25 02:00:00\", \"2018-06-25 03:00:00\", \"2018-06-25 04:00:00\", \"2018-06-25 05:00:00\", \"2018-06-25 06:00:00\", \"2018-06-25 07:00:00\", \"2018-06-25 08:00:00\", \"2018-06-25 09:00:00\", \"2018-06-25 10:00:00\", \"2018-06-25 11:00:00\", \"2018-06-25 12:00:00\", \"2018-06-25 13:00:00\", \"2018-06-25 14:00:00\", \"2018-06-25 15:00:00\", \"2018-06-25 16:00:00\", \"2018-06-25 17:00:00\", \"2018-06-25 18:00:00\", \"2018-06-25 19:00:00\", \"2018-06-25 20:00:00\", \"2018-06-25 21:00:00\", \"2018-06-25 22:00:00\", \"2018-06-25 23:00:00\", \"2018-06-26\", \"2018-06-26 01:00:00\", \"2018-06-26 02:00:00\", \"2018-06-26 03:00:00\", \"2018-06-26 04:00:00\", \"2018-06-26 05:00:00\", \"2018-06-26 06:00:00\", \"2018-06-26 07:00:00\", \"2018-06-26 08:00:00\", \"2018-06-26 09:00:00\", \"2018-06-26 10:00:00\", \"2018-06-26 11:00:00\", \"2018-06-26 12:00:00\", \"2018-06-26 13:00:00\", \"2018-06-26 14:00:00\", \"2018-06-26 15:00:00\", \"2018-06-26 16:00:00\", \"2018-06-26 17:00:00\", \"2018-06-26 18:00:00\", \"2018-06-26 19:00:00\", \"2018-06-26 20:00:00\", \"2018-06-26 21:00:00\", \"2018-06-26 22:00:00\"], \"xaxis\": \"x\", \"y\": [2484.0, 0.0, 0.0, 368.0, 20.0, 24.0, 585.0, 366.0, 20.0, 0.0, 0.0, 0.0, 40.0, 20.0, 20.0, 290.0, 40.0, 0.0, 0.0, 0.0, 0.0, 0.0, 0.0, 0.0, 2827.0, 0.0, 0.0, 130.0, 110.0, 60.0, 60.0, 140.0, 216.0, 276.0, 296.0, 256.0, 532.0, 492.0, 748.0, 20.0, 40.0, 0.0, 0.0, 180.0, 216.0, 0.0, 0.0, 0.0, 1606.95, 20.0, 0.0, 80.0, 512.0, 20.0, 80.0, 130.0, 80.0, 40.0, 20.0, 0.0, 40.0, 0.0, 0.0, 1926.0, 2988.0, 20.0, 0.0, 0.0, 0.0, 0.0, 0.0, 216.0, 2486.0, 0.0, 216.0, 0.0, 502.0, 296.0, 492.0, 110.0, 0.0, 256.0, 216.0, 296.0, 0.0, 40.0, 1574.0, 20.0, 0.0, 0.0, 0.0, 216.0, 216.0, 216.0, 0.0, 492.0, 7629.9, 216.0, 492.0, 0.0, 492.0, 652.0, 818.0, 1926.0, 280.0, 0.0, 2458.0, 216.0, 216.0, 216.0, 0.0, 0.0, 216.0, 778.0, 216.0, 40.0, 0.0, 0.0, 20.0, 0.0, 5681.9, 0.0, 0.0, 226.0, 286.0, 1310.0, 502.0, 748.0, 622.0, 356.0, 1280.0, 582.0, 708.0, 432.0, 1534.0, 0.0, 70.0, 0.0, 216.0, 80.0, 0.0, 0.0, 0.0, 0.0, 4780.0, 20.0, 216.0, 256.0, 326.0, 728.0, 748.0, 1730.0, 80.0, 306.0, 0.0, 216.0, 0.0, 708.0, 276.0, 200.0, 40.0, 0.0, 0.0, 0.0, 492.0, 40.0, 0.0, 0.0, 4457.95, 0.0, 216.0, 70.0, 20.0, 346.0, 180.0, 502.0, 572.0, 0.0, 0.0, 0.0, 0.0, 0.0, 216.0, 492.0, 0.0, 60.0, 0.0, 432.0, 0.0, 0.0, 0.0, 0.0, 6066.95, 110.0, 0.0, 0.0, 386.0, 602.0, 0.0, 672.0, 80.0, 20.0, 0.0, 80.0, 80.0, 330.0, 40.0, 0.0, 290.0, 40.0, 290.0, 0.0, 0.0, 60.0, 0.0, 0.0, 2350.0, 0.0, 20.0, 130.0, 120.0, 20.0, 216.0, 150.0, 566.0, 80.0, 80.0, 40.0, 40.0, 0.0, 40.0, 290.0, 40.0, 70.0, 20.0, 350.0, 0.0, 290.0, 40.0], \"yaxis\": \"y\", \"type\": \"scatter\", \"uid\": \"e7af3c5a-56da-4c2b-aa7d-3ab445e8561a\"}], {\"height\": 600, \"legend\": {\"tracegroupgap\": 0}, \"margin\": {\"t\": 60}, \"template\": {\"data\": {\"barpolar\": [{\"marker\": {\"line\": {\"color\": \"#E5ECF6\", \"width\": 0.5}}, \"type\": \"barpolar\"}], \"bar\": [{\"marker\": {\"line\": {\"color\": \"#E5ECF6\", \"width\": 0.5}}, \"type\": \"bar\"}], \"carpet\": [{\"aaxis\": {\"endlinecolor\": \"#2a3f5f\", \"gridcolor\": \"white\", \"linecolor\": \"white\", \"minorgridcolor\": \"white\", \"startlinecolor\": \"#2a3f5f\"}, \"baxis\": {\"endlinecolor\": \"#2a3f5f\", \"gridcolor\": \"white\", \"linecolor\": \"white\", \"minorgridcolor\": \"white\", \"startlinecolor\": \"#2a3f5f\"}, \"type\": \"carpet\"}], \"choropleth\": [{\"colorbar\": {\"outlinewidth\": 0, \"ticks\": \"\"}, \"type\": \"choropleth\"}], \"contourcarpet\": [{\"colorbar\": {\"outlinewidth\": 0, \"ticks\": \"\"}, \"type\": \"contourcarpet\"}], \"contour\": [{\"autocolorscale\": true, \"colorbar\": {\"outlinewidth\": 0, \"ticks\": \"\"}, \"type\": \"contour\"}], \"heatmapgl\": [{\"colorbar\": {\"outlinewidth\": 0, \"ticks\": \"\"}, \"type\": \"heatmapgl\"}], \"heatmap\": [{\"autocolorscale\": true, \"colorbar\": {\"outlinewidth\": 0, \"ticks\": \"\"}, \"type\": \"heatmap\"}], \"histogram2dcontour\": [{\"autocolorscale\": true, \"colorbar\": {\"outlinewidth\": 0, \"ticks\": \"\"}, \"type\": \"histogram2dcontour\"}], \"histogram2d\": [{\"autocolorscale\": true, \"colorbar\": {\"outlinewidth\": 0, \"ticks\": \"\"}, \"type\": \"histogram2d\"}], \"histogram\": [{\"marker\": {\"colorbar\": {\"outlinewidth\": 0, \"ticks\": \"\"}}, \"type\": \"histogram\"}], \"mesh3d\": [{\"colorbar\": {\"outlinewidth\": 0, \"ticks\": \"\"}, \"type\": \"mesh3d\"}], \"parcoords\": [{\"line\": {\"colorbar\": {\"outlinewidth\": 0, \"ticks\": \"\"}}, \"type\": \"parcoords\"}], \"scatter3d\": [{\"marker\": {\"colorbar\": {\"outlinewidth\": 0, \"ticks\": \"\"}}, \"type\": \"scatter3d\"}], \"scattercarpet\": [{\"marker\": {\"colorbar\": {\"outlinewidth\": 0, \"ticks\": \"\"}}, \"type\": \"scattercarpet\"}], \"scattergeo\": [{\"marker\": {\"colorbar\": {\"outlinewidth\": 0, \"ticks\": \"\"}}, \"type\": \"scattergeo\"}], \"scattergl\": [{\"marker\": {\"colorbar\": {\"outlinewidth\": 0, \"ticks\": \"\"}}, \"type\": \"scattergl\"}], \"scattermapbox\": [{\"marker\": {\"colorbar\": {\"outlinewidth\": 0, \"ticks\": \"\"}}, \"type\": \"scattermapbox\"}], \"scatterpolargl\": [{\"marker\": {\"colorbar\": {\"outlinewidth\": 0, \"ticks\": \"\"}}, \"type\": \"scatterpolargl\"}], \"scatterpolar\": [{\"marker\": {\"colorbar\": {\"outlinewidth\": 0, \"ticks\": \"\"}}, \"type\": \"scatterpolar\"}], \"scatter\": [{\"marker\": {\"colorbar\": {\"outlinewidth\": 0, \"ticks\": \"\"}}, \"type\": \"scatter\"}], \"scatterternary\": [{\"marker\": {\"colorbar\": {\"outlinewidth\": 0, \"ticks\": \"\"}}, \"type\": \"scatterternary\"}], \"surface\": [{\"colorbar\": {\"outlinewidth\": 0, \"ticks\": \"\"}, \"type\": \"surface\"}], \"table\": [{\"cells\": {\"fill\": {\"color\": \"#EBF0F8\"}, \"line\": {\"color\": \"white\"}}, \"header\": {\"fill\": {\"color\": \"#C8D4E3\"}, \"line\": {\"color\": \"white\"}}, \"type\": \"table\"}]}, \"layout\": {\"annotationdefaults\": {\"arrowcolor\": \"#506784\", \"arrowhead\": 0, \"arrowwidth\": 1}, \"colorscale\": {\"diverging\": [[0, \"#8e0152\"], [0.1, \"#c51b7d\"], [0.2, \"#de77ae\"], [0.3, \"#f1b6da\"], [0.4, \"#fde0ef\"], [0.5, \"#f7f7f7\"], [0.6, \"#e6f5d0\"], [0.7, \"#b8e186\"], [0.8, \"#7fbc41\"], [0.9, \"#4d9221\"], [1, \"#276419\"]], \"sequential\": [[0.0, \"#0508b8\"], [0.0893854748603352, \"#1910d8\"], [0.1787709497206704, \"#3c19f0\"], [0.2681564245810056, \"#6b1cfb\"], [0.3575418994413408, \"#981cfd\"], [0.44692737430167595, \"#bf1cfd\"], [0.5363128491620112, \"#dd2bfd\"], [0.6256983240223464, \"#f246fe\"], [0.7150837988826816, \"#fc67fd\"], [0.8044692737430168, \"#fe88fc\"], [0.8938547486033519, \"#fea5fd\"], [0.9832402234636871, \"#febefe\"], [1.0, \"#fec3fe\"]], \"sequentialminus\": [[0.0, \"#0508b8\"], [0.0893854748603352, \"#1910d8\"], [0.1787709497206704, \"#3c19f0\"], [0.2681564245810056, \"#6b1cfb\"], [0.3575418994413408, \"#981cfd\"], [0.44692737430167595, \"#bf1cfd\"], [0.5363128491620112, \"#dd2bfd\"], [0.6256983240223464, \"#f246fe\"], [0.7150837988826816, \"#fc67fd\"], [0.8044692737430168, \"#fe88fc\"], [0.8938547486033519, \"#fea5fd\"], [0.9832402234636871, \"#febefe\"], [1.0, \"#fec3fe\"]]}, \"colorway\": [\"#636efa\", \"#EF553B\", \"#00cc96\", \"#ab63fa\", \"#19d3f3\", \"#e763fa\", \"#FECB52\", \"#FFA15A\", \"#FF6692\", \"#B6E880\"], \"font\": {\"color\": \"#2a3f5f\"}, \"geo\": {\"bgcolor\": \"white\", \"lakecolor\": \"white\", \"landcolor\": \"#E5ECF6\", \"showlakes\": true, \"showland\": true, \"subunitcolor\": \"white\"}, \"hovermode\": \"closest\", \"mapbox\": {\"style\": \"light\"}, \"paper_bgcolor\": \"white\", \"plot_bgcolor\": \"#E5ECF6\", \"polar\": {\"angularaxis\": {\"gridcolor\": \"white\", \"linecolor\": \"white\", \"ticks\": \"\"}, \"bgcolor\": \"#E5ECF6\", \"radialaxis\": {\"gridcolor\": \"white\", \"linecolor\": \"white\", \"ticks\": \"\"}}, \"scene\": {\"xaxis\": {\"backgroundcolor\": \"#E5ECF6\", \"gridcolor\": \"white\", \"gridwidth\": 2, \"linecolor\": \"white\", \"showbackground\": true, \"ticks\": \"\", \"zerolinecolor\": \"white\"}, \"yaxis\": {\"backgroundcolor\": \"#E5ECF6\", \"gridcolor\": \"white\", \"gridwidth\": 2, \"linecolor\": \"white\", \"showbackground\": true, \"ticks\": \"\", \"zerolinecolor\": \"white\"}, \"zaxis\": {\"backgroundcolor\": \"#E5ECF6\", \"gridcolor\": \"white\", \"gridwidth\": 2, \"linecolor\": \"white\", \"showbackground\": true, \"ticks\": \"\", \"zerolinecolor\": \"white\"}}, \"shapedefaults\": {\"fillcolor\": \"#506784\", \"line\": {\"width\": 0}, \"opacity\": 0.4}, \"ternary\": {\"aaxis\": {\"gridcolor\": \"white\", \"linecolor\": \"white\", \"ticks\": \"\"}, \"baxis\": {\"gridcolor\": \"white\", \"linecolor\": \"white\", \"ticks\": \"\"}, \"bgcolor\": \"#E5ECF6\", \"caxis\": {\"gridcolor\": \"white\", \"linecolor\": \"white\", \"ticks\": \"\"}}, \"title\": {\"x\": 0.05}, \"xaxis\": {\"automargin\": true, \"gridcolor\": \"white\", \"linecolor\": \"white\", \"ticks\": \"\", \"zerolinecolor\": \"white\", \"zerolinewidth\": 2}, \"yaxis\": {\"automargin\": true, \"gridcolor\": \"white\", \"linecolor\": \"white\", \"ticks\": \"\", \"zerolinecolor\": \"white\", \"zerolinewidth\": 2}}}, \"grid\": {\"xaxes\": [\"x\"], \"yaxes\": [\"y\"], \"xgap\": 0.1, \"ygap\": 0.1, \"xside\": \"bottom\", \"yside\": \"left\"}, \"xaxis\": {\"title\": {\"text\": \"paid_date\"}}, \"yaxis\": {\"title\": {\"text\": \"amount\"}}}, {\"showLink\": false, \"linkText\": \"Export to plot.ly\", \"plotlyServerURL\": \"https://plot.ly\"}); \n",
       "}\n",
       "});</script><script type=\"text/javascript\">window.addEventListener(\"resize\", function(){if (document.getElementById(\"0c2d6ba8-9beb-4ced-8037-22d7e4d8cbcc\")) {window._Plotly.Plots.resize(document.getElementById(\"0c2d6ba8-9beb-4ced-8037-22d7e4d8cbcc\"));};})</script>"
      ]
     },
     "metadata": {},
     "output_type": "display_data"
    }
   ],
   "source": [
    "\n",
    "import plotly_express as px\n",
    "px.scatter(anniversary_days, x='paid_date', y='amount')\n"
   ]
  },
  {
   "cell_type": "code",
   "execution_count": null,
   "metadata": {},
   "outputs": [],
   "source": []
  }
 ],
 "metadata": {
  "kernelspec": {
   "display_name": "Python 3",
   "language": "python",
   "name": "python3"
  },
  "language_info": {
   "codemirror_mode": {
    "name": "ipython",
    "version": 3
   },
   "file_extension": ".py",
   "mimetype": "text/x-python",
   "name": "python",
   "nbconvert_exporter": "python",
   "pygments_lexer": "ipython3",
   "version": "3.6.4"
  }
 },
 "nbformat": 4,
 "nbformat_minor": 2
}
