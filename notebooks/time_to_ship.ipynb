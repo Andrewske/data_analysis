{
 "cells": [
  {
   "cell_type": "code",
   "execution_count": 22,
   "metadata": {},
   "outputs": [],
   "source": [
    "import pandas as pd\n",
    "apr = pd.read_csv(\"../csv/Apr 19/apr_time_to_ship.csv\")\n",
    "mar = pd.read_csv(\"../csv/Apr 19/mar_time_to_ship.csv\")\n",
    "feb = pd.read_csv(\"../csv/Apr 19/feb_time_to_ship.csv\")\n",
    "apr['sold_on'] = pd.to_datetime(apr.sold_on) \n",
    "apr['purchased_at'] = pd.to_datetime(apr.purchased_at) \n",
    "apr.dropna(inplace=True)\n",
    "mar['sold_on'] = pd.to_datetime(mar.sold_on) \n",
    "mar['purchased_at'] = pd.to_datetime(mar.purchased_at) \n",
    "mar.dropna(inplace=True)\n",
    "feb['sold_on'] = pd.to_datetime(feb.sold_on) \n",
    "feb['purchased_at'] = pd.to_datetime(feb.purchased_at) \n",
    "feb.dropna(inplace=True)\n",
    "apr['time_to_sale'] = apr.purchased_at - apr.sold_on\n",
    "mar['time_to_sale'] = mar.purchased_at - mar.sold_on\n",
    "feb['time_to_sale'] = feb.purchased_at - feb.sold_on\n",
    "tot = pd.concat([apr, mar, feb],sort=False)"
   ]
  },
  {
   "cell_type": "code",
   "execution_count": 23,
   "metadata": {},
   "outputs": [
    {
     "name": "stdout",
     "output_type": "stream",
     "text": [
      "April time to print: 1 days 12:06:28.031714\n",
      "March time to print: 1 days 20:46:00.605672\n",
      "February time to print: 1 days 19:00:28.286472\n",
      "Total time to print: 1 days 17:36:03.704621\n"
     ]
    }
   ],
   "source": [
    "\n",
    "print(\"April time to print: \" + str(apr.time_to_sale.mean()))\n",
    "\n",
    "print(\"March time to print: \" + str(mar.time_to_sale.mean()))\n",
    "\n",
    "print(\"February time to print: \" + str(feb.time_to_sale.mean()))\n",
    "\n",
    "print(\"Total time to print: \" + str(tot.time_to_sale.mean()))"
   ]
  },
  {
   "cell_type": "code",
   "execution_count": null,
   "metadata": {},
   "outputs": [],
   "source": []
  }
 ],
 "metadata": {
  "kernelspec": {
   "display_name": "Python 3",
   "language": "python",
   "name": "python3"
  },
  "language_info": {
   "codemirror_mode": {
    "name": "ipython",
    "version": 3
   },
   "file_extension": ".py",
   "mimetype": "text/x-python",
   "name": "python",
   "nbconvert_exporter": "python",
   "pygments_lexer": "ipython3",
   "version": "3.6.4"
  }
 },
 "nbformat": 4,
 "nbformat_minor": 2
}
