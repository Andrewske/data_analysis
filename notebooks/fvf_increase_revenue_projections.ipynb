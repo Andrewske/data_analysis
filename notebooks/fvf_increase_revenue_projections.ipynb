{
 "cells": [
  {
   "cell_type": "code",
   "execution_count": 115,
   "metadata": {},
   "outputs": [],
   "source": [
    "import pandas as pd\n",
    "import numpy as np\n",
    "import plotly_express as px\n",
    "import colorlover as cl\n",
    "import random\n",
    "import plotly.plotly as py\n",
    "import plotly.graph_objs as go\n",
    "import plotly.offline as po"
   ]
  },
  {
   "cell_type": "code",
   "execution_count": 116,
   "metadata": {},
   "outputs": [],
   "source": [
    "\n",
    "\n",
    "categories = [\"Computers/Tablets & Networking >> Software\", \"Parts & Accessories >> Car & Truck Parts\", \"Health & Beauty >> Vitamins & Dietary Supplements\", \"Fashion >> Men's Shoes\", \"Home & Garden >> Yard, Garden & Outdoor Living\", \"Fashion >> Women's Handbags & Bags\", \"Fashion >> Men's Clothing\", \"Health & Beauty >> Health Care\", \"DVDs & Movies >> DVD, HD DVD & Blu-ray\", \"Jewelry & Watches >> Watches\"]\n",
    "category_names = [\"Software\", \"Car & Truck Parts\", \"Vitamins\", \"Men's shoes\", \"Home & Garden\", \"Handbags\", \"Men's clothing\", \"Health care\",\"DVDs & Blu-ray\",  \"Watches\"]\n",
    "category_ids = [18793, 6030, 180959, 93427, 159912, 169291, 1059, 67588, 617, 14324]\n",
    "top_sellers_fvf = { \"Software\" : .143, \n",
    "                   \"Car & Truck Parts\":.128, \n",
    "                   \"Vitamins\":.17, \n",
    "                   \"Men's shoes\":.168, \n",
    "                   \"Home & Garden\":.139, \n",
    "                   \"Handbags\": .098, \n",
    "                   \"Men's clothing\": .17, \n",
    "                   \"Health care\":.16, \n",
    "                   \"DVDs & Blu-ray\":.13, \n",
    "                   \"Watches\":.116\n",
    "                  }\n",
    "\n",
    "\n",
    "#Load Data from CSVs\n",
    "df1 = pd.read_csv(\"../csv/offer_info.csv\")\n",
    "df2 = pd.read_csv(\"../csv/max_fvf.csv\")\n",
    "\n",
    "\n",
    "#Merge into a new dataframe\n",
    "new_df = df1.merge(df2, how=\"left\", left_on=\"seller_id\", right_on=\"seller_id\")\n",
    "\n",
    "df3 = pd.read_csv(\"../csv/category_per_offer.csv\")\n",
    "\n",
    "q1_offers = new_df.merge(df3, how=\"left\", left_on=\"id\", right_on = \"id\")\n",
    "\n",
    "\n",
    "#Replace category_id with category name\n",
    "for name, cat_id in zip(category_names, category_ids):\n",
    "    q1_offers.replace(cat_id, name, inplace=True)\n",
    "\n",
    "\n",
    "#Add column for the actual FVF level that a \n",
    "q1_offers['fvf_level_paid'] = q1_offers['fvf']/q1_offers['amount']\n",
    "\n",
    "\n",
    "sum_df = q1_offers.groupby('category_id').sum().drop(['id', 'seller_id'], axis=1).reset_index()\n",
    "mean_df = q1_offers.groupby('category_id').mean().drop(['id', 'seller_id'], axis=1).reset_index()\n",
    "\n",
    "for key, value in top_sellers_fvf.items():\n",
    "    for category in mean_df['category_id']:\n",
    "        if category == key:\n",
    "            mean_df['fvf_diff'] = mean_df['max_fvf'] - value*100"
   ]
  },
  {
   "cell_type": "code",
   "execution_count": 117,
   "metadata": {},
   "outputs": [
    {
     "name": "stdout",
     "output_type": "stream",
     "text": [
      "2689.7759751943945\n"
     ]
    }
   ],
   "source": [
    "#If every seller increased their FVF by 1 level then how much would we make. \n",
    "#What if we only increased the FVF of 10% of sellers at random\n",
    "\n",
    "#The goal is to show the projected value of sellers in these categories increase their max_fvf\n",
    "#So I need to group the df by seller and sum the amount and fvf\n",
    "#Then I need to randomly pick 10% of those sellers\n",
    "#For each of those sellers orders we need to increase the max_fvf\n",
    "#Then I multply that number by the average difference between their max_fvf and their fvf_level_paid\n",
    "#Take this new_max_fvf and multiply it by the amount to get the new fvf per order\n",
    "#compare those sums\n",
    "\n",
    "updated_q1_offers = q1_offers.copy()\n",
    "\n",
    "\n",
    "sellers_sum = q1_offers.groupby('seller_id').sum().reset_index()\n",
    "\n",
    "sample = sellers_sum['seller_id'].sample(frac=0.01)\n",
    "\n",
    "\n",
    "#update FVF for random sample of sellers\n",
    "new_fvf = []\n",
    "for i in range(len(updated_q1_offers)):\n",
    "    if updated_q1_offers.seller_id[i] in sample.values:\n",
    "        if updated_q1_offers.max_fvf[i] == 3.5:\n",
    "            new_fvf.append(9.0)\n",
    "        elif updated_q1_offers.max_fvf[i] == 9.0:\n",
    "            new_fvf.append(13.0)\n",
    "        elif updated_q1_offers.max_fvf[i] == 13.0:\n",
    "            new_fvf.append(19.0)\n",
    "        elif updated_q1_offers.max_fvf[i] == 19.0:\n",
    "            new_fvf.append(30.0)\n",
    "        else:\n",
    "            new_fvf.append(updated_q1_offers.max_fvf[i])\n",
    "    else: \n",
    "        new_fvf.append(updated_q1_offers.max_fvf[i])       \n",
    "\n",
    "updated_q1_offers['new_fvf'] = new_fvf\n",
    "\n",
    "#what is the difference between the fvf_level_paid and the max_fvf\n",
    "updated_q1_offers['fvf_diff'] = updated_q1_offers['fvf_level_paid']/updated_q1_offers['max_fvf']\n",
    "\n",
    "#what would the seller actually pay with the increased fvf_level\n",
    "updated_q1_offers['actual_fvf'] = updated_q1_offers['new_fvf']*updated_q1_offers['fvf_diff']\n",
    "\n",
    "#what is the new fvf revenue collected\n",
    "updated_q1_offers['new_revenue'] = updated_q1_offers['amount']*updated_q1_offers['actual_fvf']\n",
    "\n",
    "#How much different is that revenue from the previous\n",
    "updated_q1_offers['revenue_increase'] = updated_q1_offers['new_revenue']-updated_q1_offers['fvf']\n",
    "\n",
    "\n",
    "old_seller_value = q1_offers.groupby('category_id').sum()\n",
    "new_seller_value = updated_q1_offers.groupby('category_id').sum()\n",
    "\n",
    "print(new_seller_value.revenue_increase.sum())\n"
   ]
  },
  {
   "cell_type": "code",
   "execution_count": 114,
   "metadata": {},
   "outputs": [
    {
     "data": {
      "text/plain": [
       "'file:///Users/kevin/data_analysis/notebooks/temp-plot.html'"
      ]
     },
     "execution_count": 114,
     "metadata": {},
     "output_type": "execute_result"
    }
   ],
   "source": [
    "#Create Bar Chart\n",
    "trace1 = go.Bar(\n",
    "        x = mean_df.category_id,\n",
    "        y = mean_df.max_fvf/100,\n",
    "        text = (mean_df.max_fvf/100).map(\"{:,.2f}\".format),\n",
    "        textposition = 'auto',\n",
    "        textfont=dict(\n",
    "                color='black',\n",
    "                size=14,\n",
    "            ),\n",
    "        marker = dict(\n",
    "              color = cl.scales['10']['qual']['Paired']\n",
    "            ),\n",
    "        name = 'Average max_fvf for Sellers'\n",
    ")\n",
    "\n",
    "trace2 = go.Bar(\n",
    "        x = mean_df.category_id,\n",
    "        y = list(top_sellers_fvf.values()),\n",
    "        text = list(top_sellers_fvf.values()),\n",
    "            textposition = 'auto',\n",
    "            textfont=dict(\n",
    "                    color='black',\n",
    "                    size=14,\n",
    "                ),\n",
    "        marker = dict(\n",
    "              color = cl.scales['10']['div']['Spectral']\n",
    "            ),\n",
    "        name = 'Top Seller FVF level'\n",
    ")\n",
    "\n",
    "data = [trace1, trace2]\n",
    "layout = go.Layout(\n",
    "    barmode='group',\n",
    "    title = 'Average FVF level paid compared to top sellers'\n",
    ")\n",
    "\n",
    "fig = go.Figure(data=data, layout=layout)\n",
    "po.plot(data)"
   ]
  },
  {
   "cell_type": "code",
   "execution_count": 146,
   "metadata": {},
   "outputs": [
    {
     "data": {
      "text/plain": [
       "'file:///Users/kevin/data_analysis/notebooks/temp-plot.html'"
      ]
     },
     "execution_count": 146,
     "metadata": {},
     "output_type": "execute_result"
    }
   ],
   "source": [
    "trace1 = go.Bar(\n",
    "        x = mean_df.category_id,\n",
    "        y = mean_df.fvf_level_paid,\n",
    "        marker = dict(\n",
    "              color = cl.scales['10']['qual']['Paired']\n",
    "            ),\n",
    "        name = 'FVF level paid'\n",
    ")\n",
    "trace2 = go.Bar(\n",
    "        x = mean_df.category_id,\n",
    "        y = mean_df.max_fvf/100,\n",
    "        marker = dict(\n",
    "              color = cl.scales['10']['div']['Spectral']\n",
    "            ),\n",
    "        name = 'Max_FVF'\n",
    ")\n",
    "\n",
    "data = [trace1, trace2]\n",
    "layout = go.Layout(\n",
    "    barmode='group'\n",
    ")\n",
    "\n",
    "fig = go.Figure(data=data, layout=layout)\n",
    "po.plot(data)"
   ]
  },
  {
   "cell_type": "code",
   "execution_count": 85,
   "metadata": {},
   "outputs": [
    {
     "data": {
      "text/plain": [
       "'https://plot.ly/~kevinbigfoot/137'"
      ]
     },
     "execution_count": 85,
     "metadata": {},
     "output_type": "execute_result"
    }
   ],
   "source": [
    "import locale\n",
    "trace1 = go.Bar(\n",
    "        x = new_seller_value.index,\n",
    "        y = new_seller_value.fvf,\n",
    "        marker = dict(\n",
    "            color = cl.scales['10']['qual']['Paired'],\n",
    "            line=dict(\n",
    "                color='rgb(8,48,107)',\n",
    "                width=1.5),\n",
    "        ),\n",
    "    \n",
    "        name = \"Q1 FVF's\"\n",
    ")\n",
    "trace2 = go.Bar(\n",
    "        x = new_seller_value.index,\n",
    "        y = new_seller_value.new_revenue,\n",
    "        text = new_seller_value.revenue_increase.map(\"${:,.2f}\".format),\n",
    "        textposition = 'auto',\n",
    "        textfont=dict(\n",
    "                color='black',\n",
    "                size=14,\n",
    "            ),\n",
    "        marker = dict(\n",
    "            color = cl.scales['10']['div']['Spectral'],\n",
    "            line=dict(\n",
    "                color='rgb(8,48,107)',\n",
    "                width=1.5),\n",
    "            ),\n",
    "        name = \"Increased fvf\"\n",
    ")\n",
    "\n",
    "data = [trace1, trace2]\n",
    "layout = go.Layout(\n",
    "    title=\"none\",\n",
    "    barmode='group',\n",
    "    \n",
    ")\n",
    "\n",
    "fig = go.Figure(data=data, layout=layout)\n",
    "py.plot(data)"
   ]
  },
  {
   "cell_type": "code",
   "execution_count": null,
   "metadata": {},
   "outputs": [],
   "source": []
  },
  {
   "cell_type": "code",
   "execution_count": null,
   "metadata": {},
   "outputs": [],
   "source": []
  }
 ],
 "metadata": {
  "kernelspec": {
   "display_name": "Python 3",
   "language": "python",
   "name": "python3"
  },
  "language_info": {
   "codemirror_mode": {
    "name": "ipython",
    "version": 3
   },
   "file_extension": ".py",
   "mimetype": "text/x-python",
   "name": "python",
   "nbconvert_exporter": "python",
   "pygments_lexer": "ipython3",
   "version": "3.6.4"
  }
 },
 "nbformat": 4,
 "nbformat_minor": 2
}
