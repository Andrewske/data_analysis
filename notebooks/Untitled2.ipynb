{
 "cells": [
  {
   "cell_type": "code",
   "execution_count": 1,
   "metadata": {},
   "outputs": [],
   "source": [
    "import pandas as pd\n",
    "import numpy as np\n",
    "\n",
    "import plotly.plotly as py\n",
    "import plotly.graph_objs as go\n",
    "from plotly.offline import iplot, init_notebook_mode"
   ]
  },
  {
   "cell_type": "code",
   "execution_count": 17,
   "metadata": {},
   "outputs": [
    {
     "data": {
      "text/plain": [
       "Index(['id', 'user_items_list_id', 'applies_to_date', 'view_count',\n",
       "       'view_score', 'purchase_item_count', 'clickthrough_count',\n",
       "       'featured_count', 'created_at', 'updated_at', 'comment_count'],\n",
       "      dtype='object')"
      ]
     },
     "execution_count": 17,
     "metadata": {},
     "output_type": "execute_result"
    }
   ],
   "source": [
    "df = pd.read_csv('home_page_list.csv')\n",
    "df.applies_to_date = pd.to_datetime(df.applies_to_date)\n",
    "\n",
    "watch_yourself = df[df.user_items_list_id == 163479]\n",
    "watch_yourself.columns"
   ]
  },
  {
   "cell_type": "code",
   "execution_count": null,
   "metadata": {},
   "outputs": [],
   "source": [
    "trace_high = go.Scatter(\n",
    "                x=watch_yourself.applies_to_date,\n",
    "                y=watch_yourself.view_count\n",
    "                name = \"Watch Yourself\",\n",
    "                line = dict(color = '#17BECF'),\n",
    "                opacity = 0.8)"
   ]
  }
 ],
 "metadata": {
  "kernelspec": {
   "display_name": "Python 3",
   "language": "python",
   "name": "python3"
  },
  "language_info": {
   "codemirror_mode": {
    "name": "ipython",
    "version": 3
   },
   "file_extension": ".py",
   "mimetype": "text/x-python",
   "name": "python",
   "nbconvert_exporter": "python",
   "pygments_lexer": "ipython3",
   "version": "3.6.4"
  }
 },
 "nbformat": 4,
 "nbformat_minor": 2
}
