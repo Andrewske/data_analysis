{
 "cells": [
  {
   "cell_type": "code",
   "execution_count": 2,
   "metadata": {},
   "outputs": [],
   "source": [
    "import pandas as pd\n",
    "import numpy as np\n",
    "\n",
    "import plotly.plotly as py\n",
    "import plotly.graph_objs as go\n",
    "from plotly.offline import iplot, init_notebook_mode"
   ]
  },
  {
   "cell_type": "code",
   "execution_count": 31,
   "metadata": {},
   "outputs": [],
   "source": [
    "df1 = pd.read_csv('../csv/active_sellers_apr_19.csv')\n",
    "df1['created_at'] = pd.to_datetime(df1.created_at,infer_datetime_format=True)\n",
    "df1['is_winning'] = df1['is_winning'].astype(bool)\n",
    "df1['profit_estimate'] = df1['profit_estimate'].astype(float)\n",
    "df1['top_category_name'] = df1['top_category_name'].astype(str)\n",
    "df1['second_category_name'] = df1['second_category_name'].astype(str)\n",
    "df1['third_category_name'] = df1['third_category_name'].astype(str)\n",
    "df1['featured_category_id'] = df1['featured_category_id'].astype(str)\n",
    "df1 = df1.drop(columns=['id_y', 'user_id'])\n",
    "df1.to_csv('../csv/active_sellers_apr_19.csv')\n",
    "\n",
    "\n"
   ]
  },
  {
   "cell_type": "code",
   "execution_count": 102,
   "metadata": {},
   "outputs": [
    {
     "name": "stdout",
     "output_type": "stream",
     "text": [
      "0.8076923076923077\n"
     ]
    }
   ],
   "source": [
    "df1 = pd.read_csv('../csv/active_sellers_apr_19.csv')\n",
    "df2 = df1[df1.featured_category_id == 'Parts & Accessories']\n",
    "number_of_items = 10000\n",
    "\n",
    "def with_without(df,n):\n",
    "    return df[df.item_count > number_of_items].offers.count()/df[df.item_count > number_of_items].seller_id.count()\n",
    "\n",
    "print(with_without(df2,number_of_items))"
   ]
  },
  {
   "cell_type": "code",
   "execution_count": 109,
   "metadata": {},
   "outputs": [
    {
     "ename": "ValueError",
     "evalue": "The truth value of a Series is ambiguous. Use a.empty, a.bool(), a.item(), a.any() or a.all().",
     "output_type": "error",
     "traceback": [
      "\u001b[0;31m---------------------------------------------------------------------------\u001b[0m",
      "\u001b[0;31mValueError\u001b[0m                                Traceback (most recent call last)",
      "\u001b[0;32m<ipython-input-109-fdd024757e25>\u001b[0m in \u001b[0;36m<module>\u001b[0;34m\u001b[0m\n\u001b[1;32m      1\u001b[0m \u001b[0mten\u001b[0m \u001b[0;34m=\u001b[0m \u001b[0mdf2\u001b[0m\u001b[0;34m[\u001b[0m\u001b[0mdf2\u001b[0m\u001b[0;34m.\u001b[0m\u001b[0mitem_count\u001b[0m \u001b[0;34m<=\u001b[0m \u001b[0;36m10\u001b[0m\u001b[0;34m]\u001b[0m\u001b[0;34m.\u001b[0m\u001b[0mseller_id\u001b[0m\u001b[0;34m.\u001b[0m\u001b[0mcount\u001b[0m\u001b[0;34m(\u001b[0m\u001b[0;34m)\u001b[0m\u001b[0;34m\u001b[0m\u001b[0m\n\u001b[0;32m----> 2\u001b[0;31m \u001b[0mhundred\u001b[0m \u001b[0;34m=\u001b[0m \u001b[0mdf2\u001b[0m\u001b[0;34m[\u001b[0m\u001b[0;36m10\u001b[0m \u001b[0;34m<\u001b[0m \u001b[0mdf2\u001b[0m\u001b[0;34m.\u001b[0m\u001b[0mitem_count\u001b[0m \u001b[0;34m<=\u001b[0m \u001b[0;36m100\u001b[0m \u001b[0;34m]\u001b[0m\u001b[0;34m.\u001b[0m\u001b[0mseller_id\u001b[0m\u001b[0;34m.\u001b[0m\u001b[0mcount\u001b[0m\u001b[0;34m(\u001b[0m\u001b[0;34m)\u001b[0m\u001b[0;34m\u001b[0m\u001b[0m\n\u001b[0m\u001b[1;32m      3\u001b[0m \u001b[0;34m\u001b[0m\u001b[0m\n\u001b[1;32m      4\u001b[0m \u001b[0;34m\u001b[0m\u001b[0m\n\u001b[1;32m      5\u001b[0m \u001b[0mprint\u001b[0m\u001b[0;34m(\u001b[0m\u001b[0mten\u001b[0m\u001b[0;34m,\u001b[0m \u001b[0mhundred\u001b[0m\u001b[0;34m)\u001b[0m\u001b[0;34m\u001b[0m\u001b[0m\n",
      "\u001b[0;32m~/data_analysis/lib/python3.6/site-packages/pandas/core/generic.py\u001b[0m in \u001b[0;36m__nonzero__\u001b[0;34m(self)\u001b[0m\n\u001b[1;32m   1476\u001b[0m         raise ValueError(\"The truth value of a {0} is ambiguous. \"\n\u001b[1;32m   1477\u001b[0m                          \u001b[0;34m\"Use a.empty, a.bool(), a.item(), a.any() or a.all().\"\u001b[0m\u001b[0;34m\u001b[0m\u001b[0m\n\u001b[0;32m-> 1478\u001b[0;31m                          .format(self.__class__.__name__))\n\u001b[0m\u001b[1;32m   1479\u001b[0m \u001b[0;34m\u001b[0m\u001b[0m\n\u001b[1;32m   1480\u001b[0m     \u001b[0m__bool__\u001b[0m \u001b[0;34m=\u001b[0m \u001b[0m__nonzero__\u001b[0m\u001b[0;34m\u001b[0m\u001b[0m\n",
      "\u001b[0;31mValueError\u001b[0m: The truth value of a Series is ambiguous. Use a.empty, a.bool(), a.item(), a.any() or a.all()."
     ]
    }
   ],
   "source": [
    "ten = df2[df2.item_count <= 10].seller_id.count()\n",
    "hundred = df2[[10 <] df2.item_count <= 100 ].seller_id.count()\n",
    "\n",
    "\n",
    "print(ten, hundred)\n",
    "    "
   ]
  },
  {
   "cell_type": "code",
   "execution_count": 120,
   "metadata": {},
   "outputs": [],
   "source": []
  },
  {
   "cell_type": "code",
   "execution_count": 144,
   "metadata": {},
   "outputs": [
    {
     "data": {
      "text/plain": [
       "['ggplot2',\n",
       " 'seaborn',\n",
       " 'plotly',\n",
       " 'plotly_white',\n",
       " 'plotly_dark',\n",
       " 'presentation',\n",
       " 'xgridoff',\n",
       " 'no_background']"
      ]
     },
     "execution_count": 144,
     "metadata": {},
     "output_type": "execute_result"
    }
   ],
   "source": [
    "import plotly.io as pio\n",
    "import plotly.plotly as py\n",
    "import plotly.graph_objs as go\n",
    "\n",
    "layout = go.Layout(\n",
    "    title='Figure Title',\n",
    "    font = dict(size= 14, family='Roboto', color='white'),\n",
    "    paper_bgcolor='rgba(0,0,0,0)',\n",
    "\tplot_bgcolor='rgba(0,0,0,0)',\n",
    "    xaxis=dict(\n",
    "        autorange=True,\n",
    "        showgrid=False,\n",
    "    ),\n",
    "    yaxis=dict(\n",
    "        autorange=True,\n",
    "        showgrid=False,\n",
    "    )\n",
    ")\n",
    "\n",
    "\n",
    "fig = go.Figure(layout=layout)\n",
    "templated_fig = pio.to_templated(fig)\n",
    "pio.templates['no_background'] = templated_fig.layout.template\n",
    "list(pio.templates)"
   ]
  },
  {
   "cell_type": "code",
   "execution_count": null,
   "metadata": {},
   "outputs": [],
   "source": [
    "layout={'title': 'Figure Title',\n",
    "        'font': {'size': 14, 'family': 'Roboto', 'color':'white'},\n",
    "        'paper_bgcolor' : 'rgba(0,0,0,0)',\n",
    "\t\t'plot_bgcolor' : 'rgba(0,0,0,0)',\n",
    "        'showlegend':False,\n",
    "        'xaxis': dict(\n",
    "            'autorange':True,\n",
    "            'showgrid':False,\n",
    "            'zeroline':False,\n",
    "            'showline':False,\n",
    "            'ticks':'',\n",
    "            'showticklabels':False\n",
    "        ),\n",
    "        'yaxis': dict(\n",
    "            'autorange':True,\n",
    "            'showgrid':False,\n",
    "            'zeroline':False,\n",
    "            'showline':False,\n",
    "            'ticks':'',\n",
    "            'showticklabels':False\n",
    "        )}"
   ]
  }
 ],
 "metadata": {
  "kernelspec": {
   "display_name": "Python 3",
   "language": "python",
   "name": "python3"
  },
  "language_info": {
   "codemirror_mode": {
    "name": "ipython",
    "version": 3
   },
   "file_extension": ".py",
   "mimetype": "text/x-python",
   "name": "python",
   "nbconvert_exporter": "python",
   "pygments_lexer": "ipython3",
   "version": "3.6.4"
  }
 },
 "nbformat": 4,
 "nbformat_minor": 2
}
