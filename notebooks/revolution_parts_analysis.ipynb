{
 "cells": [
  {
   "cell_type": "code",
   "execution_count": 87,
   "metadata": {},
   "outputs": [
    {
     "data": {
      "text/html": [
       "<script type=\"text/javascript\">window.PlotlyConfig = {MathJaxConfig: 'local'};</script><script type=\"text/javascript\">if (window.MathJax) {MathJax.Hub.Config({SVG: {font: \"STIX-Web\"}});}</script><script>requirejs.config({paths: { 'plotly': ['https://cdn.plot.ly/plotly-latest.min']},});if(!window._Plotly) {require(['plotly'],function(plotly) {window._Plotly=plotly;});}</script>"
      ],
      "text/vnd.plotly.v1+html": [
       "<script type=\"text/javascript\">window.PlotlyConfig = {MathJaxConfig: 'local'};</script><script type=\"text/javascript\">if (window.MathJax) {MathJax.Hub.Config({SVG: {font: \"STIX-Web\"}});}</script><script>requirejs.config({paths: { 'plotly': ['https://cdn.plot.ly/plotly-latest.min']},});if(!window._Plotly) {require(['plotly'],function(plotly) {window._Plotly=plotly;});}</script>"
      ]
     },
     "metadata": {},
     "output_type": "display_data"
    },
    {
     "data": {
      "text/html": [
       "<script type=\"text/javascript\">window.PlotlyConfig = {MathJaxConfig: 'local'};</script><script type=\"text/javascript\">if (window.MathJax) {MathJax.Hub.Config({SVG: {font: \"STIX-Web\"}});}</script><script>requirejs.config({paths: { 'plotly': ['https://cdn.plot.ly/plotly-latest.min']},});if(!window._Plotly) {require(['plotly'],function(plotly) {window._Plotly=plotly;});}</script>"
      ],
      "text/vnd.plotly.v1+html": [
       "<script type=\"text/javascript\">window.PlotlyConfig = {MathJaxConfig: 'local'};</script><script type=\"text/javascript\">if (window.MathJax) {MathJax.Hub.Config({SVG: {font: \"STIX-Web\"}});}</script><script>requirejs.config({paths: { 'plotly': ['https://cdn.plot.ly/plotly-latest.min']},});if(!window._Plotly) {require(['plotly'],function(plotly) {window._Plotly=plotly;});}</script>"
      ]
     },
     "metadata": {},
     "output_type": "display_data"
    },
    {
     "name": "stdout",
     "output_type": "stream",
     "text": [
      "      id      gmv\n",
      "0   1201   987.84\n",
      "1  11290   413.93\n",
      "2  15984    84.20\n",
      "3  17467  1002.18\n",
      "4  28199  2079.77\n",
      "      id   ebay_gmv\n",
      "0  15984    4460.04\n",
      "1  17467  323037.01\n",
      "2  28199  146654.45\n",
      "3  28361   12500.47\n",
      "4  40906    1263.96\n"
     ]
    },
    {
     "data": {
      "text/plain": [
       "ebay_gmv         NaN\n",
       "gmv              NaN\n",
       "id          0.718927\n",
       "dtype: float64"
      ]
     },
     "execution_count": 87,
     "metadata": {},
     "output_type": "execute_result"
    }
   ],
   "source": [
    "import pandas as pd\n",
    "from matplotlib import pyplot as plt\n",
    "import matplotlib\n",
    "import numpy as np\n",
    "import seaborn as sns\n",
    "import cufflinks as cf\n",
    "\n",
    "import ipywidgets as widgets\n",
    "from ipywidgets import interact, interact_manual\n",
    "\n",
    "import plotly.plotly as py\n",
    "import plotly.graph_objs as go\n",
    "from plotly.offline import iplot, init_notebook_mode\n",
    "\n",
    "\n",
    "cf.go_offline(connected=True)\n",
    "init_notebook_mode(connected=True)\n",
    "\n",
    "df = pd.read_csv('parts_gmv.csv')\n",
    "ebay_parts_sales = pd.read_csv('ebay_parts_sales.csv')\n",
    "df.gmv = pd.to_numeric(df.gmv, errors='raise')\n",
    "df.gmv.quantile([.25, .5, .75])\n",
    "print(df.head())\n",
    "print(ebay_parts_sales.head())\n",
    "ebay_parts_sales.count()/df.count()"
   ]
  },
  {
   "cell_type": "code",
   "execution_count": 43,
   "metadata": {},
   "outputs": [
    {
     "name": "stdout",
     "output_type": "stream",
     "text": [
      "      id      gmv   ebay_gmv\n",
      "0   1201   987.84        NaN\n",
      "1  11290   413.93        NaN\n",
      "2  15984    84.20    4460.04\n",
      "3  17467  1002.18  323037.01\n",
      "4  28199  2079.77  146654.45\n"
     ]
    }
   ],
   "source": [
    "df = pd.merge(df, ebay_parts_sales, how='outer', on=['id'])\n",
    "print(df.head())"
   ]
  },
  {
   "cell_type": "code",
   "execution_count": 56,
   "metadata": {},
   "outputs": [
    {
     "name": "stdout",
     "output_type": "stream",
     "text": [
      "0.24147347740668018\n"
     ]
    },
    {
     "data": {
      "text/plain": [
       "count       708.000000\n",
       "mean       4483.894506\n",
       "std       11500.439601\n",
       "min           3.450000\n",
       "25%         223.932500\n",
       "50%         810.990000\n",
       "75%        3790.765000\n",
       "max      144424.830000\n",
       "Name: gmv, dtype: float64"
      ]
     },
     "execution_count": 56,
     "metadata": {},
     "output_type": "execute_result"
    }
   ],
   "source": [
    "df['percent_of_ebay'] = round(df.gmv/df.ebay_gmv,2)\n",
    "print(df.percent_of_ebay.mean())\n",
    "df.sort_values(['gmv'], ascending=False)\n",
    "\n"
   ]
  },
  {
   "cell_type": "code",
   "execution_count": 85,
   "metadata": {},
   "outputs": [
    {
     "data": {
      "text/plain": [
       "id                 509\n",
       "gmv                509\n",
       "ebay_gmv           310\n",
       "percent_of_ebay    310\n",
       "dtype: int64"
      ]
     },
     "execution_count": 85,
     "metadata": {},
     "output_type": "execute_result"
    }
   ],
   "source": [
    "df.count() - df.ebay_gmv.isna().sum()"
   ]
  },
  {
   "cell_type": "code",
   "execution_count": 60,
   "metadata": {},
   "outputs": [
    {
     "data": {
      "text/html": [
       "<div>\n",
       "<style scoped>\n",
       "    .dataframe tbody tr th:only-of-type {\n",
       "        vertical-align: middle;\n",
       "    }\n",
       "\n",
       "    .dataframe tbody tr th {\n",
       "        vertical-align: top;\n",
       "    }\n",
       "\n",
       "    .dataframe thead th {\n",
       "        text-align: right;\n",
       "    }\n",
       "</style>\n",
       "<table border=\"1\" class=\"dataframe\">\n",
       "  <thead>\n",
       "    <tr style=\"text-align: right;\">\n",
       "      <th></th>\n",
       "      <th>id</th>\n",
       "      <th>gmv</th>\n",
       "      <th>ebay_gmv</th>\n",
       "      <th>percent_of_ebay</th>\n",
       "    </tr>\n",
       "  </thead>\n",
       "  <tbody>\n",
       "    <tr>\n",
       "      <th>count</th>\n",
       "      <td>1.770000e+02</td>\n",
       "      <td>177.000000</td>\n",
       "      <td>1.390000e+02</td>\n",
       "      <td>139.000000</td>\n",
       "    </tr>\n",
       "    <tr>\n",
       "      <th>mean</th>\n",
       "      <td>1.812187e+07</td>\n",
       "      <td>15568.053051</td>\n",
       "      <td>5.044740e+05</td>\n",
       "      <td>0.225971</td>\n",
       "    </tr>\n",
       "    <tr>\n",
       "      <th>std</th>\n",
       "      <td>9.501584e+06</td>\n",
       "      <td>19084.459958</td>\n",
       "      <td>1.275475e+06</td>\n",
       "      <td>0.971971</td>\n",
       "    </tr>\n",
       "    <tr>\n",
       "      <th>min</th>\n",
       "      <td>8.819900e+04</td>\n",
       "      <td>3829.000000</td>\n",
       "      <td>4.187510e+03</td>\n",
       "      <td>0.000000</td>\n",
       "    </tr>\n",
       "    <tr>\n",
       "      <th>25%</th>\n",
       "      <td>9.975221e+06</td>\n",
       "      <td>5814.870000</td>\n",
       "      <td>6.602801e+04</td>\n",
       "      <td>0.025000</td>\n",
       "    </tr>\n",
       "    <tr>\n",
       "      <th>50%</th>\n",
       "      <td>1.897391e+07</td>\n",
       "      <td>8775.230000</td>\n",
       "      <td>2.487867e+05</td>\n",
       "      <td>0.050000</td>\n",
       "    </tr>\n",
       "    <tr>\n",
       "      <th>75%</th>\n",
       "      <td>2.633338e+07</td>\n",
       "      <td>17721.250000</td>\n",
       "      <td>4.792644e+05</td>\n",
       "      <td>0.140000</td>\n",
       "    </tr>\n",
       "    <tr>\n",
       "      <th>max</th>\n",
       "      <td>3.571445e+07</td>\n",
       "      <td>144424.830000</td>\n",
       "      <td>1.382979e+07</td>\n",
       "      <td>11.000000</td>\n",
       "    </tr>\n",
       "  </tbody>\n",
       "</table>\n",
       "</div>"
      ],
      "text/plain": [
       "                 id            gmv      ebay_gmv  percent_of_ebay\n",
       "count  1.770000e+02     177.000000  1.390000e+02       139.000000\n",
       "mean   1.812187e+07   15568.053051  5.044740e+05         0.225971\n",
       "std    9.501584e+06   19084.459958  1.275475e+06         0.971971\n",
       "min    8.819900e+04    3829.000000  4.187510e+03         0.000000\n",
       "25%    9.975221e+06    5814.870000  6.602801e+04         0.025000\n",
       "50%    1.897391e+07    8775.230000  2.487867e+05         0.050000\n",
       "75%    2.633338e+07   17721.250000  4.792644e+05         0.140000\n",
       "max    3.571445e+07  144424.830000  1.382979e+07        11.000000"
      ]
     },
     "execution_count": 60,
     "metadata": {},
     "output_type": "execute_result"
    }
   ],
   "source": [
    "top_25 = df[df.gmv > 3790]\n",
    "top_25.describe()"
   ]
  },
  {
   "cell_type": "code",
   "execution_count": 82,
   "metadata": {},
   "outputs": [
    {
     "name": "stderr",
     "output_type": "stream",
     "text": [
      "/Users/kevin/anaconda3/lib/python3.6/site-packages/scipy/stats/stats.py:1713: FutureWarning:\n",
      "\n",
      "Using a non-tuple sequence for multidimensional indexing is deprecated; use `arr[tuple(seq)]` instead of `arr[seq]`. In the future this will be interpreted as an array index, `arr[np.array(seq)]`, which will result either in an error or a different result.\n",
      "\n"
     ]
    },
    {
     "data": {
      "text/plain": [
       "(0, 20000)"
      ]
     },
     "execution_count": 82,
     "metadata": {},
     "output_type": "execute_result"
    },
    {
     "data": {
      "image/png": "[encoded data removed]",
      "text/plain": [
       "<Figure size 432x288 with 1 Axes>"
      ]
     },
     "metadata": {
      "needs_background": "light"
     },
     "output_type": "display_data"
    }
   ],
   "source": [
    "\n",
    "sns.distplot(df.gmv,bins=100, norm_hist=True)\n",
    "plt.ylim(0, None)\n",
    "plt.xlim(0, 20000)\n"
   ]
  },
  {
   "cell_type": "code",
   "execution_count": 64,
   "metadata": {},
   "outputs": [
    {
     "data": {
      "text/plain": [
       "count       708.0\n",
       "mean       4484.0\n",
       "std       11500.0\n",
       "min           3.0\n",
       "25%         224.0\n",
       "50%         811.0\n",
       "75%        3791.0\n",
       "max      144425.0\n",
       "Name: gmv, dtype: float64"
      ]
     },
     "execution_count": 64,
     "metadata": {},
     "output_type": "execute_result"
    }
   ],
   "source": [
    "round(df.gmv.describe())"
   ]
  },
  {
   "cell_type": "code",
   "execution_count": null,
   "metadata": {},
   "outputs": [],
   "source": []
  }
 ],
 "metadata": {
  "kernelspec": {
   "display_name": "Python 3",
   "language": "python",
   "name": "python3"
  },
  "language_info": {
   "codemirror_mode": {
    "name": "ipython",
    "version": 3
   },
   "file_extension": ".py",
   "mimetype": "text/x-python",
   "name": "python",
   "nbconvert_exporter": "python",
   "pygments_lexer": "ipython3",
   "version": "3.6.6"
  }
 },
 "nbformat": 4,
 "nbformat_minor": 2
}
