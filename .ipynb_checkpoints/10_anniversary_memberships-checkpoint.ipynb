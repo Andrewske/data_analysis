{
 "cells": [
  {
   "cell_type": "code",
   "execution_count": 1,
   "metadata": {},
   "outputs": [
    {
     "data": {
      "text/plain": [
       "Index(['paid_date', 'amount', 'subscription_term_length', 'is_first_payment',\n",
       "       'is_last_payment', 'membership_level'],\n",
       "      dtype='object')"
      ]
     },
     "execution_count": 1,
     "metadata": {},
     "output_type": "execute_result"
    }
   ],
   "source": [
    "import pandas as pd\n",
    "from matplotlib import pyplot as plt\n",
    "import matplotlib as mpl\n",
    "import numpy as np\n",
    "import seaborn as sns\n",
    "\n",
    "from scipy import stats\n",
    "\n",
    "df = pd.read_csv('june_18_memberships.csv')\n",
    "df['paid_date'] = pd.to_datetime(df.paid_date,infer_datetime_format=True)\n",
    "\n",
    "#Drop Columns\n",
    "columns_to_remove = ['id', 'user_id', 'type', 'state', 'free_trial']\n",
    "df.drop(columns_to_remove, axis=1, inplace=True)\n",
    "\n",
    "df.columns"
   ]
  },
  {
   "cell_type": "code",
   "execution_count": 2,
   "metadata": {},
   "outputs": [],
   "source": [
    "df_count = df.set_index('paid_date').groupby(pd.Grouper(freq='D')).count().reset_index()\n",
    "df_sum = df.set_index('paid_date').groupby(pd.Grouper(freq='D')).sum().reset_index()\n",
    "df_mean = df.set_index('paid_date').groupby(pd.Grouper(freq='D')).mean().reset_index()"
   ]
  },
  {
   "cell_type": "code",
   "execution_count": 3,
   "metadata": {},
   "outputs": [],
   "source": [
    "annual = df.loc[df.subscription_term_length == 12]\n",
    "annual_count = annual.set_index('paid_date').groupby(pd.Grouper(freq='D')).count().reset_index()['amount']\n",
    "annual_sum = annual.set_index('paid_date').groupby(pd.Grouper(freq='D')).sum().reset_index()['amount']\n",
    "monthly = df.loc[df.subscription_term_length == 1]\n",
    "monthly_count= monthly.set_index('paid_date').groupby(pd.Grouper(freq='D')).count().reset_index()['amount']\n",
    "monthly_sum= monthly.set_index('paid_date').groupby(pd.Grouper(freq='D')).sum().reset_index()['amount']"
   ]
  },
  {
   "cell_type": "code",
   "execution_count": 7,
   "metadata": {},
   "outputs": [
    {
     "data": {
      "image/png": "[encoded data removed]",
      "text/plain": [
       "<Figure size 1080x360 with 2 Axes>"
      ]
     },
     "metadata": {
      "needs_background": "light"
     },
     "output_type": "display_data"
    }
   ],
   "source": [
    "#How many of each membership level did we get during the month\n",
    "f, (ax1, ax2) = plt.subplots(1, 2, figsize=(15,5))\n",
    "\n",
    "f.suptitle('Memberships Per Level During June')\n",
    "\n",
    "barWidth = 1\n",
    "\n",
    "x = annual_count.index\n",
    "\n",
    "ax1.bar(x, annual_count, color='#7f6d5f', width=barWidth, edgecolor='white', label='Annual')\n",
    "ax1.bar(x, monthly_count, bottom=annual_count, color='#557f2d', width=barWidth, edgecolor='white', label='Monthly')\n",
    "\n",
    "ax2.bar(x, annual_sum, color='#7f6d5f', width=barWidth, edgecolor='white', label='Annual')\n",
    "ax2.bar(x, monthly_sum,bottom=annual_sum, color='#557f2d', width=barWidth, edgecolor='white', label='Monthly')\n",
    "\n",
    "ax1.set_ylabel('Count')\n",
    "ax2.set_ylabel('Revenue')\n",
    "ax1.tick_params(axis='y')\n",
    "ax2.tick_params(axis='y')\n",
    "\n",
    "\n",
    "ax1.legend()\n",
    "ax2.legend()\n",
    "plt.show()"
   ]
  },
  {
   "cell_type": "code",
   "execution_count": 8,
   "metadata": {},
   "outputs": [
    {
     "name": "stdout",
     "output_type": "stream",
     "text": [
      "Anniversary Week Stats:\n",
      "Total Memberships: 482\n",
      "Membership Revenue: $77,139.90\n",
      "\n",
      "Total Annual Memberships: 163\n",
      "Total Annual Revenue: $61,322.00\n",
      "\n",
      "Total Monthly Memberships: 319\n",
      "Total Monthly Revenue: $15,817.90\n",
      "\n"
     ]
    }
   ],
   "source": [
    "#Find Stats for just Anniversary Week\n",
    "anniversary_week = df.loc[(df['paid_date'] >= '2018-06-17') & (df['paid_date'] < '2018-06-24')]\n",
    "\n",
    "anniversary_week_count = anniversary_week.amount.count()\n",
    "anniversary_week_sum = anniversary_week.amount.sum()\n",
    "\n",
    "anniversary_annual_count = anniversary_week.amount[anniversary_week.subscription_term_length == 12].count()\n",
    "anniversary_annual_sum = anniversary_week.amount[anniversary_week.subscription_term_length == 12].sum()\n",
    "\n",
    "anniversary_monthly_count = anniversary_week.amount[anniversary_week.subscription_term_length == 1].count()\n",
    "anniversary_monthly_sum = anniversary_week.amount[anniversary_week.subscription_term_length == 1].sum()\n",
    "\n",
    "\n",
    "print('Anniversary Week Stats:\\n'\n",
    "     + 'Total Memberships: ' + str(anniversary_week_count) + '\\n'\n",
    "     + 'Membership Revenue: ' + str('${:,.2f}'.format(anniversary_week_sum)) + '\\n'\n",
    "     + '\\n' \n",
    "     + 'Total Annual Memberships: ' + str(anniversary_annual_count) + '\\n'\n",
    "     + 'Total Annual Revenue: ' + str('${:,.2f}'.format(anniversary_annual_sum)) + '\\n'\n",
    "     + '\\n'\n",
    "     + 'Total Monthly Memberships: ' + str(anniversary_monthly_count) + '\\n'\n",
    "     + 'Total Monthly Revenue: ' + str('${:,.2f}'.format(anniversary_monthly_sum)) + '\\n')"
   ]
  },
  {
   "cell_type": "code",
   "execution_count": 44,
   "metadata": {},
   "outputs": [
    {
     "data": {
      "text/html": [
       "<div>\n",
       "<style scoped>\n",
       "    .dataframe tbody tr th:only-of-type {\n",
       "        vertical-align: middle;\n",
       "    }\n",
       "\n",
       "    .dataframe tbody tr th {\n",
       "        vertical-align: top;\n",
       "    }\n",
       "\n",
       "    .dataframe thead th {\n",
       "        text-align: right;\n",
       "    }\n",
       "</style>\n",
       "<table border=\"1\" class=\"dataframe\">\n",
       "  <thead>\n",
       "    <tr style=\"text-align: right;\">\n",
       "      <th></th>\n",
       "      <th>paid_date</th>\n",
       "      <th>amount</th>\n",
       "    </tr>\n",
       "  </thead>\n",
       "  <tbody>\n",
       "    <tr>\n",
       "      <th>0</th>\n",
       "      <td>2018-06-01</td>\n",
       "      <td>3898.0</td>\n",
       "    </tr>\n",
       "    <tr>\n",
       "      <th>1</th>\n",
       "      <td>2018-06-02</td>\n",
       "      <td>7275.0</td>\n",
       "    </tr>\n",
       "    <tr>\n",
       "      <th>2</th>\n",
       "      <td>2018-06-03</td>\n",
       "      <td>2750.0</td>\n",
       "    </tr>\n",
       "    <tr>\n",
       "      <th>3</th>\n",
       "      <td>2018-06-04</td>\n",
       "      <td>9843.9</td>\n",
       "    </tr>\n",
       "    <tr>\n",
       "      <th>4</th>\n",
       "      <td>2018-06-05</td>\n",
       "      <td>3770.0</td>\n",
       "    </tr>\n",
       "  </tbody>\n",
       "</table>\n",
       "</div>"
      ],
      "text/plain": [
       "   paid_date  amount\n",
       "0 2018-06-01  3898.0\n",
       "1 2018-06-02  7275.0\n",
       "2 2018-06-03  2750.0\n",
       "3 2018-06-04  9843.9\n",
       "4 2018-06-05  3770.0"
      ]
     },
     "execution_count": 44,
     "metadata": {},
     "output_type": "execute_result"
    }
   ],
   "source": [
    "#Group By Day\n",
    "anniversary_week = anniversary_week.set_index('paid_date').groupby(pd.Grouper(freq='D')).mean().reset_index()\n",
    "date_amount = df.set_index('paid_date').groupby(pd.Grouper(freq='D')).count().reset_index()\n",
    "date_amount = date_amount[['paid_date','amount']]"
   ]
  },
  {
   "cell_type": "code",
   "execution_count": 52,
   "metadata": {},
   "outputs": [
    {
     "ename": "TypeError",
     "evalue": "ufunc subtract cannot use operands with types dtype('<M8[ns]') and dtype('float64')",
     "output_type": "error",
     "traceback": [
      "\u001b[0;31m---------------------------------------------------------------------------\u001b[0m",
      "\u001b[0;31mTypeError\u001b[0m                                 Traceback (most recent call last)",
      "\u001b[0;32m<ipython-input-52-a8f0386ea14d>\u001b[0m in \u001b[0;36m<module>\u001b[0;34m()\u001b[0m\n\u001b[0;32m----> 1\u001b[0;31m \u001b[0mplt\u001b[0m\u001b[0;34m.\u001b[0m\u001b[0mbar\u001b[0m\u001b[0;34m(\u001b[0m\u001b[0mdate_amount\u001b[0m\u001b[0;34m.\u001b[0m\u001b[0mpaid_date\u001b[0m\u001b[0;34m,\u001b[0m\u001b[0mdate_amount\u001b[0m\u001b[0;34m.\u001b[0m\u001b[0mamount\u001b[0m\u001b[0;34m)\u001b[0m\u001b[0;34m\u001b[0m\u001b[0m\n\u001b[0m\u001b[1;32m      2\u001b[0m \u001b[0mplt\u001b[0m\u001b[0;34m.\u001b[0m\u001b[0mshow\u001b[0m\u001b[0;34m(\u001b[0m\u001b[0;34m)\u001b[0m\u001b[0;34m\u001b[0m\u001b[0m\n",
      "\u001b[0;32m~/anaconda3/lib/python3.6/site-packages/matplotlib/pyplot.py\u001b[0m in \u001b[0;36mbar\u001b[0;34m(*args, **kwargs)\u001b[0m\n\u001b[1;32m   2773\u001b[0m                       mplDeprecation)\n\u001b[1;32m   2774\u001b[0m     \u001b[0;32mtry\u001b[0m\u001b[0;34m:\u001b[0m\u001b[0;34m\u001b[0m\u001b[0m\n\u001b[0;32m-> 2775\u001b[0;31m         \u001b[0mret\u001b[0m \u001b[0;34m=\u001b[0m \u001b[0max\u001b[0m\u001b[0;34m.\u001b[0m\u001b[0mbar\u001b[0m\u001b[0;34m(\u001b[0m\u001b[0;34m*\u001b[0m\u001b[0margs\u001b[0m\u001b[0;34m,\u001b[0m \u001b[0;34m**\u001b[0m\u001b[0mkwargs\u001b[0m\u001b[0;34m)\u001b[0m\u001b[0;34m\u001b[0m\u001b[0m\n\u001b[0m\u001b[1;32m   2776\u001b[0m     \u001b[0;32mfinally\u001b[0m\u001b[0;34m:\u001b[0m\u001b[0;34m\u001b[0m\u001b[0m\n\u001b[1;32m   2777\u001b[0m         \u001b[0max\u001b[0m\u001b[0;34m.\u001b[0m\u001b[0m_hold\u001b[0m \u001b[0;34m=\u001b[0m \u001b[0mwashold\u001b[0m\u001b[0;34m\u001b[0m\u001b[0m\n",
      "\u001b[0;32m~/anaconda3/lib/python3.6/site-packages/matplotlib/__init__.py\u001b[0m in \u001b[0;36minner\u001b[0;34m(ax, *args, **kwargs)\u001b[0m\n\u001b[1;32m   1865\u001b[0m                         \u001b[0;34m\"the Matplotlib list!)\"\u001b[0m \u001b[0;34m%\u001b[0m \u001b[0;34m(\u001b[0m\u001b[0mlabel_namer\u001b[0m\u001b[0;34m,\u001b[0m \u001b[0mfunc\u001b[0m\u001b[0;34m.\u001b[0m\u001b[0m__name__\u001b[0m\u001b[0;34m)\u001b[0m\u001b[0;34m,\u001b[0m\u001b[0;34m\u001b[0m\u001b[0m\n\u001b[1;32m   1866\u001b[0m                         RuntimeWarning, stacklevel=2)\n\u001b[0;32m-> 1867\u001b[0;31m             \u001b[0;32mreturn\u001b[0m \u001b[0mfunc\u001b[0m\u001b[0;34m(\u001b[0m\u001b[0max\u001b[0m\u001b[0;34m,\u001b[0m \u001b[0;34m*\u001b[0m\u001b[0margs\u001b[0m\u001b[0;34m,\u001b[0m \u001b[0;34m**\u001b[0m\u001b[0mkwargs\u001b[0m\u001b[0;34m)\u001b[0m\u001b[0;34m\u001b[0m\u001b[0m\n\u001b[0m\u001b[1;32m   1868\u001b[0m \u001b[0;34m\u001b[0m\u001b[0m\n\u001b[1;32m   1869\u001b[0m         inner.__doc__ = _add_data_doc(inner.__doc__,\n",
      "\u001b[0;32m~/anaconda3/lib/python3.6/site-packages/matplotlib/axes/_axes.py\u001b[0m in \u001b[0;36mbar\u001b[0;34m(self, *args, **kwargs)\u001b[0m\n\u001b[1;32m   2262\u001b[0m         \u001b[0;32mif\u001b[0m \u001b[0malign\u001b[0m \u001b[0;34m==\u001b[0m \u001b[0;34m'center'\u001b[0m\u001b[0;34m:\u001b[0m\u001b[0;34m\u001b[0m\u001b[0m\n\u001b[1;32m   2263\u001b[0m             \u001b[0;32mif\u001b[0m \u001b[0morientation\u001b[0m \u001b[0;34m==\u001b[0m \u001b[0;34m'vertical'\u001b[0m\u001b[0;34m:\u001b[0m\u001b[0;34m\u001b[0m\u001b[0m\n\u001b[0;32m-> 2264\u001b[0;31m                 \u001b[0mleft\u001b[0m \u001b[0;34m=\u001b[0m \u001b[0mx\u001b[0m \u001b[0;34m-\u001b[0m \u001b[0mwidth\u001b[0m \u001b[0;34m/\u001b[0m \u001b[0;36m2\u001b[0m\u001b[0;34m\u001b[0m\u001b[0m\n\u001b[0m\u001b[1;32m   2265\u001b[0m                 \u001b[0mbottom\u001b[0m \u001b[0;34m=\u001b[0m \u001b[0my\u001b[0m\u001b[0;34m\u001b[0m\u001b[0m\n\u001b[1;32m   2266\u001b[0m             \u001b[0;32melif\u001b[0m \u001b[0morientation\u001b[0m \u001b[0;34m==\u001b[0m \u001b[0;34m'horizontal'\u001b[0m\u001b[0;34m:\u001b[0m\u001b[0;34m\u001b[0m\u001b[0m\n",
      "\u001b[0;31mTypeError\u001b[0m: ufunc subtract cannot use operands with types dtype('<M8[ns]') and dtype('float64')"
     ]
    },
    {
     "data": {
      "image/png": "[encoded data removed]",
      "text/plain": [
       "<Figure size 432x288 with 1 Axes>"
      ]
     },
     "metadata": {
      "needs_background": "light"
     },
     "output_type": "display_data"
    }
   ],
   "source": [
    "plt.bar(date_amount.paid_date,date_amount.amount)\n",
    "plt.show()"
   ]
  },
  {
   "cell_type": "code",
   "execution_count": null,
   "metadata": {},
   "outputs": [],
   "source": []
  }
 ],
 "metadata": {
  "kernelspec": {
   "display_name": "Python 3",
   "language": "python",
   "name": "python3"
  },
  "language_info": {
   "codemirror_mode": {
    "name": "ipython",
    "version": 3
   },
   "file_extension": ".py",
   "mimetype": "text/x-python",
   "name": "python",
   "nbconvert_exporter": "python",
   "pygments_lexer": "ipython3",
   "version": "3.6.6"
  }
 },
 "nbformat": 4,
 "nbformat_minor": 2
}
