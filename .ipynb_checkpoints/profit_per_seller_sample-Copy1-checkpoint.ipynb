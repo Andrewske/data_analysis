{
 "cells": [
  {
   "cell_type": "code",
   "execution_count": 1,
   "metadata": {},
   "outputs": [],
   "source": [
    "import os\n",
    "import pandas as pd\n",
    "from matplotlib import pyplot as plt\n",
    "import numpy as np\n",
    "import seaborn as sns\n",
    "import cufflinks as cf\n",
    "\n",
    "import plotly.plotly as py\n",
    "import plotly.tools as tls\n",
    "import plotly.graph_objs as go\n",
    "import plotly.offline as po\n",
    "\n",
    "orig_df = pd.read_csv(\"winning_booths_data.csv\")\n",
    "\n",
    "top_categories = ['No Category', 'Fashion', 'Home & Garden', 'Health & Beauty', 'Parts & Accessories', 'Jewelry & Watches']\n",
    "df = orig_df[orig_df.featured_category_id.isin(top_categories)]\n"
   ]
  },
  {
   "cell_type": "code",
   "execution_count": 2,
   "metadata": {},
   "outputs": [],
   "source": [
    "no_category = df[df.featured_category_id == 'No Category']\n",
    "fashion = df[df.featured_category_id == 'Fashion']\n",
    "home_garden = df[df.featured_category_id == 'Home & Garden']\n",
    "health_beauty = df[df.featured_category_id == 'Health & Beauty']\n",
    "parts_accessories = df[df.featured_category_id == 'Parts & Accessories']\n",
    "jewelry_watches = df[df.featured_category_id == 'Jewelry & Watches']\n",
    "categories = [no_category, fashion, home_garden, health_beauty, parts_accessories, jewelry_watches]"
   ]
  },
  {
   "cell_type": "code",
   "execution_count": 3,
   "metadata": {},
   "outputs": [],
   "source": [
    "size = len(df)\n",
    "for category in categories:\n",
    "    if len(category) < size:\n",
    "        size = len(category)"
   ]
  },
  {
   "cell_type": "code",
   "execution_count": 4,
   "metadata": {},
   "outputs": [],
   "source": [
    "no_category = no_category.sample(size)\n",
    "fashion = fashion.sample(size)\n",
    "home_garden = home_garden.sample(size)\n",
    "health_beauty = health_beauty.sample(size)\n",
    "parts_accessories = parts_accessories.sample(size)\n",
    "jewelry_watches = jewelry_watches.sample(size)"
   ]
  },
  {
   "cell_type": "code",
   "execution_count": 15,
   "metadata": {},
   "outputs": [
    {
     "name": "stdout",
     "output_type": "stream",
     "text": [
      "featured_category_id\n",
      "Jewelry & Watches    851.22488\n",
      "Name: profit_estimate, dtype: float64\n"
     ]
    }
   ],
   "source": [
    "no_category = no_category.groupby(['featured_category_id']).mean()\n",
    "fashion = fashion.groupby(['featured_category_id']).mean()\n",
    "home_garden = home_garden.groupby(['featured_category_id']).mean()\n",
    "health_beauty = health_beauty.groupby(['featured_category_id']).mean()\n",
    "parts_accessories = parts_accessories.groupby(['featured_category_id']).mean()\n",
    "jewelry_watches = jewelry_watches.groupby(['featured_category_id']).mean()\n"
   ]
  },
  {
   "cell_type": "code",
   "execution_count": 16,
   "metadata": {},
   "outputs": [],
   "source": [
    "trace0 = go.Bar(\n",
    "    x = no_category.index,\n",
    "    y = no_category.profit_estimate,\n",
    "    name='No Category',\n",
    "    opacity =.5\n",
    ")\n",
    "\n",
    "trace1 = go.Bar(\n",
    "    x = fashion.index,\n",
    "    y = fashion.profit_estimate,\n",
    "    name='Fashion',\n",
    "    opacity =.5\n",
    ")\n",
    "\n",
    "trace2 = go.Bar(\n",
    "    x = home_garden.index,\n",
    "    y = home_garden.profit_estimate,\n",
    "    name='Home & Garden',\n",
    "    opacity =.5\n",
    ")\n",
    "\n",
    "trace3 = go.Bar(\n",
    "    x = health_beauty.index,\n",
    "    y = health_beauty.profit_estimate,\n",
    "    name='Health & Beauty',\n",
    "    opacity =.5\n",
    ")\n",
    "\n",
    "trace4 = go.Bar(\n",
    "    x = parts_accessories.index,\n",
    "    y = parts_accessories.profit_estimate,\n",
    "    name='Parts & Accessories',\n",
    "    opacity =.5\n",
    ")\n",
    "\n",
    "trace5 = go.Bar(\n",
    "    x = jewelry_watches.index,\n",
    "    y = jewelry_watches.profit_estimate,\n",
    "    name='Jewelry & Watches',\n",
    "    opacity =.5\n",
    ")"
   ]
  },
  {
   "cell_type": "code",
   "execution_count": 17,
   "metadata": {},
   "outputs": [],
   "source": [
    "data = [trace0, trace1, trace2, trace3, trace4, trace5]\n",
    "\n",
    "layout = go.Layout(barmode='group',title = 'Profit By Category')\n"
   ]
  },
  {
   "cell_type": "code",
   "execution_count": 18,
   "metadata": {},
   "outputs": [],
   "source": [
    "figure = go.Figure(data=data, layout = layout)"
   ]
  },
  {
   "cell_type": "code",
   "execution_count": 19,
   "metadata": {},
   "outputs": [
    {
     "data": {
      "text/html": [
       "<iframe id=\"igraph\" scrolling=\"no\" style=\"border:none;\" seamless=\"seamless\" src=\"https://plot.ly/~kevinbigfoot/42.embed\" height=\"525px\" width=\"100%\"></iframe>"
      ],
      "text/plain": [
       "<plotly.tools.PlotlyDisplay object>"
      ]
     },
     "execution_count": 19,
     "metadata": {},
     "output_type": "execute_result"
    }
   ],
   "source": [
    "py.iplot(figure)"
   ]
  },
  {
   "cell_type": "code",
   "execution_count": 15,
   "metadata": {},
   "outputs": [
    {
     "name": "stdout",
     "output_type": "stream",
     "text": [
      "Help on function plot in module plotly.offline.offline:\n",
      "\n",
      "plot(figure_or_data, show_link=False, link_text='Export to plot.ly', validate=True, output_type='file', include_plotlyjs=True, filename='temp-plot.html', auto_open=True, image=None, image_filename='plot_image', image_width=800, image_height=600, config=None, include_mathjax=False)\n",
      "    Create a plotly graph locally as an HTML document or string.\n",
      "    \n",
      "    Example:\n",
      "    ```\n",
      "    from plotly.offline import plot\n",
      "    import plotly.graph_objs as go\n",
      "    \n",
      "    plot([go.Scatter(x=[1, 2, 3], y=[3, 2, 6])], filename='my-graph.html')\n",
      "    # We can also download an image of the plot by setting the image parameter\n",
      "    # to the image format we want\n",
      "    plot([go.Scatter(x=[1, 2, 3], y=[3, 2, 6])], filename='my-graph.html'\n",
      "         image='jpeg')\n",
      "    ```\n",
      "    More examples below.\n",
      "    \n",
      "    figure_or_data -- a plotly.graph_objs.Figure or plotly.graph_objs.Data or\n",
      "                      dict or list that describes a Plotly graph.\n",
      "                      See https://plot.ly/python/ for examples of\n",
      "                      graph descriptions.\n",
      "    \n",
      "    Keyword arguments:\n",
      "    show_link (default=False) -- display a link in the bottom-right corner of\n",
      "        of the chart that will export the chart to Plotly Cloud or\n",
      "        Plotly Enterprise\n",
      "    link_text (default='Export to plot.ly') -- the text of export link\n",
      "    validate (default=True) -- validate that all of the keys in the figure\n",
      "        are valid? omit if your version of plotly.js has become outdated\n",
      "        with your version of graph_reference.json or if you need to include\n",
      "        extra, unnecessary keys in your figure.\n",
      "    output_type ('file' | 'div' - default 'file') -- if 'file', then\n",
      "        the graph is saved as a standalone HTML file and `plot`\n",
      "        returns None.\n",
      "        If 'div', then `plot` returns a string that just contains the\n",
      "        HTML <div> that contains the graph and the script to generate the\n",
      "        graph.\n",
      "        Use 'file' if you want to save and view a single graph at a time\n",
      "        in a standalone HTML file.\n",
      "        Use 'div' if you are embedding these graphs in an HTML file with\n",
      "        other graphs or HTML markup, like a HTML report or an website.\n",
      "    include_plotlyjs (True | False | 'cdn' | 'directory' | path - default=True)\n",
      "        Specifies how the plotly.js library is included in the output html\n",
      "        file or div string.\n",
      "    \n",
      "        If True, a script tag containing the plotly.js source code (~3MB)\n",
      "        is included in the output.  HTML files generated with this option are\n",
      "        fully self-contained and can be used offline.\n",
      "    \n",
      "        If 'cdn', a script tag that references the plotly.js CDN is included\n",
      "        in the output. HTML files generated with this option are about 3MB\n",
      "        smaller than those generated with include_plotlyjs=True, but they\n",
      "        require an active internet connection in order to load the plotly.js\n",
      "        library.\n",
      "    \n",
      "        If 'directory', a script tag is included that references an external\n",
      "        plotly.min.js bundle that is assumed to reside in the same\n",
      "        directory as the HTML file.  If output_type='file' then the\n",
      "        plotly.min.js bundle is copied into the directory of the resulting\n",
      "        HTML file. If a file named plotly.min.js already exists in the output\n",
      "        directory then this file is left unmodified and no copy is performed.\n",
      "        HTML files generated with this option can be used offline, but they\n",
      "        require a copy of the plotly.min.js bundle in the same directory.\n",
      "        This option is useful when many figures will be saved as HTML files in\n",
      "        the same directory because the plotly.js source code will be included\n",
      "        only once per output directory, rather than once per output file.\n",
      "    \n",
      "        If a string that ends in '.js', a script tag is included that\n",
      "        references the specified path. This approach can be used to point\n",
      "        the resulting HTML file to an alternative CDN.\n",
      "    \n",
      "        If False, no script tag referencing plotly.js is included. This is\n",
      "        useful when output_type='div' and the resulting div string will be\n",
      "        placed inside an HTML document that already loads plotly.js.  This\n",
      "        option is not advised when output_type='file' as it will result in\n",
      "        a non-functional html file.\n",
      "    filename (default='temp-plot.html') -- The local filename to save the\n",
      "        outputted chart to. If the filename already exists, it will be\n",
      "        overwritten. This argument only applies if `output_type` is 'file'.\n",
      "    auto_open (default=True) -- If True, open the saved file in a\n",
      "        web browser after saving.\n",
      "        This argument only applies if `output_type` is 'file'.\n",
      "    image (default=None |'png' |'jpeg' |'svg' |'webp') -- This parameter sets\n",
      "        the format of the image to be downloaded, if we choose to download an\n",
      "        image. This parameter has a default value of None indicating that no\n",
      "        image should be downloaded. Please note: for higher resolution images\n",
      "        and more export options, consider making requests to our image servers.\n",
      "        Type: `help(py.image)` for more details.\n",
      "    image_filename (default='plot_image') -- Sets the name of the file your\n",
      "        image will be saved to. The extension should not be included.\n",
      "    image_height (default=600) -- Specifies the height of the image in `px`.\n",
      "    image_width (default=800) -- Specifies the width of the image in `px`.\n",
      "    config (default=None) -- Plot view options dictionary. Keyword arguments\n",
      "        `show_link` and `link_text` set the associated options in this\n",
      "        dictionary if it doesn't contain them already.\n",
      "    include_mathjax (False | 'cdn' | path - default=False) --\n",
      "        Specifies how the MathJax.js library is included in the output html\n",
      "        file or div string.  MathJax is required in order to display labels\n",
      "        with LaTeX typesetting.\n",
      "    \n",
      "        If False, no script tag referencing MathJax.js will be included in the\n",
      "        output. HTML files generated with this option will not be able to\n",
      "        display LaTeX typesetting.\n",
      "    \n",
      "        If 'cdn', a script tag that references a MathJax CDN location will be\n",
      "        included in the output.  HTML files generated with this option will be\n",
      "        able to display LaTeX typesetting as long as they have internet access.\n",
      "    \n",
      "        If a string that ends in '.js', a script tag is included that\n",
      "        references the specified path. This approach can be used to point the\n",
      "        resulting HTML file to an alternative CDN.\n",
      "\n"
     ]
    }
   ],
   "source": [
    "\n"
   ]
  },
  {
   "cell_type": "code",
   "execution_count": null,
   "metadata": {},
   "outputs": [],
   "source": []
  }
 ],
 "metadata": {
  "kernelspec": {
   "display_name": "Python 3",
   "language": "python",
   "name": "python3"
  },
  "language_info": {
   "codemirror_mode": {
    "name": "ipython",
    "version": 3
   },
   "file_extension": ".py",
   "mimetype": "text/x-python",
   "name": "python",
   "nbconvert_exporter": "python",
   "pygments_lexer": "ipython3",
   "version": "3.6.4"
  }
 },
 "nbformat": 4,
 "nbformat_minor": 2
}
