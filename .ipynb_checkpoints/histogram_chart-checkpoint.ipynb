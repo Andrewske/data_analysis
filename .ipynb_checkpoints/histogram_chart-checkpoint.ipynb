{
 "cells": [
  {
   "cell_type": "code",
   "execution_count": 1,
   "metadata": {},
   "outputs": [],
   "source": [
    "import os\n",
    "import pandas as pd\n",
    "from matplotlib import pyplot as plt\n",
    "import numpy as np\n",
    "import seaborn as sns\n",
    "import cufflinks as cf\n",
    "\n",
    "import plotly.plotly as py\n",
    "import plotly.tools as tls\n",
    "import plotly.graph_objs as go\n",
    "import plotly.offline as po\n",
    "\n",
    "orig_df = pd.read_csv(\"winning_booths_data.csv\")\n",
    "\n",
    "top_categories = ['No Category', 'Fashion', 'Home & Garden', 'Health & Beauty', 'Parts & Accessories', 'Jewelry & Watches']\n",
    "df = orig_df[orig_df.featured_category_id.isin(top_categories)]"
   ]
  },
  {
   "cell_type": "code",
   "execution_count": 2,
   "metadata": {},
   "outputs": [],
   "source": [
    "tls.set_credentials_file(username='kevinbigfoot',api_key='fC6dwyjUkFPLiUxzMkw8')"
   ]
  },
  {
   "cell_type": "code",
   "execution_count": 3,
   "metadata": {},
   "outputs": [],
   "source": [
    "whale = df[df.value_em == 'WHALE']\n",
    "minnow = df[df.value_em == 'MINNOW']\n",
    "sea_bass = df[df.value_em == 'SEA_BASS']\n",
    "dolphin = df[df.value_em == 'DOLPHIN']"
   ]
  },
  {
   "cell_type": "code",
   "execution_count": 4,
   "metadata": {},
   "outputs": [],
   "source": [
    "whale_mean = pd.pivot_table(whale, values=[\"profit_estimate\"], index=[\"featured_category_id\"])\n",
    "dolphin_mean = pd.pivot_table(dolphin, values=[\"profit_estimate\"], index=[\"featured_category_id\"])\n",
    "sea_bass_mean = pd.pivot_table(sea_bass, values=[\"profit_estimate\"], index=[\"featured_category_id\"])\n",
    "minnow_mean = pd.pivot_table(minnow, values=[\"profit_estimate\"], index=[\"featured_category_id\"])"
   ]
  },
  {
   "cell_type": "code",
   "execution_count": 50,
   "metadata": {},
   "outputs": [],
   "source": [
    "trace0 = go.Bar(\n",
    "    x = whale_mean.index,\n",
    "    y = whale_mean.values,\n",
    "    name='whale'\n",
    ")\n",
    "trace1 = go.Bar(\n",
    "    x = dolphin_mean.index,\n",
    "    y = dolphin_mean.values,\n",
    "    name='dolphin'\n",
    ")\n",
    "trace2 = go.Bar(\n",
    "    x = sea_bass_mean.index,\n",
    "    y = sea_bass_mean.values,\n",
    "    name='sea_bass'\n",
    ")\n",
    "trace3 = go.Bar(\n",
    "    x = minnow_mean.index,\n",
    "    y = minnow_mean.values,\n",
    "    name='minnow'\n",
    ")\n",
    "\n",
    "\n"
   ]
  },
  {
   "cell_type": "code",
   "execution_count": 51,
   "metadata": {},
   "outputs": [],
   "source": [
    "data = [trace0,trace1,trace2,trace3]\n",
    "\n",
    "layout = go.Layout(title = 'profit/category', barmode='stack')\n",
    "fig = go.Figure(data = data, layout = layout)"
   ]
  },
  {
   "cell_type": "code",
   "execution_count": 52,
   "metadata": {},
   "outputs": [
    {
     "data": {
      "text/plain": [
       "'https://plot.ly/~kevinbigfoot/30'"
      ]
     },
     "execution_count": 52,
     "metadata": {},
     "output_type": "execute_result"
    }
   ],
   "source": [
    "py.plot(fig)"
   ]
  },
  {
   "cell_type": "code",
   "execution_count": null,
   "metadata": {},
   "outputs": [],
   "source": []
  }
 ],
 "metadata": {
  "kernelspec": {
   "display_name": "Python 3",
   "language": "python",
   "name": "python3"
  },
  "language_info": {
   "codemirror_mode": {
    "name": "ipython",
    "version": 3
   },
   "file_extension": ".py",
   "mimetype": "text/x-python",
   "name": "python",
   "nbconvert_exporter": "python",
   "pygments_lexer": "ipython3",
   "version": "3.6.4"
  }
 },
 "nbformat": 4,
 "nbformat_minor": 2
}
