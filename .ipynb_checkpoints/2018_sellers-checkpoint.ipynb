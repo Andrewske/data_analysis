{
 "cells": [
  {
   "cell_type": "code",
   "execution_count": 11,
   "metadata": {},
   "outputs": [],
   "source": [
    "import pandas as pd\n",
    "import numpy as np\n"
   ]
  },
  {
   "cell_type": "markdown",
   "metadata": {},
   "source": [
    "Collect a sample of sellers who created their account in 2018:\n",
    "    - booth_ids_2018 = Booth.where(\"created_at >= ? and created_at < ?\", '2018-01-01', '2019-01-01').limit(10000).order(\"RAND()\").pluck(:id)\n",
    "    - booths_2018_samp1 = Booth.select(\"id, seller_id, created_at, committed, canceled\").where(id: booth_ids_2018).group(1).all\n",
    "    - RecordExporter.export_to_csv(booths_2018_samp1, to: \"bonanzakevin\", title: \"booths_2018_samp1\")\n"
   ]
  },
  {
   "cell_type": "code",
   "execution_count": 42,
   "metadata": {},
   "outputs": [
    {
     "data": {
      "text/plain": [
       "id                       int64\n",
       "seller_id                int64\n",
       "committed                 bool\n",
       "canceled                object\n",
       "created_at              object\n",
       "last_signup_step_em    float64\n",
       "dtype: object"
      ]
     },
     "execution_count": 42,
     "metadata": {},
     "output_type": "execute_result"
    }
   ],
   "source": [
    "df = pd.read_csv('booths_2018_samp1.csv')\n",
    "df.dtypes"
   ]
  },
  {
   "cell_type": "code",
   "execution_count": 24,
   "metadata": {},
   "outputs": [
    {
     "name": "stdout",
     "output_type": "stream",
     "text": [
      "           id  seller_id  committed canceled      created_at\n",
      "0     4026715   29903174      False      NaN     1/1/18 0:02\n",
      "1     4026799   29903694      False      NaN     1/1/18 1:04\n",
      "2     4026813   29903828      False      NaN     1/1/18 1:21\n",
      "3     4026882   29904283      False      NaN     1/1/18 2:25\n",
      "4     4026971   29904926      False      NaN     1/1/18 3:56\n",
      "5     4027018   29905180      False      NaN     1/1/18 4:28\n",
      "6     4027065   29905473      False      NaN     1/1/18 5:01\n",
      "7     4027094   29905674      False      NaN     1/1/18 5:24\n",
      "8     4027120   29905875      False      NaN     1/1/18 5:46\n",
      "9     4027165   29906130      False      NaN     1/1/18 6:14\n",
      "10    4027230   29906568      False      NaN     1/1/18 6:57\n",
      "11    4027329   29907378      False      NaN     1/1/18 8:04\n",
      "12    4027333   29907394      False      NaN     1/1/18 8:05\n",
      "13    4027429   29908223      False      NaN     1/1/18 9:08\n",
      "14    4027483   29908576      False      NaN     1/1/18 9:34\n",
      "15    4027579   29909274      False      NaN    1/1/18 10:24\n",
      "16    4027590   29909331      False      NaN    1/1/18 10:28\n",
      "17    4027634   29909607      False      NaN    1/1/18 10:47\n",
      "18    4027778   29910740      False      NaN    1/1/18 12:02\n",
      "19    4027781   29910772      False      NaN    1/1/18 12:04\n",
      "20    4027827   29911186      False      NaN    1/1/18 12:32\n",
      "21    4027856   29911358      False      NaN    1/1/18 12:42\n",
      "22    4027973   29912178      False      NaN    1/1/18 13:36\n",
      "23    4028101   29913252      False      NaN    1/1/18 14:50\n",
      "24    4028102   29913254      False      NaN    1/1/18 14:50\n",
      "25    4028167   29913797      False      NaN    1/1/18 15:27\n",
      "26    4028205   29914134      False      NaN    1/1/18 15:53\n",
      "27    4028215   29914192      False      NaN    1/1/18 15:57\n",
      "28    4028266   29914640      False      NaN    1/1/18 16:30\n",
      "29    4028302   29914868      False      NaN    1/1/18 16:46\n",
      "...       ...        ...        ...      ...             ...\n",
      "9969  4766477   36667426      False      NaN  12/30/18 19:08\n",
      "9970  4766536   36667866      False      NaN  12/30/18 19:41\n",
      "9971  4766611   36668551      False      NaN  12/30/18 20:33\n",
      "9972  4766681   36669218      False      NaN  12/30/18 21:28\n",
      "9973  4766693   36669288      False      NaN  12/30/18 21:35\n",
      "9975  4766844   36670502      False      NaN  12/30/18 23:25\n",
      "9976  4766865   36670628      False      NaN  12/30/18 23:37\n",
      "9977  4767122   36673115      False      NaN   12/31/18 4:10\n",
      "9978  4767167   36673639      False      NaN   12/31/18 4:59\n",
      "9979  4767180   36673804      False      NaN   12/31/18 5:13\n",
      "9980  4767261   36674425      False      NaN   12/31/18 6:07\n",
      "9981  4767339   36675245      False      NaN   12/31/18 7:19\n",
      "9982  4767377   36643439      False      NaN   12/31/18 7:57\n",
      "9983  4767427   36676267      False      NaN   12/31/18 8:39\n",
      "9984  4767475   36676805      False      NaN   12/31/18 9:25\n",
      "9985  4767538   36677467      False      NaN  12/31/18 10:16\n",
      "9986  4767714   36679188      False      NaN  12/31/18 12:56\n",
      "9987  4767798   36679879      False      NaN  12/31/18 14:05\n",
      "9988  4767805   36679932      False      NaN  12/31/18 14:10\n",
      "9989  4767828   36680106      False      NaN  12/31/18 14:27\n",
      "9990  4767848   36680316      False      NaN  12/31/18 14:49\n",
      "9991  4767862   36680455      False      NaN  12/31/18 15:03\n",
      "9992  4767945   36681148      False      NaN  12/31/18 16:20\n",
      "9993  4768097   36682492      False      NaN  12/31/18 18:53\n",
      "9994  4768138   36682848      False      NaN  12/31/18 19:32\n",
      "9995  4768183   36683281      False      NaN  12/31/18 20:20\n",
      "9996  4768187   36683325      False      NaN  12/31/18 20:24\n",
      "9997  4768193   36683401      False      NaN  12/31/18 20:32\n",
      "9998  4768202   34289645      False      NaN  12/31/18 20:39\n",
      "9999  4768234   36683697      False      NaN  12/31/18 21:05\n",
      "\n",
      "[9750 rows x 5 columns]\n"
     ]
    }
   ],
   "source": [
    "committed = df[df.committed==True]\n",
    "committed = df[df.committed==False]\n",
    "print(committed)"
   ]
  },
  {
   "cell_type": "code",
   "execution_count": 40,
   "metadata": {},
   "outputs": [],
   "source": [
    "signup_step_em = { 6.0 : 'SIGNUP_STEP_GRAND_OPENING',\n",
    "                  10.0 : 'SIGNUP_STEP_ADD_ITEMS',\n",
    "                  12.0 : 'SIGNUP_STEP_IMPLORE_IMPORT', \n",
    "                  15.0 : 'SIGNUP_STEP_IMPORT_SETUP',\n",
    "                  18.0 : 'SIGNUP_STEP_FRAUD_QUEUE', \n",
    "                  20.0 : 'SIGNUP_STEP_SETUP_SELLER_ACCOUNT', \n",
    "                  25.0 : 'SIGNUP_STEP_SETUP_SELLER_PAYMENT', \n",
    "                  30.0 : 'SIGNUP_STEP_VERIFY_SELLER_ACCOUNT', \n",
    "                  40.0 : 'SIGNUP_STEP_VERIFY_PHONE', \n",
    "                  50.0 : 'SIGNUP_FINAL_SUMMARY',\n",
    "                  55.0 : 'SIGNUP_COMPLETE_PENDING_REGISTRATION',\n",
    "                  60.0 : 'SIGNUP_COMPLETE'\n",
    "                 }\n",
    "\n"
   ]
  },
  {
   "cell_type": "code",
   "execution_count": 46,
   "metadata": {},
   "outputs": [
    {
     "name": "stdout",
     "output_type": "stream",
     "text": [
      "        id  seller_id  committed canceled   created_at  last_signup_step_em\n",
      "0  4026799   29903694      False      NaN  1/1/18 1:04                  6.0\n",
      "1  4026813   29903828      False      NaN  1/1/18 1:21                  6.0\n",
      "2  4026882   29904283      False      NaN  1/1/18 2:25                  6.0\n",
      "3  4026971   29904926      False      NaN  1/1/18 3:56                  6.0\n",
      "4  4027018   29905180      False      NaN  1/1/18 4:28                 10.0\n"
     ]
    }
   ],
   "source": [
    "for key, value in signup_step_em.items():\n",
    "    df['last_signup_step_em'].replace(key, value=value, inplace=True)\n",
    "        \n",
    "\n",
    "print(df.head())"
   ]
  },
  {
   "cell_type": "markdown",
   "metadata": {},
   "source": [
    "last_signup_step_em = BoothExtendedInfo.where(id:booth_ids_2018_samp1.flatten).select(\"id, last_signup_step_em\").all\n"
   ]
  },
  {
   "cell_type": "code",
   "execution_count": 38,
   "metadata": {},
   "outputs": [
    {
     "name": "stdout",
     "output_type": "stream",
     "text": [
      "                       id  seller_id  committed  canceled  created_at\n",
      "last_signup_step_em                                                  \n",
      "6.0                  3598       3598       3598       221        3598\n",
      "10.0                  579        579        579        35         579\n",
      "12.0                 1508       1508       1508        87        1508\n",
      "15.0                   33         33         33         5          33\n",
      "20.0                 2175       2175       2175        78        2175\n",
      "25.0                  169        169        169        11         169\n",
      "30.0                  101        101        101         6         101\n",
      "40.0                    1          1          1         0           1\n",
      "50.0                  281        281        281        18         281\n",
      "55.0                   33         33         33         4          33\n",
      "60.0                  794        794        794        37         794\n"
     ]
    }
   ],
   "source": [
    "last_signup_step = df.groupby('last_signup_step_em').count()\n",
    "last_signup_step.rename(signup_step_em, inplace = True)\n",
    "\n"
   ]
  },
  {
   "cell_type": "code",
   "execution_count": null,
   "metadata": {},
   "outputs": [],
   "source": []
  }
 ],
 "metadata": {
  "kernelspec": {
   "display_name": "Python 3",
   "language": "python",
   "name": "python3"
  },
  "language_info": {
   "codemirror_mode": {
    "name": "ipython",
    "version": 3
   },
   "file_extension": ".py",
   "mimetype": "text/x-python",
   "name": "python",
   "nbconvert_exporter": "python",
   "pygments_lexer": "ipython3",
   "version": "3.6.4"
  }
 },
 "nbformat": 4,
 "nbformat_minor": 2
}
