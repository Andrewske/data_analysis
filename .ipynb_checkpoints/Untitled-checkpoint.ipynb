{
 "cells": [
  {
   "cell_type": "code",
   "execution_count": 54,
   "metadata": {},
   "outputs": [],
   "source": [
    "import pandas as pd\n",
    "import numpy as np\n",
    "import plotly_express as px\n",
    "df = pd.read_csv(\"../csv/Apr 19/six_month_seller_full.csv\")\n",
    "\n",
    "df.entry_source_em.unique()\n",
    "df.initial_booth_activation = pd.to_datetime(df.initial_booth_activation,format=\"%Y/%m/%d\", infer_datetime_format=True)\n",
    "df.index = df.initial_booth_activation"
   ]
  },
  {
   "cell_type": "code",
   "execution_count": 50,
   "metadata": {},
   "outputs": [],
   "source": [
    "\n",
    "october = df[(df.initial_booth_activation >= '2018-10-01') & (df.initial_booth_activation < '2018-11-01')]\n",
    "november = df[(df.initial_booth_activation >= '2018-11-01') & (df.initial_booth_activation < '2018-12-01')]\n",
    "december = df[(df.initial_booth_activation >= '2018-12-01') & (df.initial_booth_activation < '2019-01-01')]\n",
    "january = df[(df.initial_booth_activation >= '2019-01-01') & (df.initial_booth_activation < '2019-02-01')]\n",
    "february = df[(df.initial_booth_activation >= '2019-02-01') & (df.initial_booth_activation < '2019-03-01')]\n",
    "march = df[(df.initial_booth_activation >= '2019-03-01') & (df.initial_booth_activation < '2019-04-01')]\n",
    "\n",
    "months = [october, november, december, january, february, march]"
   ]
  },
  {
   "cell_type": "code",
   "execution_count": 64,
   "metadata": {},
   "outputs": [
    {
     "name": "stdout",
     "output_type": "stream",
     "text": [
      "initial_booth_activation  entry_source_em       \n",
      "2018-10-31                affiliate                  135\n",
      "                          bing                        60\n",
      "                          bing_ad                      1\n",
      "                          direct                    1052\n",
      "                          email                       18\n",
      "                          google_shopping            161\n",
      "                          google_text_ad             342\n",
      "                          organic                    949\n",
      "                          other                       63\n",
      "                          other_search                72\n",
      "                          search_seller_targeted     103\n",
      "                          seller_targeted_media        2\n",
      "                          social                      26\n",
      "                          webstore                     2\n",
      "2018-11-30                affiliate                  147\n",
      "                          bing                        63\n",
      "                          bing_ad                      1\n",
      "                          direct                     987\n",
      "                          ebay                         4\n",
      "                          email                       17\n",
      "                          google_shopping            131\n",
      "                          google_text_ad             258\n",
      "                          organic                    943\n",
      "                          other                       74\n",
      "                          other_search                50\n",
      "                          search_seller_targeted      90\n",
      "                          seller_targeted_media        5\n",
      "                          social                      14\n",
      "2018-12-31                affiliate                  160\n",
      "                          bing                        51\n",
      "                                                    ... \n",
      "2019-02-28                seller_targeted_media        1\n",
      "                          social                       6\n",
      "2019-03-31                affiliate                  163\n",
      "                          bing                        66\n",
      "                          bing_ad                      3\n",
      "                          direct                     703\n",
      "                          ebay                         4\n",
      "                          email                       16\n",
      "                          facebook                    12\n",
      "                          google_shopping            141\n",
      "                          google_text_ad              12\n",
      "                          organic                    976\n",
      "                          other                       93\n",
      "                          other_search                57\n",
      "                          pinterest                    5\n",
      "                          search_seller_targeted     114\n",
      "                          seller_targeted_media        4\n",
      "                          social                       4\n",
      "2019-04-30                affiliate                   16\n",
      "                          bing                         8\n",
      "                          direct                      99\n",
      "                          ebay                         1\n",
      "                          email                        3\n",
      "                          google_shopping             18\n",
      "                          google_text_ad               1\n",
      "                          organic                    128\n",
      "                          other                       15\n",
      "                          other_search                 8\n",
      "                          pinterest                    2\n",
      "                          search_seller_targeted      25\n",
      "Name: seller_id, Length: 102, dtype: int64\n"
     ]
    }
   ],
   "source": [
    "acquisition_by_source = df.groupby([pd.Grouper(freq='M'), 'entry_source_em']).seller_id.count()\n",
    "\n"
   ]
  },
  {
   "cell_type": "code",
   "execution_count": null,
   "metadata": {},
   "outputs": [],
   "source": []
  }
 ],
 "metadata": {
  "kernelspec": {
   "display_name": "Python 3",
   "language": "python",
   "name": "python3"
  },
  "language_info": {
   "codemirror_mode": {
    "name": "ipython",
    "version": 3
   },
   "file_extension": ".py",
   "mimetype": "text/x-python",
   "name": "python",
   "nbconvert_exporter": "python",
   "pygments_lexer": "ipython3",
   "version": "3.6.4"
  }
 },
 "nbformat": 4,
 "nbformat_minor": 2
}
