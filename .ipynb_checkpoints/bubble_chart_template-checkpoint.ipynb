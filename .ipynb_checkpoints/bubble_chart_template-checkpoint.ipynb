{
 "cells": [
  {
   "cell_type": "code",
   "execution_count": 2,
   "metadata": {},
   "outputs": [],
   "source": [
    "import pandas as pd\n",
    "from matplotlib import pyplot as plt\n",
    "import matplotlib as mpl\n",
    "import numpy as np\n",
    "import seaborn as sns\n",
    "\n",
    "from scipy import stats\n",
    "\n",
    "import plotly.plotly as py\n",
    "import plotly.tools as tls\n",
    "import plotly.graph_objs as go\n",
    "import plotly.offline as po\n",
    "\n",
    "df = pd.read_csv('parts_sellers.csv')\n",
    "df = df[df.year_sales > 0]\n",
    "df.year_sales = pd.to_numeric(df.year_sales, errors='coerce')\n",
    "df = df.sort_values(by=['year_sales'], ascending=False)\n",
    "sum_fvf = df.year_fvf.sum()\n",
    "df['percent_fvf'] = [x / sum_fvf for x in df.year_fvf]\n",
    "df.percent_fvf = pd.Series([\"{0:.1f}%\".format(val * 100) for val in df.percent_fvf], index = df.index)\n",
    "df.inventory_source_em = df.inventory_source_em.fillna('None')\n"
   ]
  },
  {
   "cell_type": "code",
   "execution_count": 3,
   "metadata": {},
   "outputs": [],
   "source": [
    "#Create a new dataframe for each value_em type\n",
    "whale = df[df.value_em == 'whale']\n",
    "minnow = df[df.value_em == 'minnow']\n",
    "sea_bass = df[df.value_em == 'sea_bass']\n",
    "dolphin = df[df.value_em == 'dolphin']\n",
    "value_em = [whale, dolphin, sea_bass, minnow]\n",
    "names = ['Whale', 'Dolphin', 'Sea_bass', 'Minnow']\n",
    "\n"
   ]
  },
  {
   "cell_type": "code",
   "execution_count": 4,
   "metadata": {},
   "outputs": [],
   "source": [
    "df = df.sort_values(by=['year_fvf'], ascending=False)\n",
    "top_sellers = df[:35]\n",
    "x = top_sellers['days_as_user']\n",
    "y = top_sellers['year_sales'],\n",
    "size = top_sellers['year_fvf'],\n"
   ]
  },
  {
   "cell_type": "code",
   "execution_count": 14,
   "metadata": {},
   "outputs": [],
   "source": [
    "data = [\n",
    "    {\n",
    "        'x': top_sellers['days_as_user'],\n",
    "        'y': top_sellers['year_sales'],\n",
    "        'mode': 'markers',\n",
    "        'marker': {\n",
    "            'size': top_sellers['year_fvf'],\n",
    "            'sizemode': 'area',\n",
    "            'sizeref': 2.*max(top_sellers['year_fvf'])/(100.**2),\n",
    "            'sizemin': 4,\n",
    "            'color' : ['rgb(93, 164, 214)', 'rgb(93, 164, 214)', 'rgb(93, 164, 214)', 'rgb(93, 164, 214)', 'rgb(93, 164, 214)', \n",
    "                    'rgb(255, 144, 14)', 'rgb(255, 144, 14)', 'rgb(255, 144, 14)', 'rgb(255, 144, 14)', 'rgb(255, 144, 14)',   \n",
    "                    'rgb(44, 160, 101)', 'rgb(44, 160, 101)', 'rgb(44, 160, 101)', 'rgb(44, 160, 101)', 'rgb(44, 160, 101)', \n",
    "                    'rgb(255, 65, 54)','rgb(255, 65, 54)','rgb(255, 65, 54)','rgb(255, 65, 54)','rgb(255, 65, 54)']\n",
    "        }\n",
    "    }\n",
    "]\n",
    "\n",
    "layout= go.Layout(\n",
    "    title= 'Top 35 sellers Sales Last Year by Time as Seller',\n",
    "    hovermode= 'closest',\n",
    "    xaxis= dict(\n",
    "        title= 'Years as User',\n",
    "        nticks= 10,\n",
    "        ticklen= 5,\n",
    "        zeroline= False,\n",
    "        gridwidth= 2,\n",
    "    ),\n",
    "    yaxis=dict(\n",
    "        title= 'Sales Since 1 Year Ago',\n",
    "        ticklen= 5,\n",
    "        gridwidth= 2,\n",
    "    ),)\n"
   ]
  },
  {
   "cell_type": "code",
   "execution_count": 15,
   "metadata": {},
   "outputs": [
    {
     "data": {
      "text/plain": [
       "'file:///Users/kevin/data_analysis/bubblechart-color.html'"
      ]
     },
     "execution_count": 15,
     "metadata": {},
     "output_type": "execute_result"
    }
   ],
   "source": [
    "fig= go.Figure(data=data, layout=layout)\n",
    "po.plot(fig, filename='bubblechart-color.html')"
   ]
  },
  {
   "cell_type": "code",
   "execution_count": null,
   "metadata": {},
   "outputs": [],
   "source": [
    "po.plot(fig)"
   ]
  },
  {
   "cell_type": "code",
   "execution_count": 49,
   "metadata": {},
   "outputs": [],
   "source": [
    "labels = ['bing', 'direct','email', 'google_text_ad', 'organic']\n",
    "values = [minnow.seller_id, sea_bass.seller_id, dolphin.seller_id, whale.seller_id]\n",
    "colors = ['#19005c', '#810060','#c80050','#f35a33','#ffa600']\n",
    "x_values = [[0, .48], [.52, 1], [0, .48], [.52, 1]]\n",
    "y_values = [[0, .49], [0, .49], [.51, 1], [.51, 1]]\n",
    "names = ['minnow', 'sea_bass', 'dolphin', 'whale']"
   ]
  },
  {
   "cell_type": "code",
   "execution_count": 66,
   "metadata": {},
   "outputs": [],
   "source": [
    "data = []\n",
    "\n",
    "for value, label, x, y , name in zip(values, labels, x_values, y_values, names):\n",
    "        data.append({'labels':labels,\n",
    "            'values': value,\n",
    "            'domain' : {'x': x,\n",
    "                       'y': y},\n",
    "            'type': 'pie',\n",
    "            'marker': {'colors': colors},\n",
    "            \"hoverinfo\":\"label+percent+value\",\n",
    "            \"title\": name,\n",
    "            'titlefont' : dict(size=24),\n",
    "            'textfont': dict(color='#FFFFFF'),\n",
    "                \n",
    " \n",
    "            },)\n",
    "            "
   ]
  },
  {
   "cell_type": "code",
   "execution_count": 67,
   "metadata": {},
   "outputs": [],
   "source": [
    "layout = {\n",
    "    'title':'Value_em by Source',\n",
    "    'titlefont' : dict(size=32),\n",
    "    'legend' : dict(x=.45, y=.5, font = dict(size = 20)),\n",
    "}"
   ]
  },
  {
   "cell_type": "code",
   "execution_count": 68,
   "metadata": {},
   "outputs": [
    {
     "data": {
      "text/plain": [
       "'file:///Users/kevin/data_analysis/pie_chart.html'"
      ]
     },
     "execution_count": 68,
     "metadata": {},
     "output_type": "execute_result"
    }
   ],
   "source": [
    "fig = { 'data': data, 'layout': layout }\n",
    "po.plot(fig, filename='pie_chart.html')"
   ]
  }
 ],
 "metadata": {
  "kernelspec": {
   "display_name": "Python 3",
   "language": "python",
   "name": "python3"
  },
  "language_info": {
   "codemirror_mode": {
    "name": "ipython",
    "version": 3
   },
   "file_extension": ".py",
   "mimetype": "text/x-python",
   "name": "python",
   "nbconvert_exporter": "python",
   "pygments_lexer": "ipython3",
   "version": "3.6.4"
  }
 },
 "nbformat": 4,
 "nbformat_minor": 2
}
