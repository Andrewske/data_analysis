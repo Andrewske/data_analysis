{
 "cells": [
  {
   "cell_type": "code",
   "execution_count": 3,
   "metadata": {},
   "outputs": [],
   "source": [
    "import pandas as pd\n",
    "from matplotlib import pyplot as plt\n",
    "import matplotlib as mpl\n",
    "import numpy as np\n",
    "import seaborn as sns\n",
    "\n",
    "from scipy import stats\n",
    "\n",
    "import plotly.plotly as py\n",
    "import plotly.tools as tls\n",
    "import plotly.graph_objs as go\n",
    "import plotly.offline as po"
   ]
  },
  {
   "cell_type": "code",
   "execution_count": 95,
   "metadata": {},
   "outputs": [
    {
     "name": "stdout",
     "output_type": "stream",
     "text": [
      "Repeat Offers Percent: 0.13\n"
     ]
    }
   ],
   "source": [
    "offer = pd.read_csv('Feb 19/social_offer_details.csv')\n",
    "offer = offer[['id', 'offer_item_owner_id', 'amount', 'sold_on', 'buyer_id', 'fvf', 'source_em']]\n",
    "offer['fvf_perc'] = offer.fvf/offer.amount\n",
    "total_offers = offer.count()['id']\n",
    "offer_counts = offer.groupby(offer.buyer_id).count().sort_values('fvf',ascending=False)\n",
    "print('Repeat Offers Percent: ' + str(round((offer_counts[offer_counts.id > 1].sum()['id'])/total_offers,2)))\n"
   ]
  },
  {
   "cell_type": "code",
   "execution_count": 76,
   "metadata": {},
   "outputs": [
    {
     "name": "stdout",
     "output_type": "stream",
     "text": [
      "Total Users: 541\n",
      "User for more than a year: 38 0.07\n",
      "User for less than a month: 435 0.804\n",
      "User for less than a week: 111 0.205\n"
     ]
    }
   ],
   "source": [
    "buyer = pd.read_csv('Feb 19/social_buyer_details.csv')\n",
    "buyer = buyer[['id', 'created_at', 'login_count', 'is_seller', 'view_counter']]\n",
    "buyer['created_at'] = pd.to_datetime(buyer.created_at,infer_datetime_format=True)\n",
    "buyer['days_as_user'] = [round((pd.to_datetime('2019-02-28') - date)/np.timedelta64(1, 'D')) for date in buyer.created_at]\n",
    "print('Total Users: ' + str(buyer.count()['id']))\n",
    "print('User for more than a year: ' + str(buyer[buyer.days_as_user > 365].count()['id'])+ ' '  + str(round(buyer[buyer.days_as_user > 365].count()['id']/buyer.count()['id'],3)))\n",
    "print('User for less than a month: ' + str(buyer[buyer.days_as_user <= 30].count()['id']) + ' '  + str(round(buyer[buyer.days_as_user <= 30].count()['id']/buyer.count()['id'],3)))\n",
    "print('User for less than a week: ' + str(buyer[buyer.days_as_user <= 7].count()['id']) + ' '  + str(round(buyer[buyer.days_as_user <= 7].count()['id']/buyer.count()['id'],3)))"
   ]
  },
  {
   "cell_type": "code",
   "execution_count": 17,
   "metadata": {},
   "outputs": [
    {
     "data": {
      "text/plain": [
       "Index(['id', 'title', 'price', 'category_id', 'is_new', 'view_counter'], dtype='object')"
      ]
     },
     "execution_count": 17,
     "metadata": {},
     "output_type": "execute_result"
    }
   ],
   "source": [
    "items = pd.read_csv('Feb 19/social_item_details.csv')\n",
    "items = items[['id','title', 'price', 'category_id', 'is_new', 'view_counter']]\n",
    "items.columns"
   ]
  },
  {
   "cell_type": "code",
   "execution_count": 22,
   "metadata": {},
   "outputs": [
    {
     "data": {
      "text/plain": [
       "Index(['id', 'user_name'], dtype='object')"
      ]
     },
     "execution_count": 22,
     "metadata": {},
     "output_type": "execute_result"
    }
   ],
   "source": [
    "seller = pd.read_csv('Feb 19/social_seller_details.csv')\n",
    "seller = seller[['id','user_name']]\n",
    "seller.columns"
   ]
  },
  {
   "cell_type": "code",
   "execution_count": 40,
   "metadata": {},
   "outputs": [
    {
     "name": "stdout",
     "output_type": "stream",
     "text": [
      "             amount     fvf   fvf_perc\n",
      "source_em                             \n",
      "6          18983.89  682.28   7.484493\n",
      "28          5142.80  151.32   3.944894\n",
      "30         24834.83  866.09  10.722910\n",
      "31           325.47    8.46   0.232574\n",
      "           amount   fvf\n",
      "source_em              \n",
      "6           92.60  3.33\n",
      "28          49.45  1.45\n",
      "30          94.07  3.28\n",
      "31          40.68  1.06\n"
     ]
    }
   ],
   "source": [
    "print(offer.groupby(offer.source_em).sum()[['amount','fvf','fvf_perc']])\n",
    "print(round(offer.groupby(offer.source_em).mean()[['amount', 'fvf']],2))"
   ]
  },
  {
   "cell_type": "code",
   "execution_count": null,
   "metadata": {},
   "outputs": [],
   "source": []
  }
 ],
 "metadata": {
  "kernelspec": {
   "display_name": "Python 3",
   "language": "python",
   "name": "python3"
  },
  "language_info": {
   "codemirror_mode": {
    "name": "ipython",
    "version": 3
   },
   "file_extension": ".py",
   "mimetype": "text/x-python",
   "name": "python",
   "nbconvert_exporter": "python",
   "pygments_lexer": "ipython3",
   "version": "3.6.6"
  }
 },
 "nbformat": 4,
 "nbformat_minor": 2
}
