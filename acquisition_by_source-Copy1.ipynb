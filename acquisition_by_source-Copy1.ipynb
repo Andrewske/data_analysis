{
 "cells": [
  {
   "cell_type": "code",
   "execution_count": 2,
   "metadata": {},
   "outputs": [],
   "source": [
    "import pandas as pd\n",
    "from matplotlib import pyplot as plt\n",
    "import numpy as np\n",
    "import seaborn as sns\n",
    "\n",
    "df = pd.read_csv(\"downloads/acquisition_by_source.csv\")"
   ]
  },
  {
   "cell_type": "code",
   "execution_count": 3,
   "metadata": {},
   "outputs": [
    {
     "name": "stdout",
     "output_type": "stream",
     "text": [
      "       seller_id  entry_source_em  profit_estimate  value_em  fees_paid  \\\n",
      "0           4000              1.0             0.00         0       0.00   \n",
      "1           6180              NaN             0.00         0       0.00   \n",
      "2          24298              0.0             1.75         0       4.78   \n",
      "3       27741668              6.0          4382.39         3    3408.21   \n",
      "4         194970              NaN             0.00         0       0.00   \n",
      "5         248539              NaN            -4.35         0       0.00   \n",
      "6         327729              4.0             0.00         2       0.00   \n",
      "7         376603              NaN           -17.24         0       0.00   \n",
      "8       34115185              6.0          3093.02         2    3813.87   \n",
      "9         477081              NaN             0.00         0       0.00   \n",
      "10        505772              NaN            -0.01         0       0.00   \n",
      "11        648563              4.0           -27.49         0       0.00   \n",
      "12        679393              NaN            39.98         0       0.00   \n",
      "13        688184              NaN           -13.87         0       0.00   \n",
      "14        734952              NaN            -0.24         0       0.00   \n",
      "15        835127              0.0             0.00         0       0.00   \n",
      "16        949273              0.0            -1.65         0       0.00   \n",
      "17       1013925             16.0            -0.69         0       0.00   \n",
      "18      33166053              6.0          2581.56         2     909.44   \n",
      "19       1189909              NaN             2.91         0       6.41   \n",
      "20       1212987              NaN            -0.91         0       0.00   \n",
      "21       1326832              NaN            40.00         0       0.00   \n",
      "22       1497144              0.0             0.00         0       0.00   \n",
      "23      32551162              6.0          2219.37         2    1665.78   \n",
      "24       1602387              4.0            -0.01         0       0.00   \n",
      "25       1602422              0.0           -38.34         3      71.55   \n",
      "26       2223161              NaN            -0.38         0       0.00   \n",
      "27       2238951              4.0            -0.04         0       0.00   \n",
      "28       2696661              NaN             0.00         0       0.00   \n",
      "29      33448354              6.0          2073.72         0      98.79   \n",
      "...          ...              ...              ...       ...        ...   \n",
      "16115   36937903              0.0             0.00         0       0.00   \n",
      "16116   36938448              4.0             0.00         0       0.00   \n",
      "16117   36938645              NaN             0.00         0       0.00   \n",
      "16118   36938657              NaN             0.00         0       0.00   \n",
      "16119   36938787              NaN             0.00         0       0.00   \n",
      "16120   36938895              NaN             0.00         0       0.00   \n",
      "16121   36938992              NaN             0.00         0       0.00   \n",
      "16122   36939032              4.0             0.00         0       0.00   \n",
      "16123   36939040              8.0             0.00         0       0.00   \n",
      "16124   36939059              NaN             0.00         0       0.00   \n",
      "16125   36939118              NaN             0.00         0       0.00   \n",
      "16126   36939152              NaN             0.00         0       0.00   \n",
      "16127   36939295              NaN             0.00         0       0.00   \n",
      "16128   36939416              NaN             0.00         0       0.00   \n",
      "16129   36939688              4.0             0.00         0       0.00   \n",
      "16130   36939831              0.0             0.00         0       0.00   \n",
      "16131   36940897              4.0             0.00         0       0.00   \n",
      "16132   36942319              NaN             0.00         0       0.00   \n",
      "16133   36943292              0.0             0.00         0       0.00   \n",
      "16134   36944244              4.0             0.00         0       0.00   \n",
      "16135   36944280             16.0             0.00         0       0.00   \n",
      "16136   36945828              0.0             0.00         0       0.00   \n",
      "16137   36945967             22.0             0.00         0       0.00   \n",
      "16138   36946083             16.0             0.00         0       0.00   \n",
      "16139   36946150              4.0             0.00         0       0.00   \n",
      "16140   36946624              4.0             0.00         0       0.00   \n",
      "16141   36946655             16.0             0.00         0       0.00   \n",
      "16142   36946822              4.0             0.00         0       0.00   \n",
      "16143   36947824              7.0             0.00         0       0.00   \n",
      "16144   36947990              0.0             0.00         0       0.00   \n",
      "\n",
      "       membership_paid  \n",
      "0                  0.0  \n",
      "1                  0.0  \n",
      "2                  0.0  \n",
      "3               1200.0  \n",
      "4                  0.0  \n",
      "5                  0.0  \n",
      "6                  0.0  \n",
      "7                  0.0  \n",
      "8                  0.0  \n",
      "9                  0.0  \n",
      "10                 0.0  \n",
      "11                 0.0  \n",
      "12                40.0  \n",
      "13                 0.0  \n",
      "14                 0.0  \n",
      "15                 0.0  \n",
      "16                 0.0  \n",
      "17                 0.0  \n",
      "18              1995.0  \n",
      "19                 0.0  \n",
      "20                 0.0  \n",
      "21                40.0  \n",
      "22                 0.0  \n",
      "23              1494.0  \n",
      "24                 0.0  \n",
      "25                 0.0  \n",
      "26                 0.0  \n",
      "27                 0.0  \n",
      "28                 0.0  \n",
      "29              1995.0  \n",
      "...                ...  \n",
      "16115              0.0  \n",
      "16116              0.0  \n",
      "16117              0.0  \n",
      "16118              0.0  \n",
      "16119              0.0  \n",
      "16120              0.0  \n",
      "16121              0.0  \n",
      "16122              0.0  \n",
      "16123              0.0  \n",
      "16124              0.0  \n",
      "16125              0.0  \n",
      "16126              0.0  \n",
      "16127              0.0  \n",
      "16128              0.0  \n",
      "16129              0.0  \n",
      "16130              0.0  \n",
      "16131              0.0  \n",
      "16132              0.0  \n",
      "16133              0.0  \n",
      "16134              0.0  \n",
      "16135              0.0  \n",
      "16136              0.0  \n",
      "16137              0.0  \n",
      "16138              0.0  \n",
      "16139              0.0  \n",
      "16140              0.0  \n",
      "16141              0.0  \n",
      "16142              0.0  \n",
      "16143              0.0  \n",
      "16144              0.0  \n",
      "\n",
      "[16145 rows x 6 columns]\n"
     ]
    }
   ],
   "source": [
    "print(df)"
   ]
  },
  {
   "cell_type": "code",
   "execution_count": 6,
   "metadata": {},
   "outputs": [],
   "source": [
    "social_total = df[df.entry_source_em == 6.0]\n",
    "adwords_total = df[df.entry_source_em == 16.0]\n",
    "organic_total = df[df.entry_source_em == 0.0]\n",
    "direct_total = df[df.entry_source_em == 4.0]\n",
    "\n",
    "social = social_total.sample(750)"
   ]
  },
  {
   "cell_type": "code",
   "execution_count": 7,
   "metadata": {},
   "outputs": [
    {
     "name": "stdout",
     "output_type": "stream",
     "text": [
      "       seller_id  entry_source_em  profit_estimate  value_em  fees_paid  \\\n",
      "5182    33433632              6.0             0.00         0       0.00   \n",
      "3999    33619806              6.0            59.49         0      82.63   \n",
      "3576    33377115              6.0            97.92         1      60.45   \n",
      "4528    32674588              6.0             7.58         0       3.87   \n",
      "6039    33638756              6.0            -0.02         0       0.00   \n",
      "4470    33607953              6.0             9.47         2      16.51   \n",
      "6322    34192286              6.0            -0.15         0       0.00   \n",
      "4703    25812215              6.0             3.52         0       6.10   \n",
      "5436    33800575              6.0             0.00         0       0.00   \n",
      "5130    33358222              6.0             0.00         0       0.00   \n",
      "4375    33804981              6.0            16.44         1      42.85   \n",
      "4378    34054813              6.0            16.13         0      20.22   \n",
      "5934    36881027              6.0             0.00         0       0.00   \n",
      "6550    33830832              6.0            -0.49         0       0.00   \n",
      "5467    33858059              6.0             0.00         0       0.00   \n",
      "5195    33469419              6.0             0.00         0       0.00   \n",
      "5910    35702683              6.0             0.00         0       0.00   \n",
      "6248    33463900              6.0            -0.10         0       0.00   \n",
      "6314    33797587              6.0            -0.15         0       0.00   \n",
      "5511    33908190              6.0             0.00         0       0.00   \n",
      "6311    33244308              6.0            -0.15         0       0.00   \n",
      "6607    16316649              6.0            -0.68         0       0.00   \n",
      "4093    21278894              6.0            51.66         1     129.88   \n",
      "15650   33381292              6.0           -46.88         0      13.18   \n",
      "6026    33168964              6.0            -0.02         0       0.00   \n",
      "3031    33283916              6.0           136.83         2     155.48   \n",
      "307     34001967              6.0           352.73         1     218.05   \n",
      "15536   34300998              6.0           -46.06         1      76.38   \n",
      "6506    34199003              6.0            -0.41         0       0.00   \n",
      "6783    31414624              6.0            -1.53         0       0.00   \n",
      "...          ...              ...              ...       ...        ...   \n",
      "5880    34355881              6.0             0.00         0       0.00   \n",
      "6399    34236630              6.0            -0.22         0       0.00   \n",
      "5140    33369549              6.0             0.00         0       0.00   \n",
      "4401    30368735              6.0            14.25         0      15.80   \n",
      "5039    33169237              6.0             0.00         0       0.00   \n",
      "5834    34316666              6.0             0.00         0       0.00   \n",
      "6546    34090296              6.0            -0.47         0       0.00   \n",
      "5682    34129105              6.0             0.00         0       0.00   \n",
      "4494    34318026              6.0             8.72         0       8.38   \n",
      "6217    33844007              6.0            -0.08         0       0.00   \n",
      "6919    34063573              6.0            -8.19         0       0.00   \n",
      "5720    34175886              6.0             0.00         0       0.00   \n",
      "4543    34055555              6.0             7.24         0      12.22   \n",
      "2967    34266073              6.0           139.71         0       0.00   \n",
      "5434    33793911              6.0             0.00         0       0.00   \n",
      "6366    33743751              6.0            -0.19         0       0.00   \n",
      "4327    30483351              6.0            24.71         0      48.40   \n",
      "6229    36797101              6.0            -0.08         0       0.00   \n",
      "1579    19123601              6.0           215.26         2     321.99   \n",
      "4902    24551324              6.0             0.00         0       0.00   \n",
      "4828    33757218              6.0             0.72         0       0.00   \n",
      "2640    34047476              6.0           160.00         0       0.00   \n",
      "4497    31031348              6.0             8.70         0      10.07   \n",
      "4491    32383673              6.0             8.78         1     115.40   \n",
      "6196    34053682              6.0            -0.07         0       0.00   \n",
      "6346    33657108              6.0            -0.17         0       0.00   \n",
      "5889    34365835              6.0             0.00         0       0.00   \n",
      "5304    33611427              6.0             0.00         0       0.00   \n",
      "5452    33817163              6.0             0.00         0       0.00   \n",
      "5423    33790554              6.0             0.00         0       0.00   \n",
      "\n",
      "       membership_paid  \n",
      "5182               0.0  \n",
      "3999               0.0  \n",
      "3576              70.0  \n",
      "4528               0.0  \n",
      "6039               0.0  \n",
      "4470               0.0  \n",
      "6322               0.0  \n",
      "4703               0.0  \n",
      "5436               0.0  \n",
      "5130               0.0  \n",
      "4375               0.0  \n",
      "4378               0.0  \n",
      "5934               0.0  \n",
      "6550               0.0  \n",
      "5467               0.0  \n",
      "5195               0.0  \n",
      "5910               0.0  \n",
      "6248               0.0  \n",
      "6314               0.0  \n",
      "5511               0.0  \n",
      "6311               0.0  \n",
      "6607               0.0  \n",
      "4093               0.0  \n",
      "15650              0.0  \n",
      "6026               0.0  \n",
      "3031               0.0  \n",
      "307              290.0  \n",
      "15536              0.0  \n",
      "6506               0.0  \n",
      "6783               0.0  \n",
      "...                ...  \n",
      "5880               0.0  \n",
      "6399               0.0  \n",
      "5140               0.0  \n",
      "4401               0.0  \n",
      "5039               0.0  \n",
      "5834               0.0  \n",
      "6546               0.0  \n",
      "5682               0.0  \n",
      "4494               0.0  \n",
      "6217               0.0  \n",
      "6919               0.0  \n",
      "5720               0.0  \n",
      "4543               0.0  \n",
      "2967             140.0  \n",
      "5434               0.0  \n",
      "6366               0.0  \n",
      "4327               0.0  \n",
      "6229               0.0  \n",
      "1579             120.0  \n",
      "4902               0.0  \n",
      "4828               0.0  \n",
      "2640             160.0  \n",
      "4497               0.0  \n",
      "4491               0.0  \n",
      "6196               0.0  \n",
      "6346               0.0  \n",
      "5889               0.0  \n",
      "5304               0.0  \n",
      "5452               0.0  \n",
      "5423               0.0  \n",
      "\n",
      "[750 rows x 6 columns]\n"
     ]
    }
   ],
   "source": [
    "print(social)\n",
    "\n"
   ]
  },
  {
   "cell_type": "code",
   "execution_count": 6,
   "metadata": {},
   "outputs": [
    {
     "name": "stdout",
     "output_type": "stream",
     "text": [
      "0.0 0.0 0.0 0.0\n"
     ]
    }
   ],
   "source": [
    "print(social_median, adwords_median, organic_median, direct_median)"
   ]
  },
  {
   "cell_type": "code",
   "execution_count": 7,
   "metadata": {},
   "outputs": [],
   "source": [
    "social_mean = np.mean(social.profit_estimate)\n",
    "adwords_mean = np.mean(adwords.profit_estimate)\n",
    "organic_mean = np.mean(organic.profit_estimate)\n",
    "direct_mean = np.mean(direct.profit_estimate)"
   ]
  },
  {
   "cell_type": "code",
   "execution_count": 8,
   "metadata": {},
   "outputs": [
    {
     "name": "stdout",
     "output_type": "stream",
     "text": [
      "46.40481333333331 8.405773333333332 8.91281333333332 9.694599999999987\n"
     ]
    }
   ],
   "source": [
    "print(social_mean, adwords_mean, organic_mean, direct_mean)"
   ]
  },
  {
   "cell_type": "code",
   "execution_count": 14,
   "metadata": {},
   "outputs": [],
   "source": [
    "n=750\n",
    "df = pd.DataFrame({\n",
    "    \"label\": [\"social.profit_estimate\"] * n + [\"adwords.profit_estimate\"] * n + [\"organic.profit_estimate\"] * n + [\"direct.profit_estimate\"] * n,\n",
    "    \"value\": np.concatenate([social.profit_estimate, adwords.profit_estimate, organic.profit_estimate, direct.profit_estimate])\n",
    "})"
   ]
  },
  {
   "cell_type": "code",
   "execution_count": 15,
   "metadata": {},
   "outputs": [
    {
     "data": {
      "image/png": "[encoded data removed]",
      "text/plain": [
       "<Figure size 432x288 with 1 Axes>"
      ]
     },
     "metadata": {},
     "output_type": "display_data"
    }
   ],
   "source": [
    "sns.boxplot(data=df, x=\"label\", y=\"value\")\n",
    "plt.show()"
   ]
  },
  {
   "cell_type": "code",
   "execution_count": 16,
   "metadata": {},
   "outputs": [
    {
     "data": {
      "image/png": "[encoded data removed]",
      "text/plain": [
       "<Figure size 432x288 with 1 Axes>"
      ]
     },
     "metadata": {},
     "output_type": "display_data"
    }
   ],
   "source": [
    "sns.violinplot(data=df, x=\"label\", y=\"value\")\n",
    "plt.show()"
   ]
  },
  {
   "cell_type": "code",
   "execution_count": 25,
   "metadata": {},
   "outputs": [],
   "source": [
    "n=750\n",
    "df2 = pd.DataFrame({\n",
    "    \"label\": [\"adwords.profit_estimate\"] * n,\n",
    "    \"value\": np.concatenate([adwords.profit_estimate])\n",
    "})\n",
    "df3 = pd.DataFrame({\n",
    "    \"label\": [\"social.profit_estimate\"] * n,\n",
    "    \"value\": np.concatenate([social.profit_estimate])\n",
    "})"
   ]
  },
  {
   "cell_type": "code",
   "execution_count": 27,
   "metadata": {},
   "outputs": [
    {
     "data": {
      "image/png": "[encoded data removed]",
      "text/plain": [
       "<Figure size 432x288 with 1 Axes>"
      ]
     },
     "metadata": {},
     "output_type": "display_data"
    }
   ],
   "source": [
    "sns.violinplot(data=df2, x=\"label\", y=\"value\")\n",
    "\n",
    "plt.show()"
   ]
  },
  {
   "cell_type": "code",
   "execution_count": 28,
   "metadata": {},
   "outputs": [
    {
     "data": {
      "text/plain": [
       "<matplotlib.axes._subplots.AxesSubplot at 0x1a18f2c5f8>"
      ]
     },
     "execution_count": 28,
     "metadata": {},
     "output_type": "execute_result"
    },
    {
     "data": {
      "image/png": "[encoded data removed]",
      "text/plain": [
       "<Figure size 432x288 with 1 Axes>"
      ]
     },
     "metadata": {},
     "output_type": "display_data"
    }
   ],
   "source": [
    "sns.violinplot(data=df3, x=\"label\", y=\"value\")"
   ]
  },
  {
   "cell_type": "code",
   "execution_count": null,
   "metadata": {},
   "outputs": [],
   "source": []
  }
 ],
 "metadata": {
  "kernelspec": {
   "display_name": "Python 3",
   "language": "python",
   "name": "python3"
  },
  "language_info": {
   "codemirror_mode": {
    "name": "ipython",
    "version": 3
   },
   "file_extension": ".py",
   "mimetype": "text/x-python",
   "name": "python",
   "nbconvert_exporter": "python",
   "pygments_lexer": "ipython3",
   "version": "3.6.4"
  }
 },
 "nbformat": 4,
 "nbformat_minor": 2
}
