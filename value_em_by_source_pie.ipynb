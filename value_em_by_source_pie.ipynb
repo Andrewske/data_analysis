{
 "cells": [
  {
   "cell_type": "code",
   "execution_count": 1,
   "metadata": {},
   "outputs": [],
   "source": [
    "import pandas as pd\n",
    "from matplotlib import pyplot as plt\n",
    "import numpy as np\n",
    "import seaborn as sns\n",
    "import plotly.plotly as py\n",
    "import plotly.tools as tls\n",
    "import plotly.graph_objs as go\n",
    "import plotly.offline as po\n",
    "\n",
    "df = pd.read_csv('parts_sellers.csv')\n",
    "df = df[df.year_sales > 0]\n",
    "labels = ['bing', 'direct','email', 'google_text_ad', 'organic']\n",
    "df = df[df.source_em.isin(labels)]"
   ]
  },
  {
   "cell_type": "code",
   "execution_count": 2,
   "metadata": {},
   "outputs": [
    {
     "name": "stdout",
     "output_type": "stream",
     "text": [
      "Index(['seller_id', 'profit_estimate', 'value_em', 'user_created',\n",
      "       'booth_created', 'first_sale', 'days_to_sale', 'country', 'state',\n",
      "       'city', 'committed', 'year_sales', 'year_amount', 'year_fvf',\n",
      "       'items_for_sale', 'sales', 'source_em', 'entry_source_em',\n",
      "       'inventory_source_em', 'entry_url', 'entry_query'],\n",
      "      dtype='object')\n"
     ]
    }
   ],
   "source": [
    "print(df.columns)"
   ]
  },
  {
   "cell_type": "code",
   "execution_count": 3,
   "metadata": {},
   "outputs": [],
   "source": [
    "whale = df[df.value_em == 'whale']\n",
    "minnow = df[df.value_em == 'minnow']\n",
    "sea_bass = df[df.value_em == 'sea_bass']\n",
    "dolphin = df[df.value_em == 'dolphin']\n",
    "value_em = [whale, dolphin, sea_bass, minnow]\n",
    "names = ['Whale', 'Dolphin', 'Sea_bass', 'Minnow']"
   ]
  },
  {
   "cell_type": "code",
   "execution_count": 7,
   "metadata": {},
   "outputs": [
    {
     "name": "stdout",
     "output_type": "stream",
     "text": [
      "Whale: Mean = 12962.117647058823, Median = 4190.0, STD = 20477.25730428473\n",
      "Dolphin: Mean = 2920.4797297297296, Median = 964.0, STD = 5615.913416621347\n",
      "Sea_bass: Mean = 1952.0882352941176, Median = 209.0, STD = 5684.336716017931\n",
      "Minnow: Mean = 961.7510729613734, Median = 69.0, STD = 5510.639699224118\n"
     ]
    }
   ],
   "source": [
    "for name, value in zip(names, value_em):\n",
    "    mean = value.items_for_sale.round(0).mean()\n",
    "    median = value.items_for_sale.apply(np.round).median()\n",
    "    std = value.items_for_sale.round(0).std()\n",
    "    print(str(name) + \": Mean = \" + str(mean) + \", Median = \" + str(median) + \", STD = \" + str(std))"
   ]
  },
  {
   "cell_type": "code",
   "execution_count": 119,
   "metadata": {},
   "outputs": [],
   "source": [
    "size = 1000\n",
    "for value in value_em:\n",
    "    if len(value) < size:\n",
    "        size = len(value)\n",
    "\n",
    "sample_whale = whale.sample(size)\n",
    "sample_dolphin = dolphin.sample(size)\n",
    "sample_sea_bass = sea_bass.sample(size)\n",
    "sample_minnow = minnow.sample(size)\n"
   ]
  },
  {
   "cell_type": "code",
   "execution_count": 3,
   "metadata": {},
   "outputs": [
    {
     "name": "stdout",
     "output_type": "stream",
     "text": [
      "source_em\n",
      "bing               2\n",
      "direct            19\n",
      "email              6\n",
      "google_text_ad     4\n",
      "organic           20\n",
      "Name: seller_id, dtype: int64\n",
      "source_em\n",
      "bing               2\n",
      "direct            69\n",
      "email             17\n",
      "google_text_ad    15\n",
      "organic           45\n",
      "Name: seller_id, dtype: int64\n",
      "source_em\n",
      "bing               2\n",
      "direct            15\n",
      "email              5\n",
      "google_text_ad     4\n",
      "organic            8\n",
      "Name: seller_id, dtype: int64\n",
      "source_em\n",
      "bing               11\n",
      "direct            102\n",
      "email              21\n",
      "google_text_ad     19\n",
      "organic            80\n",
      "Name: seller_id, dtype: int64\n"
     ]
    }
   ],
   "source": [
    "whale = whale.groupby(['source_em']).count().sort_index()\n",
    "dolphin = dolphin.groupby(['source_em']).count() #.append([0]).rename(index={0:'bing'}).sort_index()\n",
    "sea_bass = sea_bass.groupby(['source_em']).count().sort_index()\n",
    "minnow = minnow.groupby(['source_em']).count().sort_index()\n",
    "\n",
    "\n",
    "print(whale.seller_id)\n",
    "print(dolphin.seller_id)\n",
    "print(sea_bass.seller_id)\n",
    "print(minnow.seller_id)"
   ]
  },
  {
   "cell_type": "code",
   "execution_count": 49,
   "metadata": {},
   "outputs": [],
   "source": [
    "labels = ['bing', 'direct','email', 'google_text_ad', 'organic']\n",
    "values = [minnow.seller_id, sea_bass.seller_id, dolphin.seller_id, whale.seller_id]\n",
    "colors = ['#19005c', '#810060','#c80050','#f35a33','#ffa600']\n",
    "x_values = [[0, .48], [.52, 1], [0, .48], [.52, 1]]\n",
    "y_values = [[0, .49], [0, .49], [.51, 1], [.51, 1]]\n",
    "names = ['minnow', 'sea_bass', 'dolphin', 'whale']"
   ]
  },
  {
   "cell_type": "code",
   "execution_count": 66,
   "metadata": {},
   "outputs": [],
   "source": [
    "data = []\n",
    "\n",
    "for value, label, x, y , name in zip(values, labels, x_values, y_values, names):\n",
    "        data.append({'labels':labels,\n",
    "            'values': value,\n",
    "            'domain' : {'x': x,\n",
    "                       'y': y},\n",
    "            'type': 'pie',\n",
    "            'marker': {'colors': colors},\n",
    "            \"hoverinfo\":\"label+percent+value\",\n",
    "            \"title\": name,\n",
    "            'titlefont' : dict(size=24),\n",
    "            'textfont': dict(color='#FFFFFF'),\n",
    "                \n",
    " \n",
    "            },)\n",
    "            "
   ]
  },
  {
   "cell_type": "code",
   "execution_count": 67,
   "metadata": {},
   "outputs": [],
   "source": [
    "layout = {\n",
    "    'title':'Value_em by Source',\n",
    "    'titlefont' : dict(size=32),\n",
    "    'legend' : dict(x=.45, y=.5, font = dict(size = 20)),\n",
    "}"
   ]
  },
  {
   "cell_type": "code",
   "execution_count": 68,
   "metadata": {},
   "outputs": [
    {
     "data": {
      "text/plain": [
       "'file:///Users/kevin/data_analysis/pie_chart.html'"
      ]
     },
     "execution_count": 68,
     "metadata": {},
     "output_type": "execute_result"
    }
   ],
   "source": [
    "fig = { 'data': data, 'layout': layout }\n",
    "po.plot(fig, filename='pie_chart.html')"
   ]
  },
  {
   "cell_type": "code",
   "execution_count": null,
   "metadata": {},
   "outputs": [],
   "source": []
  },
  {
   "cell_type": "code",
   "execution_count": 24,
   "metadata": {},
   "outputs": [
    {
     "name": "stdout",
     "output_type": "stream",
     "text": [
      "source_em\n",
      "affiliate          3\n",
      "bing               1\n",
      "direct            17\n",
      "email              5\n",
      "google_text_ad     5\n",
      "organic           12\n",
      "other              1\n",
      "shopping           6\n",
      "Name: seller_id, dtype: int64\n"
     ]
    }
   ],
   "source": [
    "print(minnow.seller_id)"
   ]
  },
  {
   "cell_type": "code",
   "execution_count": 25,
   "metadata": {},
   "outputs": [],
   "source": [
    "\n",
    "\n",
    "\n",
    "\n",
    "\n",
    "\n",
    "trace1 = go.Pie(values=minnow.seller_id,labels=minnow.index)\n",
    "trace2 = go.Pie(values=sea_bass.seller_id,labels=sea_bass.index)\n",
    "trace3 = go.Pie(values=dolphin.seller_id,labels=dolphin.index)\n",
    "trace4 = go.Pie(values=whale.seller_id,labels=whale.index)"
   ]
  },
  {
   "cell_type": "code",
   "execution_count": 26,
   "metadata": {},
   "outputs": [
    {
     "name": "stdout",
     "output_type": "stream",
     "text": [
      "This is the format of your plot grid:\n",
      "[ (1,1) x1,y1 ]  [ (1,2) x2,y2 ]\n",
      "[ (2,1) x3,y3 ]  [ (2,2) x4,y4 ]\n",
      "\n"
     ]
    },
    {
     "ename": "ValueError",
     "evalue": "Invalid property specified for object of type plotly.graph_objs.Pie: 'xaxis'\n\n    Valid properties:\n        customdata\n            Assigns extra data each datum. This may be useful when\n            listening to hover, click and selection events. Note\n            that, \"scatter\" traces also appends customdata items in\n            the markers DOM elements\n        customdatasrc\n            Sets the source reference on plot.ly for  customdata .\n        direction\n            Specifies the direction at which succeeding sectors\n            follow one another.\n        dlabel\n            Sets the label step. See `label0` for more info.\n        domain\n            plotly.graph_objs.pie.Domain instance or dict with\n            compatible properties\n        hole\n            Sets the fraction of the radius to cut out of the pie.\n            Use this to make a donut chart.\n        hoverinfo\n            Determines which trace information appear on hover. If\n            `none` or `skip` are set, no information is displayed\n            upon hovering. But, if `none` is set, click and hover\n            events are still fired.\n        hoverinfosrc\n            Sets the source reference on plot.ly for  hoverinfo .\n        hoverlabel\n            plotly.graph_objs.pie.Hoverlabel instance or dict with\n            compatible properties\n        hovertemplate\n            Template string used for rendering the information that\n            appear on hover box. Note that this will override\n            `hoverinfo`. Variables are inserted using %{variable},\n            for example \"y: %{y}\". Numbers are formatted using\n            d3-format's syntax %{variable:d3-format}, for example\n            \"Price: %{y:$.2f}\". See https://github.com/d3/d3-format\n            /blob/master/README.md#locale_format for details on the\n            formatting syntax. The variables available in\n            `hovertemplate` are the ones emitted as event data\n            described at this link\n            https://plot.ly/javascript/plotlyjs-events/#event-data.\n            Additionally, every attributes that can be specified\n            per-point (the ones that are `arrayOk: true`) are\n            available. variables `label`, `color`, `value`,\n            `percent` and `text`. Anything contained in tag\n            `<extra>` is displayed in the secondary box, for\n            example \"<extra>{fullData.name}</extra>\".\n        hovertemplatesrc\n            Sets the source reference on plot.ly for  hovertemplate\n            .\n        hovertext\n            Sets hover text elements associated with each sector.\n            If a single string, the same string appears for all\n            data points. If an array of string, the items are\n            mapped in order of this trace's sectors. To be seen,\n            trace `hoverinfo` must contain a \"text\" flag.\n        hovertextsrc\n            Sets the source reference on plot.ly for  hovertext .\n        ids\n            Assigns id labels to each datum. These ids for object\n            constancy of data points during animation. Should be an\n            array of strings, not numbers or any other type.\n        idssrc\n            Sets the source reference on plot.ly for  ids .\n        insidetextfont\n            Sets the font used for `textinfo` lying inside the pie.\n        label0\n            Alternate to `labels`. Builds a numeric set of labels.\n            Use with `dlabel` where `label0` is the starting label\n            and `dlabel` the step.\n        labels\n            Sets the sector labels. If `labels` entries are\n            duplicated, we sum associated `values` or simply count\n            occurrences if `values` is not provided. For other\n            array attributes (including color) we use the first\n            non-empty entry among all occurrences of the label.\n        labelssrc\n            Sets the source reference on plot.ly for  labels .\n        legendgroup\n            Sets the legend group for this trace. Traces part of\n            the same legend group hide/show at the same time when\n            toggling legend items.\n        marker\n            plotly.graph_objs.pie.Marker instance or dict with\n            compatible properties\n        name\n            Sets the trace name. The trace name appear as the\n            legend item and on hover.\n        opacity\n            Sets the opacity of the trace.\n        outsidetextfont\n            Sets the font used for `textinfo` lying outside the\n            pie.\n        pull\n            Sets the fraction of larger radius to pull the sectors\n            out from the center. This can be a constant to pull all\n            slices apart from each other equally or an array to\n            highlight one or more slices.\n        pullsrc\n            Sets the source reference on plot.ly for  pull .\n        rotation\n            Instead of the first slice starting at 12 o'clock,\n            rotate to some other angle.\n        scalegroup\n            If there are multiple pies that should be sized\n            according to their totals, link them by providing a\n            non-empty group id here shared by every trace in the\n            same group.\n        selectedpoints\n            Array containing integer indices of selected points.\n            Has an effect only for traces that support selections.\n            Note that an empty array means an empty selection where\n            the `unselected` are turned on for all points, whereas,\n            any other non-array values means no selection all where\n            the `selected` and `unselected` styles have no effect.\n        showlegend\n            Determines whether or not an item corresponding to this\n            trace is shown in the legend.\n        sort\n            Determines whether or not the sectors are reordered\n            from largest to smallest.\n        stream\n            plotly.graph_objs.pie.Stream instance or dict with\n            compatible properties\n        text\n            Sets text elements associated with each sector. If\n            trace `textinfo` contains a \"text\" flag, these elements\n            will be seen on the chart. If trace `hoverinfo`\n            contains a \"text\" flag and \"hovertext\" is not set,\n            these elements will be seen in the hover labels.\n        textfont\n            Sets the font used for `textinfo`.\n        textinfo\n            Determines which trace information appear on the graph.\n        textposition\n            Specifies the location of the `textinfo`.\n        textpositionsrc\n            Sets the source reference on plot.ly for  textposition\n            .\n        textsrc\n            Sets the source reference on plot.ly for  text .\n        title\n            plotly.graph_objs.pie.Title instance or dict with\n            compatible properties\n        titlefont\n            Deprecated: Please use pie.title.font instead. Sets the\n            font used for `title`. Note that the title's font used\n            to be set by the now deprecated `titlefont` attribute.\n        titleposition\n            Deprecated: Please use pie.title.position instead.\n            Specifies the location of the `title`. Note that the\n            title's position used to be set by the now deprecated\n            `titleposition` attribute.\n        uid\n\n        uirevision\n            Controls persistence of some user-driven changes to the\n            trace: `constraintrange` in `parcoords` traces, as well\n            as some `editable: true` modifications such as `name`\n            and `colorbar.title`. Defaults to `layout.uirevision`.\n            Note that other user-driven trace attribute changes are\n            controlled by `layout` attributes: `trace.visible` is\n            controlled by `layout.legend.uirevision`,\n            `selectedpoints` is controlled by\n            `layout.selectionrevision`, and `colorbar.(x|y)`\n            (accessible with `config: {editable: true}`) is\n            controlled by `layout.editrevision`. Trace changes are\n            tracked by `uid`, which only falls back on trace index\n            if no `uid` is provided. So if your app can add/remove\n            traces before the end of the `data` array, such that\n            the same trace has a different index, you can still\n            preserve user-driven changes if you give each trace a\n            `uid` that stays with it as it moves.\n        values\n            Sets the values of the sectors of this pie chart. If\n            omitted, we count occurrences of each label.\n        valuessrc\n            Sets the source reference on plot.ly for  values .\n        visible\n            Determines whether or not this trace is visible. If\n            \"legendonly\", the trace is not drawn, but can appear as\n            a legend item (provided that the legend itself is\n            visible).\n        ",
     "output_type": "error",
     "traceback": [
      "\u001b[0;31m---------------------------------------------------------------------------\u001b[0m",
      "\u001b[0;31mValueError\u001b[0m                                Traceback (most recent call last)",
      "\u001b[0;32m<ipython-input-26-27f49ba57213>\u001b[0m in \u001b[0;36m<module>\u001b[0;34m()\u001b[0m\n\u001b[1;32m      7\u001b[0m                                                           'Dolphin', 'Whale'))\n\u001b[1;32m      8\u001b[0m \u001b[0;34m\u001b[0m\u001b[0m\n\u001b[0;32m----> 9\u001b[0;31m \u001b[0mfig\u001b[0m\u001b[0;34m.\u001b[0m\u001b[0mappend_trace\u001b[0m\u001b[0;34m(\u001b[0m\u001b[0mtrace1\u001b[0m\u001b[0;34m,\u001b[0m \u001b[0;36m1\u001b[0m\u001b[0;34m,\u001b[0m \u001b[0;36m1\u001b[0m\u001b[0;34m)\u001b[0m\u001b[0;34m\u001b[0m\u001b[0m\n\u001b[0m\u001b[1;32m     10\u001b[0m \u001b[0mfig\u001b[0m\u001b[0;34m.\u001b[0m\u001b[0mappend_trace\u001b[0m\u001b[0;34m(\u001b[0m\u001b[0mtrace2\u001b[0m\u001b[0;34m,\u001b[0m \u001b[0;36m1\u001b[0m\u001b[0;34m,\u001b[0m \u001b[0;36m2\u001b[0m\u001b[0;34m)\u001b[0m\u001b[0;34m\u001b[0m\u001b[0m\n\u001b[1;32m     11\u001b[0m \u001b[0mfig\u001b[0m\u001b[0;34m.\u001b[0m\u001b[0mappend_trace\u001b[0m\u001b[0;34m(\u001b[0m\u001b[0mtrace3\u001b[0m\u001b[0;34m,\u001b[0m \u001b[0;36m2\u001b[0m\u001b[0;34m,\u001b[0m \u001b[0;36m1\u001b[0m\u001b[0;34m)\u001b[0m\u001b[0;34m\u001b[0m\u001b[0m\n",
      "\u001b[0;32m~/anaconda3/lib/python3.6/site-packages/plotly/basedatatypes.py\u001b[0m in \u001b[0;36mappend_trace\u001b[0;34m(self, trace, row, col)\u001b[0m\n\u001b[1;32m   1222\u001b[0m \"\"\", DeprecationWarning)\n\u001b[1;32m   1223\u001b[0m \u001b[0;34m\u001b[0m\u001b[0m\n\u001b[0;32m-> 1224\u001b[0;31m         \u001b[0mself\u001b[0m\u001b[0;34m.\u001b[0m\u001b[0madd_trace\u001b[0m\u001b[0;34m(\u001b[0m\u001b[0mtrace\u001b[0m\u001b[0;34m=\u001b[0m\u001b[0mtrace\u001b[0m\u001b[0;34m,\u001b[0m \u001b[0mrow\u001b[0m\u001b[0;34m=\u001b[0m\u001b[0mrow\u001b[0m\u001b[0;34m,\u001b[0m \u001b[0mcol\u001b[0m\u001b[0;34m=\u001b[0m\u001b[0mcol\u001b[0m\u001b[0;34m)\u001b[0m\u001b[0;34m\u001b[0m\u001b[0m\n\u001b[0m\u001b[1;32m   1225\u001b[0m \u001b[0;34m\u001b[0m\u001b[0m\n\u001b[1;32m   1226\u001b[0m     \u001b[0;32mdef\u001b[0m \u001b[0m_set_trace_grid_position\u001b[0m\u001b[0;34m(\u001b[0m\u001b[0mself\u001b[0m\u001b[0;34m,\u001b[0m \u001b[0mtrace\u001b[0m\u001b[0;34m,\u001b[0m \u001b[0mrow\u001b[0m\u001b[0;34m,\u001b[0m \u001b[0mcol\u001b[0m\u001b[0;34m)\u001b[0m\u001b[0;34m:\u001b[0m\u001b[0;34m\u001b[0m\u001b[0m\n",
      "\u001b[0;32m~/anaconda3/lib/python3.6/site-packages/plotly/basedatatypes.py\u001b[0m in \u001b[0;36madd_trace\u001b[0;34m(self, trace, row, col)\u001b[0m\n\u001b[1;32m   1069\u001b[0m         return self.add_traces(data=[trace],\n\u001b[1;32m   1070\u001b[0m                                \u001b[0mrows\u001b[0m\u001b[0;34m=\u001b[0m\u001b[0;34m[\u001b[0m\u001b[0mrow\u001b[0m\u001b[0;34m]\u001b[0m \u001b[0;32mif\u001b[0m \u001b[0mrow\u001b[0m \u001b[0;32mis\u001b[0m \u001b[0;32mnot\u001b[0m \u001b[0;32mNone\u001b[0m \u001b[0;32melse\u001b[0m \u001b[0;32mNone\u001b[0m\u001b[0;34m,\u001b[0m\u001b[0;34m\u001b[0m\u001b[0m\n\u001b[0;32m-> 1071\u001b[0;31m                                \u001b[0mcols\u001b[0m\u001b[0;34m=\u001b[0m\u001b[0;34m[\u001b[0m\u001b[0mcol\u001b[0m\u001b[0;34m]\u001b[0m \u001b[0;32mif\u001b[0m \u001b[0mcol\u001b[0m \u001b[0;32mis\u001b[0m \u001b[0;32mnot\u001b[0m \u001b[0;32mNone\u001b[0m \u001b[0;32melse\u001b[0m \u001b[0;32mNone\u001b[0m\u001b[0;34m\u001b[0m\u001b[0m\n\u001b[0m\u001b[1;32m   1072\u001b[0m                                )[0]\n\u001b[1;32m   1073\u001b[0m \u001b[0;34m\u001b[0m\u001b[0m\n",
      "\u001b[0;32m~/anaconda3/lib/python3.6/site-packages/plotly/basedatatypes.py\u001b[0m in \u001b[0;36madd_traces\u001b[0;34m(self, data, rows, cols)\u001b[0m\n\u001b[1;32m   1152\u001b[0m         \u001b[0;32mif\u001b[0m \u001b[0mrows\u001b[0m \u001b[0;32mis\u001b[0m \u001b[0;32mnot\u001b[0m \u001b[0;32mNone\u001b[0m\u001b[0;34m:\u001b[0m\u001b[0;34m\u001b[0m\u001b[0m\n\u001b[1;32m   1153\u001b[0m             \u001b[0;32mfor\u001b[0m \u001b[0mtrace\u001b[0m\u001b[0;34m,\u001b[0m \u001b[0mrow\u001b[0m\u001b[0;34m,\u001b[0m \u001b[0mcol\u001b[0m \u001b[0;32min\u001b[0m \u001b[0mzip\u001b[0m\u001b[0;34m(\u001b[0m\u001b[0mdata\u001b[0m\u001b[0;34m,\u001b[0m \u001b[0mrows\u001b[0m\u001b[0;34m,\u001b[0m \u001b[0mcols\u001b[0m\u001b[0;34m)\u001b[0m\u001b[0;34m:\u001b[0m\u001b[0;34m\u001b[0m\u001b[0m\n\u001b[0;32m-> 1154\u001b[0;31m                 \u001b[0mself\u001b[0m\u001b[0;34m.\u001b[0m\u001b[0m_set_trace_grid_position\u001b[0m\u001b[0;34m(\u001b[0m\u001b[0mtrace\u001b[0m\u001b[0;34m,\u001b[0m \u001b[0mrow\u001b[0m\u001b[0;34m,\u001b[0m \u001b[0mcol\u001b[0m\u001b[0;34m)\u001b[0m\u001b[0;34m\u001b[0m\u001b[0m\n\u001b[0m\u001b[1;32m   1155\u001b[0m \u001b[0;34m\u001b[0m\u001b[0m\n\u001b[1;32m   1156\u001b[0m         \u001b[0;31m# Make deep copy of trace data (Optimize later if needed)\u001b[0m\u001b[0;34m\u001b[0m\u001b[0;34m\u001b[0m\u001b[0m\n",
      "\u001b[0;32m~/anaconda3/lib/python3.6/site-packages/plotly/basedatatypes.py\u001b[0m in \u001b[0;36m_set_trace_grid_position\u001b[0;34m(self, trace, row, col)\u001b[0m\n\u001b[1;32m   1259\u001b[0m                                 \u001b[0;34m\"An axis object for ({r},{c}) subplot \"\u001b[0m\u001b[0;34m\u001b[0m\u001b[0m\n\u001b[1;32m   1260\u001b[0m                                 \"cell got deleted.\".format(r=row, c=col))\n\u001b[0;32m-> 1261\u001b[0;31m             \u001b[0mtrace\u001b[0m\u001b[0;34m[\u001b[0m\u001b[0;34m'xaxis'\u001b[0m\u001b[0;34m]\u001b[0m \u001b[0;34m=\u001b[0m \u001b[0mref\u001b[0m\u001b[0;34m[\u001b[0m\u001b[0;36m0\u001b[0m\u001b[0;34m]\u001b[0m\u001b[0;34m\u001b[0m\u001b[0m\n\u001b[0m\u001b[1;32m   1262\u001b[0m             \u001b[0mtrace\u001b[0m\u001b[0;34m[\u001b[0m\u001b[0;34m'yaxis'\u001b[0m\u001b[0;34m]\u001b[0m \u001b[0;34m=\u001b[0m \u001b[0mref\u001b[0m\u001b[0;34m[\u001b[0m\u001b[0;36m1\u001b[0m\u001b[0;34m]\u001b[0m\u001b[0;34m\u001b[0m\u001b[0m\n\u001b[1;32m   1263\u001b[0m \u001b[0;34m\u001b[0m\u001b[0m\n",
      "\u001b[0;32m~/anaconda3/lib/python3.6/site-packages/plotly/basedatatypes.py\u001b[0m in \u001b[0;36m__setitem__\u001b[0;34m(self, prop, value)\u001b[0m\n\u001b[1;32m   2811\u001b[0m             \u001b[0;31m# ### Validate prop ###\u001b[0m\u001b[0;34m\u001b[0m\u001b[0;34m\u001b[0m\u001b[0m\n\u001b[1;32m   2812\u001b[0m             \u001b[0;32mif\u001b[0m \u001b[0mprop\u001b[0m \u001b[0;32mnot\u001b[0m \u001b[0;32min\u001b[0m \u001b[0mself\u001b[0m\u001b[0;34m.\u001b[0m\u001b[0m_validators\u001b[0m\u001b[0;34m:\u001b[0m\u001b[0;34m\u001b[0m\u001b[0m\n\u001b[0;32m-> 2813\u001b[0;31m                 \u001b[0mself\u001b[0m\u001b[0;34m.\u001b[0m\u001b[0m_raise_on_invalid_property_error\u001b[0m\u001b[0;34m(\u001b[0m\u001b[0mprop\u001b[0m\u001b[0;34m)\u001b[0m\u001b[0;34m\u001b[0m\u001b[0m\n\u001b[0m\u001b[1;32m   2814\u001b[0m \u001b[0;34m\u001b[0m\u001b[0m\n\u001b[1;32m   2815\u001b[0m             \u001b[0;31m# ### Get validator for this property ###\u001b[0m\u001b[0;34m\u001b[0m\u001b[0;34m\u001b[0m\u001b[0m\n",
      "\u001b[0;32m~/anaconda3/lib/python3.6/site-packages/plotly/basedatatypes.py\u001b[0m in \u001b[0;36m_raise_on_invalid_property_error\u001b[0;34m(self, *args)\u001b[0m\n\u001b[1;32m   2994\u001b[0m                                  \u001b[0mfull_obj_name\u001b[0m\u001b[0;34m=\u001b[0m\u001b[0mfull_obj_name\u001b[0m\u001b[0;34m,\u001b[0m\u001b[0;34m\u001b[0m\u001b[0m\n\u001b[1;32m   2995\u001b[0m                                  \u001b[0minvalid_str\u001b[0m\u001b[0;34m=\u001b[0m\u001b[0minvalid_str\u001b[0m\u001b[0;34m,\u001b[0m\u001b[0;34m\u001b[0m\u001b[0m\n\u001b[0;32m-> 2996\u001b[0;31m                                  prop_descriptions=self._prop_descriptions))\n\u001b[0m\u001b[1;32m   2997\u001b[0m \u001b[0;34m\u001b[0m\u001b[0m\n\u001b[1;32m   2998\u001b[0m     \u001b[0;32mdef\u001b[0m \u001b[0mupdate\u001b[0m\u001b[0;34m(\u001b[0m\u001b[0mself\u001b[0m\u001b[0;34m,\u001b[0m \u001b[0mdict1\u001b[0m\u001b[0;34m=\u001b[0m\u001b[0;32mNone\u001b[0m\u001b[0;34m,\u001b[0m \u001b[0;34m**\u001b[0m\u001b[0mkwargs\u001b[0m\u001b[0;34m)\u001b[0m\u001b[0;34m:\u001b[0m\u001b[0;34m\u001b[0m\u001b[0m\n",
      "\u001b[0;31mValueError\u001b[0m: Invalid property specified for object of type plotly.graph_objs.Pie: 'xaxis'\n\n    Valid properties:\n        customdata\n            Assigns extra data each datum. This may be useful when\n            listening to hover, click and selection events. Note\n            that, \"scatter\" traces also appends customdata items in\n            the markers DOM elements\n        customdatasrc\n            Sets the source reference on plot.ly for  customdata .\n        direction\n            Specifies the direction at which succeeding sectors\n            follow one another.\n        dlabel\n            Sets the label step. See `label0` for more info.\n        domain\n            plotly.graph_objs.pie.Domain instance or dict with\n            compatible properties\n        hole\n            Sets the fraction of the radius to cut out of the pie.\n            Use this to make a donut chart.\n        hoverinfo\n            Determines which trace information appear on hover. If\n            `none` or `skip` are set, no information is displayed\n            upon hovering. But, if `none` is set, click and hover\n            events are still fired.\n        hoverinfosrc\n            Sets the source reference on plot.ly for  hoverinfo .\n        hoverlabel\n            plotly.graph_objs.pie.Hoverlabel instance or dict with\n            compatible properties\n        hovertemplate\n            Template string used for rendering the information that\n            appear on hover box. Note that this will override\n            `hoverinfo`. Variables are inserted using %{variable},\n            for example \"y: %{y}\". Numbers are formatted using\n            d3-format's syntax %{variable:d3-format}, for example\n            \"Price: %{y:$.2f}\". See https://github.com/d3/d3-format\n            /blob/master/README.md#locale_format for details on the\n            formatting syntax. The variables available in\n            `hovertemplate` are the ones emitted as event data\n            described at this link\n            https://plot.ly/javascript/plotlyjs-events/#event-data.\n            Additionally, every attributes that can be specified\n            per-point (the ones that are `arrayOk: true`) are\n            available. variables `label`, `color`, `value`,\n            `percent` and `text`. Anything contained in tag\n            `<extra>` is displayed in the secondary box, for\n            example \"<extra>{fullData.name}</extra>\".\n        hovertemplatesrc\n            Sets the source reference on plot.ly for  hovertemplate\n            .\n        hovertext\n            Sets hover text elements associated with each sector.\n            If a single string, the same string appears for all\n            data points. If an array of string, the items are\n            mapped in order of this trace's sectors. To be seen,\n            trace `hoverinfo` must contain a \"text\" flag.\n        hovertextsrc\n            Sets the source reference on plot.ly for  hovertext .\n        ids\n            Assigns id labels to each datum. These ids for object\n            constancy of data points during animation. Should be an\n            array of strings, not numbers or any other type.\n        idssrc\n            Sets the source reference on plot.ly for  ids .\n        insidetextfont\n            Sets the font used for `textinfo` lying inside the pie.\n        label0\n            Alternate to `labels`. Builds a numeric set of labels.\n            Use with `dlabel` where `label0` is the starting label\n            and `dlabel` the step.\n        labels\n            Sets the sector labels. If `labels` entries are\n            duplicated, we sum associated `values` or simply count\n            occurrences if `values` is not provided. For other\n            array attributes (including color) we use the first\n            non-empty entry among all occurrences of the label.\n        labelssrc\n            Sets the source reference on plot.ly for  labels .\n        legendgroup\n            Sets the legend group for this trace. Traces part of\n            the same legend group hide/show at the same time when\n            toggling legend items.\n        marker\n            plotly.graph_objs.pie.Marker instance or dict with\n            compatible properties\n        name\n            Sets the trace name. The trace name appear as the\n            legend item and on hover.\n        opacity\n            Sets the opacity of the trace.\n        outsidetextfont\n            Sets the font used for `textinfo` lying outside the\n            pie.\n        pull\n            Sets the fraction of larger radius to pull the sectors\n            out from the center. This can be a constant to pull all\n            slices apart from each other equally or an array to\n            highlight one or more slices.\n        pullsrc\n            Sets the source reference on plot.ly for  pull .\n        rotation\n            Instead of the first slice starting at 12 o'clock,\n            rotate to some other angle.\n        scalegroup\n            If there are multiple pies that should be sized\n            according to their totals, link them by providing a\n            non-empty group id here shared by every trace in the\n            same group.\n        selectedpoints\n            Array containing integer indices of selected points.\n            Has an effect only for traces that support selections.\n            Note that an empty array means an empty selection where\n            the `unselected` are turned on for all points, whereas,\n            any other non-array values means no selection all where\n            the `selected` and `unselected` styles have no effect.\n        showlegend\n            Determines whether or not an item corresponding to this\n            trace is shown in the legend.\n        sort\n            Determines whether or not the sectors are reordered\n            from largest to smallest.\n        stream\n            plotly.graph_objs.pie.Stream instance or dict with\n            compatible properties\n        text\n            Sets text elements associated with each sector. If\n            trace `textinfo` contains a \"text\" flag, these elements\n            will be seen on the chart. If trace `hoverinfo`\n            contains a \"text\" flag and \"hovertext\" is not set,\n            these elements will be seen in the hover labels.\n        textfont\n            Sets the font used for `textinfo`.\n        textinfo\n            Determines which trace information appear on the graph.\n        textposition\n            Specifies the location of the `textinfo`.\n        textpositionsrc\n            Sets the source reference on plot.ly for  textposition\n            .\n        textsrc\n            Sets the source reference on plot.ly for  text .\n        title\n            plotly.graph_objs.pie.Title instance or dict with\n            compatible properties\n        titlefont\n            Deprecated: Please use pie.title.font instead. Sets the\n            font used for `title`. Note that the title's font used\n            to be set by the now deprecated `titlefont` attribute.\n        titleposition\n            Deprecated: Please use pie.title.position instead.\n            Specifies the location of the `title`. Note that the\n            title's position used to be set by the now deprecated\n            `titleposition` attribute.\n        uid\n\n        uirevision\n            Controls persistence of some user-driven changes to the\n            trace: `constraintrange` in `parcoords` traces, as well\n            as some `editable: true` modifications such as `name`\n            and `colorbar.title`. Defaults to `layout.uirevision`.\n            Note that other user-driven trace attribute changes are\n            controlled by `layout` attributes: `trace.visible` is\n            controlled by `layout.legend.uirevision`,\n            `selectedpoints` is controlled by\n            `layout.selectionrevision`, and `colorbar.(x|y)`\n            (accessible with `config: {editable: true}`) is\n            controlled by `layout.editrevision`. Trace changes are\n            tracked by `uid`, which only falls back on trace index\n            if no `uid` is provided. So if your app can add/remove\n            traces before the end of the `data` array, such that\n            the same trace has a different index, you can still\n            preserve user-driven changes if you give each trace a\n            `uid` that stays with it as it moves.\n        values\n            Sets the values of the sectors of this pie chart. If\n            omitted, we count occurrences of each label.\n        valuessrc\n            Sets the source reference on plot.ly for  values .\n        visible\n            Determines whether or not this trace is visible. If\n            \"legendonly\", the trace is not drawn, but can appear as\n            a legend item (provided that the legend itself is\n            visible).\n        "
     ]
    }
   ],
   "source": [
    "from plotly import tools\n",
    "names = ['minnow', 'sea_bass', 'dolphin', 'whale']\n",
    "size = [minnow, sea_bass, dolphin, whale]\n",
    "\n",
    "\n",
    "\n",
    "fig = tools.make_subplots(rows=2, cols=2, subplot_titles=('Minnow', 'Sea Bass',\n",
    "                                                          'Dolphin', 'Whale'))\n",
    "\n",
    "fig.append_trace(trace1, 1, 1)\n",
    "fig.append_trace(trace2, 1, 2)\n",
    "fig.append_trace(trace3, 2, 1)\n",
    "fig.append_trace(trace4, 2, 2)\n",
    "po.plot(fig, filename='donut.html')"
   ]
  },
  {
   "cell_type": "code",
   "execution_count": 47,
   "metadata": {},
   "outputs": [],
   "source": [
    "df.profit_estimate = pd.to_numeric(df.profit_estimate, errors='coerce')\n",
    "df.year_fvf = pd.to_numeric(df.year_fvf, errors='coerce')"
   ]
  },
  {
   "cell_type": "code",
   "execution_count": 48,
   "metadata": {},
   "outputs": [
    {
     "name": "stdout",
     "output_type": "stream",
     "text": [
      "committed\n",
      "False    116\n",
      "True     605\n",
      "Name: seller_id, dtype: int64\n"
     ]
    }
   ],
   "source": [
    "active = df.groupby('committed').count()\n",
    "print(active.seller_id)"
   ]
  },
  {
   "cell_type": "code",
   "execution_count": 49,
   "metadata": {},
   "outputs": [
    {
     "data": {
      "image/png": "[encoded data removed]",
      "text/plain": [
       "<Figure size 432x288 with 1 Axes>"
      ]
     },
     "metadata": {},
     "output_type": "display_data"
    }
   ],
   "source": [
    "value_order = ['minnow', 'sea_bass', 'dolphin', 'whale']\n",
    "value_em = df.groupby('value_em').count()\n",
    "ax = plt.subplot()\n",
    "fig = sns.barplot(x=value_em.index, y=value_em.seller_id, order=value_order)\n",
    "ax.set_title(\"Number of Sellers By Value\")\n",
    "ax.set_ylabel(\"# of Sellers\")\n",
    "\n",
    "fig_1 = fig.get_figure()\n",
    "fig_1.savefig('parts_sellers_by_value.png')\n",
    "\n",
    "\n"
   ]
  },
  {
   "cell_type": "code",
   "execution_count": 50,
   "metadata": {},
   "outputs": [
    {
     "name": "stderr",
     "output_type": "stream",
     "text": [
      "/Users/kevin/anaconda3/lib/python3.6/site-packages/matplotlib/axes/_axes.py:6448: UserWarning:\n",
      "\n",
      "The 'normed' kwarg is deprecated, and has been replaced by the 'density' kwarg.\n",
      "\n"
     ]
    },
    {
     "data": {
      "image/png": "[encoded data removed]",
      "text/plain": [
       "<Figure size 432x288 with 1 Axes>"
      ]
     },
     "metadata": {},
     "output_type": "display_data"
    }
   ],
   "source": [
    "with_sales = df[df.sales > 0]\n",
    "without_sales = df[df.sales < 1]\n",
    "\n",
    "sns.distplot(with_sales.profit_estimate, bins=100)\n",
    "plt.xlim(-1000, 5000)\n",
    "plt.show()"
   ]
  },
  {
   "cell_type": "code",
   "execution_count": 51,
   "metadata": {},
   "outputs": [],
   "source": [
    "top_sellers_fvf = df.sort_values('year_fvf', ascending=False)[:10]\n"
   ]
  },
  {
   "cell_type": "code",
   "execution_count": 52,
   "metadata": {},
   "outputs": [],
   "source": [
    "state_df_sum = df.groupby('state').sum()\n",
    "state_df_count = df.groupby('state').count()\n",
    "\n",
    "scl = [[0.0, 'rgb(242,240,247)'],[0.2, 'rgb(218,218,235)'],[0.4, 'rgb(188,189,220)'],\\\n",
    "            [0.6, 'rgb(158,154,200)'],[0.8, 'rgb(117,107,177)'],[1.0, 'rgb(84,39,143)']]\n",
    "\n",
    "#state_df['text'] = (state_df_sum.profit_estimate + '<br>' + state_df_count.seller_id)\n",
    " #   'Beef '+df['beef']+' Dairy '+df['dairy']+'<br>'+\\\n",
    "  #  'Fruits '+df['total fruits']+' Veggies ' + df['total veggies']+'<br>'+\\\n",
    "   # 'Wheat '+df['wheat']+' Corn '+df['corn']\n",
    "\n"
   ]
  },
  {
   "cell_type": "code",
   "execution_count": 53,
   "metadata": {},
   "outputs": [
    {
     "data": {
      "text/plain": [
       "'file:///Users/kevin/data_analysis/d3-cloropleth-map.html'"
      ]
     },
     "execution_count": 53,
     "metadata": {},
     "output_type": "execute_result"
    }
   ],
   "source": [
    "data = [ dict(\n",
    "        type='choropleth',\n",
    "        colorscale = scl,\n",
    "        autocolorscale = False,\n",
    "        locations = state_df_sum.index,\n",
    "        z = state_df_sum.profit_estimate.astype(float),\n",
    "        locationmode = 'USA-states',\n",
    "        text = state_df_count.seller_id,\n",
    "        marker = dict(\n",
    "            line = dict (\n",
    "                color = 'rgb(255,255,255)',\n",
    "                width = 2\n",
    "            ) ),\n",
    "        colorbar = dict(\n",
    "            title = \"Profit Estimate\")\n",
    "        ) ]\n",
    "\n",
    "layout = dict(\n",
    "        title = 'Profit Estimate Per State',\n",
    "        geo = dict(\n",
    "            scope='usa',\n",
    "            projection=dict( type='albers usa' ),\n",
    "            showlakes = True,\n",
    "            lakecolor = 'rgb(255, 255, 255)'),\n",
    "             )\n",
    "    \n",
    "fig = dict( data=data, layout=layout )\n",
    "po.plot( fig, filename='d3-cloropleth-map.html' )"
   ]
  },
  {
   "cell_type": "code",
   "execution_count": 55,
   "metadata": {},
   "outputs": [
    {
     "data": {
      "text/plain": [
       "(0, 1500)"
      ]
     },
     "execution_count": 55,
     "metadata": {},
     "output_type": "execute_result"
    },
    {
     "data": {
      "image/png": "[encoded data removed]",
      "text/plain": [
       "<Figure size 432x288 with 1 Axes>"
      ]
     },
     "metadata": {},
     "output_type": "display_data"
    }
   ],
   "source": [
    "top_sources = ['direct', 'organic', 'google_text_ad', 'email']\n",
    "\n",
    "source_em = df[df.source_em.isin(top_sources)]\n",
    "    \n",
    "sns.boxplot(x=source_em.source_em, y=source_em.year_fvf)\n",
    "plt.ylim(0,1500)\n",
    "\n"
   ]
  },
  {
   "cell_type": "code",
   "execution_count": 64,
   "metadata": {},
   "outputs": [
    {
     "ename": "AttributeError",
     "evalue": "'Series' object has no attribute 'year'",
     "output_type": "error",
     "traceback": [
      "\u001b[0;31m---------------------------------------------------------------------------\u001b[0m",
      "\u001b[0;31mAttributeError\u001b[0m                            Traceback (most recent call last)",
      "\u001b[0;32m<ipython-input-64-243d6cbd092f>\u001b[0m in \u001b[0;36m<module>\u001b[0;34m()\u001b[0m\n\u001b[0;32m----> 1\u001b[0;31m \u001b[0myear\u001b[0m \u001b[0;34m=\u001b[0m \u001b[0mdf\u001b[0m\u001b[0;34m.\u001b[0m\u001b[0mgroupby\u001b[0m\u001b[0;34m(\u001b[0m\u001b[0mdf\u001b[0m\u001b[0;34m.\u001b[0m\u001b[0mbooth_created\u001b[0m\u001b[0;34m.\u001b[0m\u001b[0myear\u001b[0m\u001b[0;34m)\u001b[0m\u001b[0;34m.\u001b[0m\u001b[0msum\u001b[0m\u001b[0;34m(\u001b[0m\u001b[0;34m)\u001b[0m\u001b[0;34m\u001b[0m\u001b[0m\n\u001b[0m\u001b[1;32m      2\u001b[0m \u001b[0mprint\u001b[0m\u001b[0;34m(\u001b[0m\u001b[0myear\u001b[0m\u001b[0;34m)\u001b[0m\u001b[0;34m\u001b[0m\u001b[0m\n",
      "\u001b[0;32m~/anaconda3/lib/python3.6/site-packages/pandas/core/generic.py\u001b[0m in \u001b[0;36m__getattr__\u001b[0;34m(self, name)\u001b[0m\n\u001b[1;32m   3612\u001b[0m             \u001b[0;32mif\u001b[0m \u001b[0mname\u001b[0m \u001b[0;32min\u001b[0m \u001b[0mself\u001b[0m\u001b[0;34m.\u001b[0m\u001b[0m_info_axis\u001b[0m\u001b[0;34m:\u001b[0m\u001b[0;34m\u001b[0m\u001b[0m\n\u001b[1;32m   3613\u001b[0m                 \u001b[0;32mreturn\u001b[0m \u001b[0mself\u001b[0m\u001b[0;34m[\u001b[0m\u001b[0mname\u001b[0m\u001b[0;34m]\u001b[0m\u001b[0;34m\u001b[0m\u001b[0m\n\u001b[0;32m-> 3614\u001b[0;31m             \u001b[0;32mreturn\u001b[0m \u001b[0mobject\u001b[0m\u001b[0;34m.\u001b[0m\u001b[0m__getattribute__\u001b[0m\u001b[0;34m(\u001b[0m\u001b[0mself\u001b[0m\u001b[0;34m,\u001b[0m \u001b[0mname\u001b[0m\u001b[0;34m)\u001b[0m\u001b[0;34m\u001b[0m\u001b[0m\n\u001b[0m\u001b[1;32m   3615\u001b[0m \u001b[0;34m\u001b[0m\u001b[0m\n\u001b[1;32m   3616\u001b[0m     \u001b[0;32mdef\u001b[0m \u001b[0m__setattr__\u001b[0m\u001b[0;34m(\u001b[0m\u001b[0mself\u001b[0m\u001b[0;34m,\u001b[0m \u001b[0mname\u001b[0m\u001b[0;34m,\u001b[0m \u001b[0mvalue\u001b[0m\u001b[0;34m)\u001b[0m\u001b[0;34m:\u001b[0m\u001b[0;34m\u001b[0m\u001b[0m\n",
      "\u001b[0;31mAttributeError\u001b[0m: 'Series' object has no attribute 'year'"
     ]
    }
   ],
   "source": [
    "year = df.groupby(df.booth_created.year).sum()\n",
    "print(year)"
   ]
  },
  {
   "cell_type": "code",
   "execution_count": null,
   "metadata": {},
   "outputs": [],
   "source": []
  }
 ],
 "metadata": {
  "kernelspec": {
   "display_name": "Python 3",
   "language": "python",
   "name": "python3"
  },
  "language_info": {
   "codemirror_mode": {
    "name": "ipython",
    "version": 3
   },
   "file_extension": ".py",
   "mimetype": "text/x-python",
   "name": "python",
   "nbconvert_exporter": "python",
   "pygments_lexer": "ipython3",
   "version": "3.6.4"
  }
 },
 "nbformat": 4,
 "nbformat_minor": 2
}
