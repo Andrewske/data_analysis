{
 "cells": [
  {
   "cell_type": "code",
   "execution_count": 5,
   "metadata": {},
   "outputs": [],
   "source": [
    "import os\n",
    "import pandas as pd\n",
    "from matplotlib import pyplot as plt\n",
    "import numpy as np\n",
    "import seaborn as sns\n",
    "import cufflinks as cf\n",
    "\n",
    "import plotly.plotly as py\n",
    "import plotly.tools as tls\n",
    "import plotly.graph_objs as go\n",
    "import plotly.offline as po\n",
    "\n",
    "orig_df = pd.read_csv(\"winning_booths_data.csv\")\n",
    "\n",
    "top_categories = ['No Category', 'Fashion', 'Home & Garden', 'Health & Beauty', 'Parts & Accessories', 'Jewelry & Watches']\n",
    "df = orig_df[orig_df.featured_category_id.isin(top_categories)]\n",
    "value_em = [whale, dolphin, sea_bass, minnow]"
   ]
  },
  {
   "cell_type": "code",
   "execution_count": 6,
   "metadata": {},
   "outputs": [],
   "source": [
    "tls.set_credentials_file(username='kevinbigfoot',api_key='fC6dwyjUkFPLiUxzMkw8')\n"
   ]
  },
  {
   "cell_type": "code",
   "execution_count": 7,
   "metadata": {
    "scrolled": true
   },
   "outputs": [],
   "source": [
    "whale = df[df.value_em == 'WHALE']\n",
    "minnow = df[df.value_em == 'MINNOW']\n",
    "sea_bass = df[df.value_em == 'SEA_BASS']\n",
    "dolphin = df[df.value_em == 'DOLPHIN']\n",
    "\n"
   ]
  },
  {
   "cell_type": "code",
   "execution_count": 8,
   "metadata": {},
   "outputs": [],
   "source": [
    "size = 1000\n",
    "for value in value_em:\n",
    "    if len(value) < size:\n",
    "        size = len(value)\n",
    "\n",
    "sample_whale = whale.sample(size)\n",
    "sample_dolphin = dolphin.sample(size)\n",
    "sample_sea_bass = sea_bass.sample(size)\n",
    "sample_minnow = minnow.sample(size)"
   ]
  },
  {
   "cell_type": "code",
   "execution_count": 9,
   "metadata": {
    "scrolled": true
   },
   "outputs": [
    {
     "data": {
      "text/plain": [
       "Index(['id', 'profit_estimate', 'days_to_sale', 'days_as_user',\n",
       "       'profit_per_day', 'orders', 'd_per_order', 'source_em',\n",
       "       'items_for_sale', 'view_count', 'offers', 'membership_level',\n",
       "       'feedback', 'rate', 'rating'],\n",
       "      dtype='object')"
      ]
     },
     "execution_count": 9,
     "metadata": {},
     "output_type": "execute_result"
    }
   ],
   "source": [
    "whale = sample_whale.groupby(['featured_category_id']).sum()\n",
    "dolphin = sample_dolphin.groupby(['featured_category_id']).sum()\n",
    "sea_bass = sample_sea_bass.groupby(['featured_category_id']).sum()\n",
    "minnow = sample_minnow.groupby(['featured_category_id']).sum()\n",
    "whale.columns"
   ]
  },
  {
   "cell_type": "code",
   "execution_count": 92,
   "metadata": {},
   "outputs": [],
   "source": [
    "whale_pd = whale[['profit_per_day', 'days_as_user']]"
   ]
  },
  {
   "cell_type": "code",
   "execution_count": 35,
   "metadata": {},
   "outputs": [
    {
     "data": {
      "text/plain": [
       "'https://plot.ly/~kevinbigfoot/6'"
      ]
     },
     "execution_count": 35,
     "metadata": {},
     "output_type": "execute_result"
    }
   ],
   "source": [
    "#simple line chart\n",
    "py.plot([{\n",
    "    'x' : whale.index,\n",
    "    'y' : whale.profit_estimate\n",
    "}])"
   ]
  },
  {
   "cell_type": "code",
   "execution_count": 37,
   "metadata": {},
   "outputs": [
    {
     "ename": "NameError",
     "evalue": "name 'orders_pd' is not defined",
     "output_type": "error",
     "traceback": [
      "\u001b[0;31m---------------------------------------------------------------------------\u001b[0m",
      "\u001b[0;31mNameError\u001b[0m                                 Traceback (most recent call last)",
      "\u001b[0;32m<ipython-input-37-667308e36ded>\u001b[0m in \u001b[0;36m<module>\u001b[0;34m\u001b[0m\n\u001b[1;32m      2\u001b[0m     \u001b[0;34m'x'\u001b[0m \u001b[0;34m:\u001b[0m \u001b[0mwhale_pd\u001b[0m\u001b[0;34m.\u001b[0m\u001b[0mindex\u001b[0m\u001b[0;34m,\u001b[0m\u001b[0;34m\u001b[0m\u001b[0;34m\u001b[0m\u001b[0m\n\u001b[1;32m      3\u001b[0m     \u001b[0;34m'y'\u001b[0m \u001b[0;34m:\u001b[0m \u001b[0mwhale_pd\u001b[0m\u001b[0;34m[\u001b[0m\u001b[0mcol\u001b[0m\u001b[0;34m]\u001b[0m\u001b[0;34m\u001b[0m\u001b[0;34m\u001b[0m\u001b[0m\n\u001b[0;32m----> 4\u001b[0;31m } for col in orders_pd.columns])\n\u001b[0m",
      "\u001b[0;31mNameError\u001b[0m: name 'orders_pd' is not defined"
     ]
    }
   ],
   "source": [
    "#2 columns line chart\n",
    "py.plot([{\n",
    "    'x' : whale_pd.index,\n",
    "    'y' : whale_pd[col]\n",
    "} for col in whale_pd.columns])"
   ]
  },
  {
   "cell_type": "code",
   "execution_count": 12,
   "metadata": {},
   "outputs": [],
   "source": [
    "#Simple Scatter Plot\n",
    "data = [go.Scatter(\n",
    "    x = df.days_as_user,\n",
    "    y = df.profit_per_day,\n",
    "    mode = 'markers',\n",
    "    marker = dict(\n",
    "        size=14,\n",
    "        color = 'rgb(120,150,180)',\n",
    "        symbol = 'square',\n",
    "        line = dict(\n",
    "            width=2,\n",
    "        )\n",
    "    )\n",
    "    )]"
   ]
  },
  {
   "cell_type": "code",
   "execution_count": null,
   "metadata": {},
   "outputs": [],
   "source": []
  }
 ],
 "metadata": {
  "kernelspec": {
   "display_name": "Python 3",
   "language": "python",
   "name": "python3"
  },
  "language_info": {
   "codemirror_mode": {
    "name": "ipython",
    "version": 3
   },
   "file_extension": ".py",
   "mimetype": "text/x-python",
   "name": "python",
   "nbconvert_exporter": "python",
   "pygments_lexer": "ipython3",
   "version": "3.6.6"
  }
 },
 "nbformat": 4,
 "nbformat_minor": 2
}
